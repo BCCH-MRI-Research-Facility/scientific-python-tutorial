{
 "cells": [
  {
   "cell_type": "markdown",
   "metadata": {},
   "source": [
    "# UBC MRI Research Python Workshop 2\n",
    "\n",
    "## August 22 2017\n",
    "\n",
    "\n",
    "\n",
    "1. Higher dimension numpy arrays\n",
    "    * Indexing\n",
    "    * Slicing\n",
    "    * Boolean Masks\n",
    "        * Exercise: Mask one array with another array of the same shape\n",
    "   \n",
    "2. Object-oriented programing\n",
    "    * Writing classes\n",
    "    * Initializing and manipulating objects\n",
    "        * Exercise: Create an Image class\n",
    "        \n",
    "3. Matplotlib plotting\n",
    "    * Plotting the object-oriented way\n",
    "    * Changing plot attributes\n",
    "    * Subplots\n",
    "        * Exercise: Plot a 2D image\n",
    "        \n",
    "4. Curve fitting\n",
    "    * Linear transform\n",
    "        * Exercise: scipy.optimize.curve_fit()\n",
    "        \n",
    "5. Pandas\n",
    "    * Importing and examining dataframes\n",
    "    * Indexing dataframes\n",
    "    * Condition indexing\n",
    "    * Plotting\n",
    "        * Exercise: Vancouver Open Data Catalogue\n",
    "    "
   ]
  },
  {
   "cell_type": "markdown",
   "metadata": {},
   "source": [
    "## Numpy indexing\n",
    "\n",
    "https://docs.scipy.org/doc/numpy/reference/arrays.indexing.html"
   ]
  },
  {
   "cell_type": "code",
   "execution_count": null,
   "metadata": {
    "collapsed": true
   },
   "outputs": [],
   "source": [
    "arr = np.random.randint(0,100,(8,8))"
   ]
  },
  {
   "cell_type": "code",
   "execution_count": null,
   "metadata": {
    "collapsed": true
   },
   "outputs": [],
   "source": [
    "print(arr)\n",
    "print(arr.shape)"
   ]
  },
  {
   "cell_type": "code",
   "execution_count": null,
   "metadata": {
    "collapsed": true
   },
   "outputs": [],
   "source": [
    "arr[1,2]"
   ]
  },
  {
   "cell_type": "code",
   "execution_count": null,
   "metadata": {
    "collapsed": true
   },
   "outputs": [],
   "source": [
    "arr[1]"
   ]
  },
  {
   "cell_type": "code",
   "execution_count": null,
   "metadata": {
    "collapsed": true
   },
   "outputs": [],
   "source": [
    "arr[1:6,2]"
   ]
  },
  {
   "cell_type": "code",
   "execution_count": null,
   "metadata": {
    "collapsed": true
   },
   "outputs": [],
   "source": [
    "arr[1:,2]"
   ]
  },
  {
   "cell_type": "code",
   "execution_count": null,
   "metadata": {
    "collapsed": true
   },
   "outputs": [],
   "source": [
    "arr[:,2]"
   ]
  },
  {
   "cell_type": "code",
   "execution_count": null,
   "metadata": {
    "collapsed": true
   },
   "outputs": [],
   "source": [
    "arr[1:6:2,2]"
   ]
  },
  {
   "cell_type": "markdown",
   "metadata": {},
   "source": [
    "### Slicing summary: (start:stop:step)"
   ]
  },
  {
   "cell_type": "code",
   "execution_count": null,
   "metadata": {
    "collapsed": true
   },
   "outputs": [],
   "source": [
    "arr[1::2,2]"
   ]
  },
  {
   "cell_type": "code",
   "execution_count": null,
   "metadata": {
    "collapsed": true
   },
   "outputs": [],
   "source": [
    "arr[::-1,2]"
   ]
  },
  {
   "cell_type": "markdown",
   "metadata": {},
   "source": [
    "### Boolean masks"
   ]
  },
  {
   "cell_type": "code",
   "execution_count": null,
   "metadata": {
    "collapsed": true
   },
   "outputs": [],
   "source": [
    "arr == 19"
   ]
  },
  {
   "cell_type": "code",
   "execution_count": null,
   "metadata": {
    "collapsed": true
   },
   "outputs": [],
   "source": [
    "arr > 19"
   ]
  },
  {
   "cell_type": "code",
   "execution_count": null,
   "metadata": {
    "collapsed": true
   },
   "outputs": [],
   "source": [
    "arr[arr > 19]"
   ]
  },
  {
   "cell_type": "code",
   "execution_count": null,
   "metadata": {
    "collapsed": true
   },
   "outputs": [],
   "source": [
    "arr[]"
   ]
  },
  {
   "cell_type": "markdown",
   "metadata": {},
   "source": [
    "## Exercise: Mask one array with another array of the same shape\n",
    "* Create two arrays with random digits\n",
    "* Find all entries in array 1 where array 2 is larger than N\n",
    "* Take the mean of the result\n",
    "\n",
    "Options\n",
    "* Investigate the different ways to create random arrays in numpy\n",
    "* Take the threshold N as the 90th percentile of array 2"
   ]
  },
  {
   "cell_type": "code",
   "execution_count": null,
   "metadata": {
    "collapsed": true
   },
   "outputs": [],
   "source": []
  },
  {
   "cell_type": "code",
   "execution_count": null,
   "metadata": {
    "collapsed": true
   },
   "outputs": [],
   "source": []
  },
  {
   "cell_type": "markdown",
   "metadata": {},
   "source": [
    "## Higher dimensional arrays"
   ]
  },
  {
   "cell_type": "code",
   "execution_count": null,
   "metadata": {
    "collapsed": true
   },
   "outputs": [],
   "source": [
    "arr3d = np.random.randint(0,100,(512,512,48))"
   ]
  },
  {
   "cell_type": "code",
   "execution_count": null,
   "metadata": {
    "collapsed": true
   },
   "outputs": [],
   "source": [
    "arr3d.shape"
   ]
  },
  {
   "cell_type": "code",
   "execution_count": null,
   "metadata": {
    "collapsed": true
   },
   "outputs": [],
   "source": [
    "myslice = arr3d[:,:,20]"
   ]
  },
  {
   "cell_type": "code",
   "execution_count": null,
   "metadata": {
    "collapsed": true
   },
   "outputs": [],
   "source": [
    "myslice.shape"
   ]
  },
  {
   "cell_type": "code",
   "execution_count": null,
   "metadata": {
    "collapsed": true
   },
   "outputs": [],
   "source": [
    "myslices = arr3d[:,:,::2]"
   ]
  },
  {
   "cell_type": "code",
   "execution_count": null,
   "metadata": {
    "collapsed": true
   },
   "outputs": [],
   "source": [
    "myslices.shape"
   ]
  },
  {
   "cell_type": "code",
   "execution_count": null,
   "metadata": {
    "collapsed": true
   },
   "outputs": [],
   "source": [
    "arr4d = np.random.randint(0,100,(512,512,48,32))"
   ]
  },
  {
   "cell_type": "code",
   "execution_count": null,
   "metadata": {
    "collapsed": true
   },
   "outputs": [],
   "source": [
    "arr4d.shape"
   ]
  },
  {
   "cell_type": "markdown",
   "metadata": {},
   "source": [
    "## Exercise: Take the mean across the 4th dimension (temporal averaging)"
   ]
  },
  {
   "cell_type": "code",
   "execution_count": null,
   "metadata": {
    "collapsed": true
   },
   "outputs": [],
   "source": [
    "arr_tempmean = arr4d.mean(axis=3)"
   ]
  },
  {
   "cell_type": "code",
   "execution_count": null,
   "metadata": {
    "collapsed": true
   },
   "outputs": [],
   "source": [
    "arr_tempmean.shape"
   ]
  },
  {
   "cell_type": "markdown",
   "metadata": {},
   "source": [
    "## Classes and Objects\n",
    "\n",
    "Classes are a smart way to organize your code. Instead of looping funtions, define a class to describe subjects, timepoints, events, etc and give the class attributes and methods.\n",
    "\n",
    "Our first class will describe a subject in our study. Our class will be called \"Subject\", and it's only attribute will be the subject ID of a given subject."
   ]
  },
  {
   "cell_type": "code",
   "execution_count": null,
   "metadata": {
    "collapsed": true
   },
   "outputs": [],
   "source": [
    "class Subject():\n",
    "    pass"
   ]
  },
  {
   "cell_type": "code",
   "execution_count": null,
   "metadata": {
    "collapsed": true
   },
   "outputs": [],
   "source": [
    "sub1 = Subject()"
   ]
  },
  {
   "cell_type": "code",
   "execution_count": null,
   "metadata": {
    "collapsed": true
   },
   "outputs": [],
   "source": [
    "sub1.subID = 'sub001'"
   ]
  },
  {
   "cell_type": "markdown",
   "metadata": {},
   "source": [
    "Let's give the class some information when it's first called"
   ]
  },
  {
   "cell_type": "code",
   "execution_count": null,
   "metadata": {
    "collapsed": true
   },
   "outputs": [],
   "source": [
    "class Subject():\n",
    "    def __init__(self,subID):\n",
    "        self.subID = subID\n",
    "        "
   ]
  },
  {
   "cell_type": "markdown",
   "metadata": {},
   "source": [
    "`__init__` is a special method. It is automatically called when the object is created. The first argument to `__init__` is always \"self\". \"self\" gives a method access to all the attributes of the object. Any other arguments are passed to the object when it is created, like when you run a subject.\n",
    "\n",
    "With this simple class definition, we can create subject objects, pass subject IDs on creation, then access the subject ID on demand."
   ]
  },
  {
   "cell_type": "code",
   "execution_count": null,
   "metadata": {
    "collapsed": true
   },
   "outputs": [],
   "source": [
    "sub1 = Subject('01')"
   ]
  },
  {
   "cell_type": "code",
   "execution_count": null,
   "metadata": {
    "collapsed": true
   },
   "outputs": [],
   "source": [
    "sub2 = Subject('02')"
   ]
  },
  {
   "cell_type": "code",
   "execution_count": null,
   "metadata": {
    "collapsed": true
   },
   "outputs": [],
   "source": [
    "sub1.subID"
   ]
  },
  {
   "cell_type": "code",
   "execution_count": null,
   "metadata": {
    "collapsed": true
   },
   "outputs": [],
   "source": [
    "sub2.subID"
   ]
  },
  {
   "cell_type": "markdown",
   "metadata": {},
   "source": [
    "Let's expand the class to add some additional attributes, and a method which modifies those attributes"
   ]
  },
  {
   "cell_type": "code",
   "execution_count": null,
   "metadata": {
    "collapsed": true
   },
   "outputs": [],
   "source": [
    "class Subject():\n",
    "    def __init__(self,subID,data,date):\n",
    "        self.subID = subID\n",
    "        self.data = data\n",
    "        self.date = date\n",
    "        self.isclean = False\n",
    "        \n",
    "    def cleandata(self):\n",
    "        # Set any negative values to zero\n",
    "        self.data = [ 0 if x<0 else x for x in self.data ]\n",
    "        self.isclean = True"
   ]
  },
  {
   "cell_type": "code",
   "execution_count": null,
   "metadata": {
    "collapsed": true
   },
   "outputs": [],
   "source": [
    "sub3 = Subject('03',[-2,-1,0,1,2,3,4,5],'2017-08-20')"
   ]
  },
  {
   "cell_type": "code",
   "execution_count": null,
   "metadata": {
    "collapsed": true
   },
   "outputs": [],
   "source": [
    "print(sub3.subID,sub3.data,sub3.date)"
   ]
  },
  {
   "cell_type": "code",
   "execution_count": null,
   "metadata": {
    "collapsed": true
   },
   "outputs": [],
   "source": [
    "sub3.cleandata()"
   ]
  },
  {
   "cell_type": "code",
   "execution_count": null,
   "metadata": {
    "collapsed": true
   },
   "outputs": [],
   "source": [
    "sub3.data"
   ]
  },
  {
   "cell_type": "code",
   "execution_count": null,
   "metadata": {
    "collapsed": true
   },
   "outputs": [],
   "source": [
    "sub3.isclean"
   ]
  },
  {
   "cell_type": "markdown",
   "metadata": {},
   "source": [
    "Finally, let's do some data validation. \n",
    "\n",
    "In the constructor, we'll check whether \"data\" is a list. If not we'll raise an error.\n",
    "\n",
    "We'll also convert the \"date\" string into a date object that python understands.\n",
    "\n",
    "Let's imagine that there was a calibration error for all data collected in 2016, so we need to increase all data values by 1 for dates in 2016 but not in 2017. We can add this to the cleandata() method."
   ]
  },
  {
   "cell_type": "code",
   "execution_count": null,
   "metadata": {
    "collapsed": true
   },
   "outputs": [],
   "source": [
    "from datetime import datetime\n",
    "\n",
    "class Subject():\n",
    "    def __init__(self,subID,data,date):\n",
    "        # Check that data is a list\n",
    "        if type(data) != list:\n",
    "            raise ValueError(\"Argument data must be type 'list'\")\n",
    "        self.subID = subID\n",
    "        self.data = data\n",
    "        # Make the date attribute a python date\n",
    "        self.date = datetime.strptime(date,'%Y-%m-%d')\n",
    "        self.isclean = False\n",
    "        \n",
    "    def cleandata(self):\n",
    "        # Set any negative values to zero\n",
    "        self.data = [ 0 if x<0 else x for x in self.data ]\n",
    "        self.isclean = True\n",
    "        \n",
    "        # Recalibrate data if collected in 2016\n",
    "        if self.date.year == 2016:\n",
    "            self.data = [x+1 for x in self.data]\n",
    "            \n",
    "    "
   ]
  },
  {
   "cell_type": "markdown",
   "metadata": {},
   "source": [
    "First, let's make a new subject but pass the wrong type of data:"
   ]
  },
  {
   "cell_type": "code",
   "execution_count": null,
   "metadata": {
    "collapsed": true
   },
   "outputs": [],
   "source": [
    "sub4 = Subject('04','-2,-1,0,1,2,3,4,5','2017-08-20')"
   ]
  },
  {
   "cell_type": "markdown",
   "metadata": {},
   "source": [
    "Now let's create two subjects with identical data, but with acquisition dates in different years"
   ]
  },
  {
   "cell_type": "code",
   "execution_count": null,
   "metadata": {
    "collapsed": true
   },
   "outputs": [],
   "source": [
    "sub5 = Subject('05',[-2,-1,0,1,2,3,4,5],'2016-05-11')\n",
    "sub6 = Subject('06',[-2,-1,0,1,2,3,4,5],'2017-05-11')"
   ]
  },
  {
   "cell_type": "code",
   "execution_count": null,
   "metadata": {
    "collapsed": true
   },
   "outputs": [],
   "source": [
    "if (not sub5.isclean) and (not sub6.isclean):\n",
    "    sub5.cleandata()\n",
    "    sub6.cleandata()"
   ]
  },
  {
   "cell_type": "code",
   "execution_count": null,
   "metadata": {
    "collapsed": true
   },
   "outputs": [],
   "source": [
    "print('Subject {}: {}'.format(sub5.subID,sub5.data))\n",
    "print('Subject {}: {}'.format(sub6.subID,sub6.data))"
   ]
  },
  {
   "cell_type": "markdown",
   "metadata": {},
   "source": [
    "## Class inheritence\n",
    "\n",
    "Classes can inherit from each other. So, you can write a general Subject class that contains all the typical attributes of a research subject, then write a sub-class to customize it for your specific study"
   ]
  },
  {
   "cell_type": "code",
   "execution_count": null,
   "metadata": {
    "collapsed": true
   },
   "outputs": [],
   "source": [
    "class MRISubject(Subject):\n",
    "    pass"
   ]
  },
  {
   "cell_type": "markdown",
   "metadata": {},
   "source": [
    "The above class inherits everything from the Subject class and adds nothing. We can do better! Let's add an attribute that's a list of scans acquired for this subject.\n",
    "\n",
    "To do this, we need to modify the __init__ command. If we wanted, we could just write a new definition of __init__; but that would lose the work we did in the base class. Instead, we will define a new __init__ but bring in all the attributes from the base class as well.\n",
    "\n",
    "Another change we will make is that the new attribut `scans` will be optional. We do this by assigning a default values in the __init__ definition. When this is done, the use can either set the value of scans themself or leave it blank."
   ]
  },
  {
   "cell_type": "code",
   "execution_count": null,
   "metadata": {
    "collapsed": true
   },
   "outputs": [],
   "source": [
    "class MRISubject(Subject):\n",
    "    def __init__(self,subID,data,date,scans=None):\n",
    "        # This super() function is magic. It copies in everything from the __init__ function of the base class\n",
    "        super().__init__(subID,data,date)\n",
    "        self.scans = scans"
   ]
  },
  {
   "cell_type": "code",
   "execution_count": null,
   "metadata": {
    "collapsed": true
   },
   "outputs": [],
   "source": [
    "mrisub = MRISubject('09',[1,2,3,4,5],'2017-01-10',scans=['DTI','3DT1','T2GRASE'])"
   ]
  },
  {
   "cell_type": "code",
   "execution_count": null,
   "metadata": {
    "collapsed": true
   },
   "outputs": [],
   "source": [
    "mrisub.scans"
   ]
  },
  {
   "cell_type": "markdown",
   "metadata": {},
   "source": [
    "## \\*args and \\*\\*kwargs (optional)\n",
    "We can generalize function inputs so that we don't have to type out all the inputs to the __init__ function (or any funtion) every time. Instead, we can use \\*args and \\*\\*kwargs\n",
    "\n",
    "```def myfunction(*args,**kwargs):\n",
    "    input1 = args[0]\n",
    "    ...\n",
    "    opt_input1 = kwargs['key1']\n",
    "    ...\n",
    "```\n",
    "\n",
    "\n",
    "The single star bundles up all mandatory arguments into a list called `args`. The double star bundles up all optional arguments into a dictionary called `kwargs` with key:value pairs. The actual variable names \"args\" and \"kwargs\" can be anything you want, but are used by convention. Let's use this concept to simplify our class inputs."
   ]
  },
  {
   "cell_type": "code",
   "execution_count": null,
   "metadata": {
    "collapsed": true
   },
   "outputs": [],
   "source": [
    "class MRISubject(Subject):\n",
    "    def __init__(self,*args,**kwargs):\n",
    "        # This super() function is magic. It copies in everything from the __init__ function of the base class\n",
    "        super().__init__(*args)\n",
    "        self.scans = kwargs['scans']"
   ]
  },
  {
   "cell_type": "code",
   "execution_count": null,
   "metadata": {
    "collapsed": true
   },
   "outputs": [],
   "source": [
    "mrisub = MRISubject('09',[1,2,3,4,5],'2017-01-10',scans=['DTI','3DT1','T2GRASE','ASL'])"
   ]
  },
  {
   "cell_type": "code",
   "execution_count": null,
   "metadata": {
    "collapsed": true
   },
   "outputs": [],
   "source": [
    "mrisub.scans"
   ]
  },
  {
   "cell_type": "markdown",
   "metadata": {},
   "source": [
    "## Exercise: Image Object\n",
    "\n",
    "Create a class that defines a 3D image object. \n",
    "* Define a class called something like Image\n",
    "* Give the class an attribute called \"header\" that is a dictionary of image properties\n",
    "* Write a method called \"generate_image()\" or similar that generates a 3D matrix of random values and assigns it as an attribute\n",
    "* Write a method called \"generate_mask()\" that generates a 3D matrix of the same size as your first image. The mask should be all zeros except for a region of ones. Your mask can be simple or complex. Assign the mask as an attribute\n",
    "* Write a method that takes the mean of the image matrix where mask values are 1\n",
    "\n",
    "Things to think about:\n",
    "* Which methods should be run automatically, and which should the user call?\n",
    "* What other methods can we write?"
   ]
  },
  {
   "cell_type": "code",
   "execution_count": null,
   "metadata": {
    "collapsed": true
   },
   "outputs": [],
   "source": [
    "class Image():\n",
    "    pass"
   ]
  },
  {
   "cell_type": "code",
   "execution_count": null,
   "metadata": {
    "collapsed": true
   },
   "outputs": [],
   "source": []
  },
  {
   "cell_type": "code",
   "execution_count": null,
   "metadata": {
    "collapsed": true
   },
   "outputs": [],
   "source": []
  },
  {
   "cell_type": "markdown",
   "metadata": {},
   "source": [
    "# Plotting with MatPlotLib"
   ]
  },
  {
   "cell_type": "markdown",
   "metadata": {},
   "source": [
    "There are two ways to interact with MatPlotLib: the scripting interface (pyplot), or the object-oriented interface. Both produce the same results and are useful in different situations. This tutorial will mostly use the object-oriented technique since I like it more, but when looking things up online keep in mind that both exist\n",
    "\n",
    "There are two main objects in MPL: The figure and the axis. Each figure is a separate image. Each axis contains one or more datasets visualizations. A figure can have any number of axes in it, but each axis belongs to a single figure.\n",
    "\n",
    "The function `plt.subplots(n)` creates a figure with `n` axes arranged vertically. We'll start with one axis and then make it more complicated."
   ]
  },
  {
   "cell_type": "code",
   "execution_count": null,
   "metadata": {
    "collapsed": true
   },
   "outputs": [],
   "source": [
    "%matplotlib\n",
    "from matplotlib import pyplot as plt"
   ]
  },
  {
   "cell_type": "markdown",
   "metadata": {},
   "source": [
    "First, let's invent some data. Let's make 1000 evenly spaced points between 0 and 4$\\pi$ on the x axis, and a cosine function as the y data:"
   ]
  },
  {
   "cell_type": "code",
   "execution_count": null,
   "metadata": {
    "collapsed": true
   },
   "outputs": [],
   "source": [
    "xdata = np.linspace(0,4*3.14,num=1000)"
   ]
  },
  {
   "cell_type": "code",
   "execution_count": null,
   "metadata": {
    "collapsed": true
   },
   "outputs": [],
   "source": [
    "ydata = np.cos(xdata)"
   ]
  },
  {
   "cell_type": "markdown",
   "metadata": {},
   "source": [
    "Now, make the figure and axes objects and plot the data"
   ]
  },
  {
   "cell_type": "code",
   "execution_count": null,
   "metadata": {
    "collapsed": true
   },
   "outputs": [],
   "source": [
    "f, ax = plt.subplots(1)"
   ]
  },
  {
   "cell_type": "code",
   "execution_count": null,
   "metadata": {
    "collapsed": true
   },
   "outputs": [],
   "source": [
    "cosline, = ax.plot(xdata,ydata)"
   ]
  },
  {
   "cell_type": "markdown",
   "metadata": {},
   "source": [
    "So right now we have access to three major objects: The figure (`f`), the axis (`ax`), and the line (`cosline`). We can modify how the plot looks"
   ]
  },
  {
   "cell_type": "code",
   "execution_count": null,
   "metadata": {
    "collapsed": true
   },
   "outputs": [],
   "source": [
    "cosline.set_color('red')"
   ]
  },
  {
   "cell_type": "code",
   "execution_count": null,
   "metadata": {
    "collapsed": true
   },
   "outputs": [],
   "source": [
    "cosline.set_marker('_')"
   ]
  },
  {
   "cell_type": "code",
   "execution_count": null,
   "metadata": {
    "collapsed": true
   },
   "outputs": [],
   "source": [
    "cosline.set_alpha(0.5)"
   ]
  },
  {
   "cell_type": "code",
   "execution_count": null,
   "metadata": {
    "collapsed": true
   },
   "outputs": [],
   "source": [
    "ax.set_axis_off()"
   ]
  },
  {
   "cell_type": "code",
   "execution_count": null,
   "metadata": {
    "collapsed": true
   },
   "outputs": [],
   "source": [
    "ax.set_axis_on()"
   ]
  },
  {
   "cell_type": "code",
   "execution_count": null,
   "metadata": {
    "collapsed": true
   },
   "outputs": [],
   "source": [
    "f.legend([cosline],['my data'])"
   ]
  },
  {
   "cell_type": "markdown",
   "metadata": {},
   "source": [
    "Let's start again with a new figure with 2 axes. Let's generate some random data for the second axis"
   ]
  },
  {
   "cell_type": "code",
   "execution_count": null,
   "metadata": {
    "collapsed": true
   },
   "outputs": [],
   "source": [
    "ydata2 = np.random.random(1000)/5"
   ]
  },
  {
   "cell_type": "code",
   "execution_count": null,
   "metadata": {
    "collapsed": true
   },
   "outputs": [],
   "source": [
    "f,ax = plt.subplots(3,sharey=True)"
   ]
  },
  {
   "cell_type": "markdown",
   "metadata": {},
   "source": [
    "Note that `ax` is now an array of axes. We access them with `ax[0]` and `ax[1]`"
   ]
  },
  {
   "cell_type": "code",
   "execution_count": null,
   "metadata": {
    "collapsed": true
   },
   "outputs": [],
   "source": [
    "noisecosline, = ax[0].plot(xdata,ydata+ydata2)"
   ]
  },
  {
   "cell_type": "code",
   "execution_count": null,
   "metadata": {
    "collapsed": true
   },
   "outputs": [],
   "source": [
    "cosline, = ax[1].plot(xdata,ydata,color='orange')"
   ]
  },
  {
   "cell_type": "code",
   "execution_count": null,
   "metadata": {
    "collapsed": true
   },
   "outputs": [],
   "source": [
    "noiseline = ax[2].plot(xdata,ydata2,color='blue')"
   ]
  },
  {
   "cell_type": "code",
   "execution_count": null,
   "metadata": {
    "collapsed": true
   },
   "outputs": [],
   "source": [
    "a.set_ylim?"
   ]
  },
  {
   "cell_type": "markdown",
   "metadata": {},
   "source": [
    "We can make subplots in different arrangements simply"
   ]
  },
  {
   "cell_type": "code",
   "execution_count": null,
   "metadata": {
    "collapsed": true,
    "scrolled": false
   },
   "outputs": [],
   "source": [
    "f,ax = plt.subplots(2,2)"
   ]
  },
  {
   "cell_type": "markdown",
   "metadata": {},
   "source": [
    "Or make arrangments more complicated"
   ]
  },
  {
   "cell_type": "code",
   "execution_count": null,
   "metadata": {
    "collapsed": true
   },
   "outputs": [],
   "source": [
    "import matplotlib.gridspec as gridspec\n",
    "fig = plt.figure(figsize=(8, 8))\n",
    "gs = gridspec.GridSpec(3, 3)\n",
    "ax1 = fig.add_subplot(gs[0, :])\n",
    "ax2 = fig.add_subplot(gs[1, :2])\n",
    "ax3 = fig.add_subplot(gs[1:, 2])\n",
    "ax4 = fig.add_subplot(gs[2, 0])\n",
    "ax5 = fig.add_subplot(gs[2, 1])"
   ]
  },
  {
   "cell_type": "markdown",
   "metadata": {},
   "source": [
    "## Exercise: Plot a 2D array with `matshow()`\n",
    "\n",
    "* Create a 2D or 3D array\n",
    "* Draw the 2D array (or a slice of the 3D array) with matshow\n",
    "* Experiment with changing the properties of the plot\n",
    "\n",
    "Optional:\n",
    "* Add additional axes with more information"
   ]
  },
  {
   "cell_type": "code",
   "execution_count": null,
   "metadata": {
    "collapsed": true
   },
   "outputs": [],
   "source": []
  },
  {
   "cell_type": "markdown",
   "metadata": {},
   "source": [
    "# Curve Fitting\n",
    "\n",
    "Let's generate an exponential decay, and add some noise to the data."
   ]
  },
  {
   "cell_type": "code",
   "execution_count": 1,
   "metadata": {
    "collapsed": true
   },
   "outputs": [],
   "source": [
    "xdata = np.linspace(1,32,32)"
   ]
  },
  {
   "cell_type": "code",
   "execution_count": 2,
   "metadata": {},
   "outputs": [
    {
     "data": {
      "text/plain": [
       "array([  1.,   2.,   3.,   4.,   5.,   6.,   7.,   8.,   9.,  10.,  11.,\n",
       "        12.,  13.,  14.,  15.,  16.,  17.,  18.,  19.,  20.,  21.,  22.,\n",
       "        23.,  24.,  25.,  26.,  27.,  28.,  29.,  30.,  31.,  32.])"
      ]
     },
     "execution_count": 2,
     "metadata": {},
     "output_type": "execute_result"
    }
   ],
   "source": [
    "xdata"
   ]
  },
  {
   "cell_type": "code",
   "execution_count": 3,
   "metadata": {
    "collapsed": true
   },
   "outputs": [],
   "source": [
    "def exp_decay(t,A,T):\n",
    "    return A*np.exp(-t/T)"
   ]
  },
  {
   "cell_type": "code",
   "execution_count": 5,
   "metadata": {},
   "outputs": [
    {
     "data": {
      "text/plain": [
       "array([ 95.12294245,  90.4837418 ,  86.07079764,  81.87307531,\n",
       "        77.88007831,  74.08182207,  70.46880897,  67.0320046 ,\n",
       "        63.76281516,  60.65306597,  57.69498104,  54.88116361,\n",
       "        52.20457768,  49.65853038,  47.23665527,  44.93289641,\n",
       "        42.74149319,  40.65696597,  38.67410235,  36.78794412,\n",
       "        34.99377491,  33.28710837,  31.66367694,  30.11942119,\n",
       "        28.65047969,  27.2531793 ,  25.92402606,  24.65969639,\n",
       "        23.45702881,  22.31301601,  21.22479738,  20.1896518 ])"
      ]
     },
     "execution_count": 5,
     "metadata": {},
     "output_type": "execute_result"
    }
   ],
   "source": [
    "exp_decay(xdata,100,20)"
   ]
  },
  {
   "cell_type": "markdown",
   "metadata": {},
   "source": [
    "Set the \"true\" values for A and T, then generate some sample data"
   ]
  },
  {
   "cell_type": "code",
   "execution_count": 6,
   "metadata": {
    "collapsed": true
   },
   "outputs": [],
   "source": [
    "A = 10\n",
    "T = 20\n",
    "ydata = exp_decay(xdata,A,T)"
   ]
  },
  {
   "cell_type": "code",
   "execution_count": 7,
   "metadata": {
    "collapsed": true
   },
   "outputs": [],
   "source": [
    "ynoise = np.random.random(32)/3\n",
    "ydata = ydata + ynoise"
   ]
  },
  {
   "cell_type": "code",
   "execution_count": 9,
   "metadata": {
    "collapsed": true
   },
   "outputs": [],
   "source": [
    "%matplotlib notebook"
   ]
  },
  {
   "cell_type": "code",
   "execution_count": 11,
   "metadata": {},
   "outputs": [
    {
     "data": {
      "application/javascript": [
       "/* Put everything inside the global mpl namespace */\n",
       "window.mpl = {};\n",
       "\n",
       "\n",
       "mpl.get_websocket_type = function() {\n",
       "    if (typeof(WebSocket) !== 'undefined') {\n",
       "        return WebSocket;\n",
       "    } else if (typeof(MozWebSocket) !== 'undefined') {\n",
       "        return MozWebSocket;\n",
       "    } else {\n",
       "        alert('Your browser does not have WebSocket support.' +\n",
       "              'Please try Chrome, Safari or Firefox ≥ 6. ' +\n",
       "              'Firefox 4 and 5 are also supported but you ' +\n",
       "              'have to enable WebSockets in about:config.');\n",
       "    };\n",
       "}\n",
       "\n",
       "mpl.figure = function(figure_id, websocket, ondownload, parent_element) {\n",
       "    this.id = figure_id;\n",
       "\n",
       "    this.ws = websocket;\n",
       "\n",
       "    this.supports_binary = (this.ws.binaryType != undefined);\n",
       "\n",
       "    if (!this.supports_binary) {\n",
       "        var warnings = document.getElementById(\"mpl-warnings\");\n",
       "        if (warnings) {\n",
       "            warnings.style.display = 'block';\n",
       "            warnings.textContent = (\n",
       "                \"This browser does not support binary websocket messages. \" +\n",
       "                    \"Performance may be slow.\");\n",
       "        }\n",
       "    }\n",
       "\n",
       "    this.imageObj = new Image();\n",
       "\n",
       "    this.context = undefined;\n",
       "    this.message = undefined;\n",
       "    this.canvas = undefined;\n",
       "    this.rubberband_canvas = undefined;\n",
       "    this.rubberband_context = undefined;\n",
       "    this.format_dropdown = undefined;\n",
       "\n",
       "    this.image_mode = 'full';\n",
       "\n",
       "    this.root = $('<div/>');\n",
       "    this._root_extra_style(this.root)\n",
       "    this.root.attr('style', 'display: inline-block');\n",
       "\n",
       "    $(parent_element).append(this.root);\n",
       "\n",
       "    this._init_header(this);\n",
       "    this._init_canvas(this);\n",
       "    this._init_toolbar(this);\n",
       "\n",
       "    var fig = this;\n",
       "\n",
       "    this.waiting = false;\n",
       "\n",
       "    this.ws.onopen =  function () {\n",
       "            fig.send_message(\"supports_binary\", {value: fig.supports_binary});\n",
       "            fig.send_message(\"send_image_mode\", {});\n",
       "            if (mpl.ratio != 1) {\n",
       "                fig.send_message(\"set_dpi_ratio\", {'dpi_ratio': mpl.ratio});\n",
       "            }\n",
       "            fig.send_message(\"refresh\", {});\n",
       "        }\n",
       "\n",
       "    this.imageObj.onload = function() {\n",
       "            if (fig.image_mode == 'full') {\n",
       "                // Full images could contain transparency (where diff images\n",
       "                // almost always do), so we need to clear the canvas so that\n",
       "                // there is no ghosting.\n",
       "                fig.context.clearRect(0, 0, fig.canvas.width, fig.canvas.height);\n",
       "            }\n",
       "            fig.context.drawImage(fig.imageObj, 0, 0);\n",
       "        };\n",
       "\n",
       "    this.imageObj.onunload = function() {\n",
       "        this.ws.close();\n",
       "    }\n",
       "\n",
       "    this.ws.onmessage = this._make_on_message_function(this);\n",
       "\n",
       "    this.ondownload = ondownload;\n",
       "}\n",
       "\n",
       "mpl.figure.prototype._init_header = function() {\n",
       "    var titlebar = $(\n",
       "        '<div class=\"ui-dialog-titlebar ui-widget-header ui-corner-all ' +\n",
       "        'ui-helper-clearfix\"/>');\n",
       "    var titletext = $(\n",
       "        '<div class=\"ui-dialog-title\" style=\"width: 100%; ' +\n",
       "        'text-align: center; padding: 3px;\"/>');\n",
       "    titlebar.append(titletext)\n",
       "    this.root.append(titlebar);\n",
       "    this.header = titletext[0];\n",
       "}\n",
       "\n",
       "\n",
       "\n",
       "mpl.figure.prototype._canvas_extra_style = function(canvas_div) {\n",
       "\n",
       "}\n",
       "\n",
       "\n",
       "mpl.figure.prototype._root_extra_style = function(canvas_div) {\n",
       "\n",
       "}\n",
       "\n",
       "mpl.figure.prototype._init_canvas = function() {\n",
       "    var fig = this;\n",
       "\n",
       "    var canvas_div = $('<div/>');\n",
       "\n",
       "    canvas_div.attr('style', 'position: relative; clear: both; outline: 0');\n",
       "\n",
       "    function canvas_keyboard_event(event) {\n",
       "        return fig.key_event(event, event['data']);\n",
       "    }\n",
       "\n",
       "    canvas_div.keydown('key_press', canvas_keyboard_event);\n",
       "    canvas_div.keyup('key_release', canvas_keyboard_event);\n",
       "    this.canvas_div = canvas_div\n",
       "    this._canvas_extra_style(canvas_div)\n",
       "    this.root.append(canvas_div);\n",
       "\n",
       "    var canvas = $('<canvas/>');\n",
       "    canvas.addClass('mpl-canvas');\n",
       "    canvas.attr('style', \"left: 0; top: 0; z-index: 0; outline: 0\")\n",
       "\n",
       "    this.canvas = canvas[0];\n",
       "    this.context = canvas[0].getContext(\"2d\");\n",
       "\n",
       "    var backingStore = this.context.backingStorePixelRatio ||\n",
       "\tthis.context.webkitBackingStorePixelRatio ||\n",
       "\tthis.context.mozBackingStorePixelRatio ||\n",
       "\tthis.context.msBackingStorePixelRatio ||\n",
       "\tthis.context.oBackingStorePixelRatio ||\n",
       "\tthis.context.backingStorePixelRatio || 1;\n",
       "\n",
       "    mpl.ratio = (window.devicePixelRatio || 1) / backingStore;\n",
       "\n",
       "    var rubberband = $('<canvas/>');\n",
       "    rubberband.attr('style', \"position: absolute; left: 0; top: 0; z-index: 1;\")\n",
       "\n",
       "    var pass_mouse_events = true;\n",
       "\n",
       "    canvas_div.resizable({\n",
       "        start: function(event, ui) {\n",
       "            pass_mouse_events = false;\n",
       "        },\n",
       "        resize: function(event, ui) {\n",
       "            fig.request_resize(ui.size.width, ui.size.height);\n",
       "        },\n",
       "        stop: function(event, ui) {\n",
       "            pass_mouse_events = true;\n",
       "            fig.request_resize(ui.size.width, ui.size.height);\n",
       "        },\n",
       "    });\n",
       "\n",
       "    function mouse_event_fn(event) {\n",
       "        if (pass_mouse_events)\n",
       "            return fig.mouse_event(event, event['data']);\n",
       "    }\n",
       "\n",
       "    rubberband.mousedown('button_press', mouse_event_fn);\n",
       "    rubberband.mouseup('button_release', mouse_event_fn);\n",
       "    // Throttle sequential mouse events to 1 every 20ms.\n",
       "    rubberband.mousemove('motion_notify', mouse_event_fn);\n",
       "\n",
       "    rubberband.mouseenter('figure_enter', mouse_event_fn);\n",
       "    rubberband.mouseleave('figure_leave', mouse_event_fn);\n",
       "\n",
       "    canvas_div.on(\"wheel\", function (event) {\n",
       "        event = event.originalEvent;\n",
       "        event['data'] = 'scroll'\n",
       "        if (event.deltaY < 0) {\n",
       "            event.step = 1;\n",
       "        } else {\n",
       "            event.step = -1;\n",
       "        }\n",
       "        mouse_event_fn(event);\n",
       "    });\n",
       "\n",
       "    canvas_div.append(canvas);\n",
       "    canvas_div.append(rubberband);\n",
       "\n",
       "    this.rubberband = rubberband;\n",
       "    this.rubberband_canvas = rubberband[0];\n",
       "    this.rubberband_context = rubberband[0].getContext(\"2d\");\n",
       "    this.rubberband_context.strokeStyle = \"#000000\";\n",
       "\n",
       "    this._resize_canvas = function(width, height) {\n",
       "        // Keep the size of the canvas, canvas container, and rubber band\n",
       "        // canvas in synch.\n",
       "        canvas_div.css('width', width)\n",
       "        canvas_div.css('height', height)\n",
       "\n",
       "        canvas.attr('width', width * mpl.ratio);\n",
       "        canvas.attr('height', height * mpl.ratio);\n",
       "        canvas.attr('style', 'width: ' + width + 'px; height: ' + height + 'px;');\n",
       "\n",
       "        rubberband.attr('width', width);\n",
       "        rubberband.attr('height', height);\n",
       "    }\n",
       "\n",
       "    // Set the figure to an initial 600x600px, this will subsequently be updated\n",
       "    // upon first draw.\n",
       "    this._resize_canvas(600, 600);\n",
       "\n",
       "    // Disable right mouse context menu.\n",
       "    $(this.rubberband_canvas).bind(\"contextmenu\",function(e){\n",
       "        return false;\n",
       "    });\n",
       "\n",
       "    function set_focus () {\n",
       "        canvas.focus();\n",
       "        canvas_div.focus();\n",
       "    }\n",
       "\n",
       "    window.setTimeout(set_focus, 100);\n",
       "}\n",
       "\n",
       "mpl.figure.prototype._init_toolbar = function() {\n",
       "    var fig = this;\n",
       "\n",
       "    var nav_element = $('<div/>')\n",
       "    nav_element.attr('style', 'width: 100%');\n",
       "    this.root.append(nav_element);\n",
       "\n",
       "    // Define a callback function for later on.\n",
       "    function toolbar_event(event) {\n",
       "        return fig.toolbar_button_onclick(event['data']);\n",
       "    }\n",
       "    function toolbar_mouse_event(event) {\n",
       "        return fig.toolbar_button_onmouseover(event['data']);\n",
       "    }\n",
       "\n",
       "    for(var toolbar_ind in mpl.toolbar_items) {\n",
       "        var name = mpl.toolbar_items[toolbar_ind][0];\n",
       "        var tooltip = mpl.toolbar_items[toolbar_ind][1];\n",
       "        var image = mpl.toolbar_items[toolbar_ind][2];\n",
       "        var method_name = mpl.toolbar_items[toolbar_ind][3];\n",
       "\n",
       "        if (!name) {\n",
       "            // put a spacer in here.\n",
       "            continue;\n",
       "        }\n",
       "        var button = $('<button/>');\n",
       "        button.addClass('ui-button ui-widget ui-state-default ui-corner-all ' +\n",
       "                        'ui-button-icon-only');\n",
       "        button.attr('role', 'button');\n",
       "        button.attr('aria-disabled', 'false');\n",
       "        button.click(method_name, toolbar_event);\n",
       "        button.mouseover(tooltip, toolbar_mouse_event);\n",
       "\n",
       "        var icon_img = $('<span/>');\n",
       "        icon_img.addClass('ui-button-icon-primary ui-icon');\n",
       "        icon_img.addClass(image);\n",
       "        icon_img.addClass('ui-corner-all');\n",
       "\n",
       "        var tooltip_span = $('<span/>');\n",
       "        tooltip_span.addClass('ui-button-text');\n",
       "        tooltip_span.html(tooltip);\n",
       "\n",
       "        button.append(icon_img);\n",
       "        button.append(tooltip_span);\n",
       "\n",
       "        nav_element.append(button);\n",
       "    }\n",
       "\n",
       "    var fmt_picker_span = $('<span/>');\n",
       "\n",
       "    var fmt_picker = $('<select/>');\n",
       "    fmt_picker.addClass('mpl-toolbar-option ui-widget ui-widget-content');\n",
       "    fmt_picker_span.append(fmt_picker);\n",
       "    nav_element.append(fmt_picker_span);\n",
       "    this.format_dropdown = fmt_picker[0];\n",
       "\n",
       "    for (var ind in mpl.extensions) {\n",
       "        var fmt = mpl.extensions[ind];\n",
       "        var option = $(\n",
       "            '<option/>', {selected: fmt === mpl.default_extension}).html(fmt);\n",
       "        fmt_picker.append(option)\n",
       "    }\n",
       "\n",
       "    // Add hover states to the ui-buttons\n",
       "    $( \".ui-button\" ).hover(\n",
       "        function() { $(this).addClass(\"ui-state-hover\");},\n",
       "        function() { $(this).removeClass(\"ui-state-hover\");}\n",
       "    );\n",
       "\n",
       "    var status_bar = $('<span class=\"mpl-message\"/>');\n",
       "    nav_element.append(status_bar);\n",
       "    this.message = status_bar[0];\n",
       "}\n",
       "\n",
       "mpl.figure.prototype.request_resize = function(x_pixels, y_pixels) {\n",
       "    // Request matplotlib to resize the figure. Matplotlib will then trigger a resize in the client,\n",
       "    // which will in turn request a refresh of the image.\n",
       "    this.send_message('resize', {'width': x_pixels, 'height': y_pixels});\n",
       "}\n",
       "\n",
       "mpl.figure.prototype.send_message = function(type, properties) {\n",
       "    properties['type'] = type;\n",
       "    properties['figure_id'] = this.id;\n",
       "    this.ws.send(JSON.stringify(properties));\n",
       "}\n",
       "\n",
       "mpl.figure.prototype.send_draw_message = function() {\n",
       "    if (!this.waiting) {\n",
       "        this.waiting = true;\n",
       "        this.ws.send(JSON.stringify({type: \"draw\", figure_id: this.id}));\n",
       "    }\n",
       "}\n",
       "\n",
       "\n",
       "mpl.figure.prototype.handle_save = function(fig, msg) {\n",
       "    var format_dropdown = fig.format_dropdown;\n",
       "    var format = format_dropdown.options[format_dropdown.selectedIndex].value;\n",
       "    fig.ondownload(fig, format);\n",
       "}\n",
       "\n",
       "\n",
       "mpl.figure.prototype.handle_resize = function(fig, msg) {\n",
       "    var size = msg['size'];\n",
       "    if (size[0] != fig.canvas.width || size[1] != fig.canvas.height) {\n",
       "        fig._resize_canvas(size[0], size[1]);\n",
       "        fig.send_message(\"refresh\", {});\n",
       "    };\n",
       "}\n",
       "\n",
       "mpl.figure.prototype.handle_rubberband = function(fig, msg) {\n",
       "    var x0 = msg['x0'] / mpl.ratio;\n",
       "    var y0 = (fig.canvas.height - msg['y0']) / mpl.ratio;\n",
       "    var x1 = msg['x1'] / mpl.ratio;\n",
       "    var y1 = (fig.canvas.height - msg['y1']) / mpl.ratio;\n",
       "    x0 = Math.floor(x0) + 0.5;\n",
       "    y0 = Math.floor(y0) + 0.5;\n",
       "    x1 = Math.floor(x1) + 0.5;\n",
       "    y1 = Math.floor(y1) + 0.5;\n",
       "    var min_x = Math.min(x0, x1);\n",
       "    var min_y = Math.min(y0, y1);\n",
       "    var width = Math.abs(x1 - x0);\n",
       "    var height = Math.abs(y1 - y0);\n",
       "\n",
       "    fig.rubberband_context.clearRect(\n",
       "        0, 0, fig.canvas.width, fig.canvas.height);\n",
       "\n",
       "    fig.rubberband_context.strokeRect(min_x, min_y, width, height);\n",
       "}\n",
       "\n",
       "mpl.figure.prototype.handle_figure_label = function(fig, msg) {\n",
       "    // Updates the figure title.\n",
       "    fig.header.textContent = msg['label'];\n",
       "}\n",
       "\n",
       "mpl.figure.prototype.handle_cursor = function(fig, msg) {\n",
       "    var cursor = msg['cursor'];\n",
       "    switch(cursor)\n",
       "    {\n",
       "    case 0:\n",
       "        cursor = 'pointer';\n",
       "        break;\n",
       "    case 1:\n",
       "        cursor = 'default';\n",
       "        break;\n",
       "    case 2:\n",
       "        cursor = 'crosshair';\n",
       "        break;\n",
       "    case 3:\n",
       "        cursor = 'move';\n",
       "        break;\n",
       "    }\n",
       "    fig.rubberband_canvas.style.cursor = cursor;\n",
       "}\n",
       "\n",
       "mpl.figure.prototype.handle_message = function(fig, msg) {\n",
       "    fig.message.textContent = msg['message'];\n",
       "}\n",
       "\n",
       "mpl.figure.prototype.handle_draw = function(fig, msg) {\n",
       "    // Request the server to send over a new figure.\n",
       "    fig.send_draw_message();\n",
       "}\n",
       "\n",
       "mpl.figure.prototype.handle_image_mode = function(fig, msg) {\n",
       "    fig.image_mode = msg['mode'];\n",
       "}\n",
       "\n",
       "mpl.figure.prototype.updated_canvas_event = function() {\n",
       "    // Called whenever the canvas gets updated.\n",
       "    this.send_message(\"ack\", {});\n",
       "}\n",
       "\n",
       "// A function to construct a web socket function for onmessage handling.\n",
       "// Called in the figure constructor.\n",
       "mpl.figure.prototype._make_on_message_function = function(fig) {\n",
       "    return function socket_on_message(evt) {\n",
       "        if (evt.data instanceof Blob) {\n",
       "            /* FIXME: We get \"Resource interpreted as Image but\n",
       "             * transferred with MIME type text/plain:\" errors on\n",
       "             * Chrome.  But how to set the MIME type?  It doesn't seem\n",
       "             * to be part of the websocket stream */\n",
       "            evt.data.type = \"image/png\";\n",
       "\n",
       "            /* Free the memory for the previous frames */\n",
       "            if (fig.imageObj.src) {\n",
       "                (window.URL || window.webkitURL).revokeObjectURL(\n",
       "                    fig.imageObj.src);\n",
       "            }\n",
       "\n",
       "            fig.imageObj.src = (window.URL || window.webkitURL).createObjectURL(\n",
       "                evt.data);\n",
       "            fig.updated_canvas_event();\n",
       "            fig.waiting = false;\n",
       "            return;\n",
       "        }\n",
       "        else if (typeof evt.data === 'string' && evt.data.slice(0, 21) == \"data:image/png;base64\") {\n",
       "            fig.imageObj.src = evt.data;\n",
       "            fig.updated_canvas_event();\n",
       "            fig.waiting = false;\n",
       "            return;\n",
       "        }\n",
       "\n",
       "        var msg = JSON.parse(evt.data);\n",
       "        var msg_type = msg['type'];\n",
       "\n",
       "        // Call the  \"handle_{type}\" callback, which takes\n",
       "        // the figure and JSON message as its only arguments.\n",
       "        try {\n",
       "            var callback = fig[\"handle_\" + msg_type];\n",
       "        } catch (e) {\n",
       "            console.log(\"No handler for the '\" + msg_type + \"' message type: \", msg);\n",
       "            return;\n",
       "        }\n",
       "\n",
       "        if (callback) {\n",
       "            try {\n",
       "                // console.log(\"Handling '\" + msg_type + \"' message: \", msg);\n",
       "                callback(fig, msg);\n",
       "            } catch (e) {\n",
       "                console.log(\"Exception inside the 'handler_\" + msg_type + \"' callback:\", e, e.stack, msg);\n",
       "            }\n",
       "        }\n",
       "    };\n",
       "}\n",
       "\n",
       "// from http://stackoverflow.com/questions/1114465/getting-mouse-location-in-canvas\n",
       "mpl.findpos = function(e) {\n",
       "    //this section is from http://www.quirksmode.org/js/events_properties.html\n",
       "    var targ;\n",
       "    if (!e)\n",
       "        e = window.event;\n",
       "    if (e.target)\n",
       "        targ = e.target;\n",
       "    else if (e.srcElement)\n",
       "        targ = e.srcElement;\n",
       "    if (targ.nodeType == 3) // defeat Safari bug\n",
       "        targ = targ.parentNode;\n",
       "\n",
       "    // jQuery normalizes the pageX and pageY\n",
       "    // pageX,Y are the mouse positions relative to the document\n",
       "    // offset() returns the position of the element relative to the document\n",
       "    var x = e.pageX - $(targ).offset().left;\n",
       "    var y = e.pageY - $(targ).offset().top;\n",
       "\n",
       "    return {\"x\": x, \"y\": y};\n",
       "};\n",
       "\n",
       "/*\n",
       " * return a copy of an object with only non-object keys\n",
       " * we need this to avoid circular references\n",
       " * http://stackoverflow.com/a/24161582/3208463\n",
       " */\n",
       "function simpleKeys (original) {\n",
       "  return Object.keys(original).reduce(function (obj, key) {\n",
       "    if (typeof original[key] !== 'object')\n",
       "        obj[key] = original[key]\n",
       "    return obj;\n",
       "  }, {});\n",
       "}\n",
       "\n",
       "mpl.figure.prototype.mouse_event = function(event, name) {\n",
       "    var canvas_pos = mpl.findpos(event)\n",
       "\n",
       "    if (name === 'button_press')\n",
       "    {\n",
       "        this.canvas.focus();\n",
       "        this.canvas_div.focus();\n",
       "    }\n",
       "\n",
       "    var x = canvas_pos.x * mpl.ratio;\n",
       "    var y = canvas_pos.y * mpl.ratio;\n",
       "\n",
       "    this.send_message(name, {x: x, y: y, button: event.button,\n",
       "                             step: event.step,\n",
       "                             guiEvent: simpleKeys(event)});\n",
       "\n",
       "    /* This prevents the web browser from automatically changing to\n",
       "     * the text insertion cursor when the button is pressed.  We want\n",
       "     * to control all of the cursor setting manually through the\n",
       "     * 'cursor' event from matplotlib */\n",
       "    event.preventDefault();\n",
       "    return false;\n",
       "}\n",
       "\n",
       "mpl.figure.prototype._key_event_extra = function(event, name) {\n",
       "    // Handle any extra behaviour associated with a key event\n",
       "}\n",
       "\n",
       "mpl.figure.prototype.key_event = function(event, name) {\n",
       "\n",
       "    // Prevent repeat events\n",
       "    if (name == 'key_press')\n",
       "    {\n",
       "        if (event.which === this._key)\n",
       "            return;\n",
       "        else\n",
       "            this._key = event.which;\n",
       "    }\n",
       "    if (name == 'key_release')\n",
       "        this._key = null;\n",
       "\n",
       "    var value = '';\n",
       "    if (event.ctrlKey && event.which != 17)\n",
       "        value += \"ctrl+\";\n",
       "    if (event.altKey && event.which != 18)\n",
       "        value += \"alt+\";\n",
       "    if (event.shiftKey && event.which != 16)\n",
       "        value += \"shift+\";\n",
       "\n",
       "    value += 'k';\n",
       "    value += event.which.toString();\n",
       "\n",
       "    this._key_event_extra(event, name);\n",
       "\n",
       "    this.send_message(name, {key: value,\n",
       "                             guiEvent: simpleKeys(event)});\n",
       "    return false;\n",
       "}\n",
       "\n",
       "mpl.figure.prototype.toolbar_button_onclick = function(name) {\n",
       "    if (name == 'download') {\n",
       "        this.handle_save(this, null);\n",
       "    } else {\n",
       "        this.send_message(\"toolbar_button\", {name: name});\n",
       "    }\n",
       "};\n",
       "\n",
       "mpl.figure.prototype.toolbar_button_onmouseover = function(tooltip) {\n",
       "    this.message.textContent = tooltip;\n",
       "};\n",
       "mpl.toolbar_items = [[\"Home\", \"Reset original view\", \"fa fa-home icon-home\", \"home\"], [\"Back\", \"Back to  previous view\", \"fa fa-arrow-left icon-arrow-left\", \"back\"], [\"Forward\", \"Forward to next view\", \"fa fa-arrow-right icon-arrow-right\", \"forward\"], [\"\", \"\", \"\", \"\"], [\"Pan\", \"Pan axes with left mouse, zoom with right\", \"fa fa-arrows icon-move\", \"pan\"], [\"Zoom\", \"Zoom to rectangle\", \"fa fa-square-o icon-check-empty\", \"zoom\"], [\"\", \"\", \"\", \"\"], [\"Download\", \"Download plot\", \"fa fa-floppy-o icon-save\", \"download\"]];\n",
       "\n",
       "mpl.extensions = [\"eps\", \"jpeg\", \"pdf\", \"png\", \"ps\", \"raw\", \"svg\", \"tif\"];\n",
       "\n",
       "mpl.default_extension = \"png\";var comm_websocket_adapter = function(comm) {\n",
       "    // Create a \"websocket\"-like object which calls the given IPython comm\n",
       "    // object with the appropriate methods. Currently this is a non binary\n",
       "    // socket, so there is still some room for performance tuning.\n",
       "    var ws = {};\n",
       "\n",
       "    ws.close = function() {\n",
       "        comm.close()\n",
       "    };\n",
       "    ws.send = function(m) {\n",
       "        //console.log('sending', m);\n",
       "        comm.send(m);\n",
       "    };\n",
       "    // Register the callback with on_msg.\n",
       "    comm.on_msg(function(msg) {\n",
       "        //console.log('receiving', msg['content']['data'], msg);\n",
       "        // Pass the mpl event to the overriden (by mpl) onmessage function.\n",
       "        ws.onmessage(msg['content']['data'])\n",
       "    });\n",
       "    return ws;\n",
       "}\n",
       "\n",
       "mpl.mpl_figure_comm = function(comm, msg) {\n",
       "    // This is the function which gets called when the mpl process\n",
       "    // starts-up an IPython Comm through the \"matplotlib\" channel.\n",
       "\n",
       "    var id = msg.content.data.id;\n",
       "    // Get hold of the div created by the display call when the Comm\n",
       "    // socket was opened in Python.\n",
       "    var element = $(\"#\" + id);\n",
       "    var ws_proxy = comm_websocket_adapter(comm)\n",
       "\n",
       "    function ondownload(figure, format) {\n",
       "        window.open(figure.imageObj.src);\n",
       "    }\n",
       "\n",
       "    var fig = new mpl.figure(id, ws_proxy,\n",
       "                           ondownload,\n",
       "                           element.get(0));\n",
       "\n",
       "    // Call onopen now - mpl needs it, as it is assuming we've passed it a real\n",
       "    // web socket which is closed, not our websocket->open comm proxy.\n",
       "    ws_proxy.onopen();\n",
       "\n",
       "    fig.parent_element = element.get(0);\n",
       "    fig.cell_info = mpl.find_output_cell(\"<div id='\" + id + \"'></div>\");\n",
       "    if (!fig.cell_info) {\n",
       "        console.error(\"Failed to find cell for figure\", id, fig);\n",
       "        return;\n",
       "    }\n",
       "\n",
       "    var output_index = fig.cell_info[2]\n",
       "    var cell = fig.cell_info[0];\n",
       "\n",
       "};\n",
       "\n",
       "mpl.figure.prototype.handle_close = function(fig, msg) {\n",
       "    var width = fig.canvas.width/mpl.ratio\n",
       "    fig.root.unbind('remove')\n",
       "\n",
       "    // Update the output cell to use the data from the current canvas.\n",
       "    fig.push_to_output();\n",
       "    var dataURL = fig.canvas.toDataURL();\n",
       "    // Re-enable the keyboard manager in IPython - without this line, in FF,\n",
       "    // the notebook keyboard shortcuts fail.\n",
       "    IPython.keyboard_manager.enable()\n",
       "    $(fig.parent_element).html('<img src=\"' + dataURL + '\" width=\"' + width + '\">');\n",
       "    fig.close_ws(fig, msg);\n",
       "}\n",
       "\n",
       "mpl.figure.prototype.close_ws = function(fig, msg){\n",
       "    fig.send_message('closing', msg);\n",
       "    // fig.ws.close()\n",
       "}\n",
       "\n",
       "mpl.figure.prototype.push_to_output = function(remove_interactive) {\n",
       "    // Turn the data on the canvas into data in the output cell.\n",
       "    var width = this.canvas.width/mpl.ratio\n",
       "    var dataURL = this.canvas.toDataURL();\n",
       "    this.cell_info[1]['text/html'] = '<img src=\"' + dataURL + '\" width=\"' + width + '\">';\n",
       "}\n",
       "\n",
       "mpl.figure.prototype.updated_canvas_event = function() {\n",
       "    // Tell IPython that the notebook contents must change.\n",
       "    IPython.notebook.set_dirty(true);\n",
       "    this.send_message(\"ack\", {});\n",
       "    var fig = this;\n",
       "    // Wait a second, then push the new image to the DOM so\n",
       "    // that it is saved nicely (might be nice to debounce this).\n",
       "    setTimeout(function () { fig.push_to_output() }, 1000);\n",
       "}\n",
       "\n",
       "mpl.figure.prototype._init_toolbar = function() {\n",
       "    var fig = this;\n",
       "\n",
       "    var nav_element = $('<div/>')\n",
       "    nav_element.attr('style', 'width: 100%');\n",
       "    this.root.append(nav_element);\n",
       "\n",
       "    // Define a callback function for later on.\n",
       "    function toolbar_event(event) {\n",
       "        return fig.toolbar_button_onclick(event['data']);\n",
       "    }\n",
       "    function toolbar_mouse_event(event) {\n",
       "        return fig.toolbar_button_onmouseover(event['data']);\n",
       "    }\n",
       "\n",
       "    for(var toolbar_ind in mpl.toolbar_items){\n",
       "        var name = mpl.toolbar_items[toolbar_ind][0];\n",
       "        var tooltip = mpl.toolbar_items[toolbar_ind][1];\n",
       "        var image = mpl.toolbar_items[toolbar_ind][2];\n",
       "        var method_name = mpl.toolbar_items[toolbar_ind][3];\n",
       "\n",
       "        if (!name) { continue; };\n",
       "\n",
       "        var button = $('<button class=\"btn btn-default\" href=\"#\" title=\"' + name + '\"><i class=\"fa ' + image + ' fa-lg\"></i></button>');\n",
       "        button.click(method_name, toolbar_event);\n",
       "        button.mouseover(tooltip, toolbar_mouse_event);\n",
       "        nav_element.append(button);\n",
       "    }\n",
       "\n",
       "    // Add the status bar.\n",
       "    var status_bar = $('<span class=\"mpl-message\" style=\"text-align:right; float: right;\"/>');\n",
       "    nav_element.append(status_bar);\n",
       "    this.message = status_bar[0];\n",
       "\n",
       "    // Add the close button to the window.\n",
       "    var buttongrp = $('<div class=\"btn-group inline pull-right\"></div>');\n",
       "    var button = $('<button class=\"btn btn-mini btn-primary\" href=\"#\" title=\"Stop Interaction\"><i class=\"fa fa-power-off icon-remove icon-large\"></i></button>');\n",
       "    button.click(function (evt) { fig.handle_close(fig, {}); } );\n",
       "    button.mouseover('Stop Interaction', toolbar_mouse_event);\n",
       "    buttongrp.append(button);\n",
       "    var titlebar = this.root.find($('.ui-dialog-titlebar'));\n",
       "    titlebar.prepend(buttongrp);\n",
       "}\n",
       "\n",
       "mpl.figure.prototype._root_extra_style = function(el){\n",
       "    var fig = this\n",
       "    el.on(\"remove\", function(){\n",
       "\tfig.close_ws(fig, {});\n",
       "    });\n",
       "}\n",
       "\n",
       "mpl.figure.prototype._canvas_extra_style = function(el){\n",
       "    // this is important to make the div 'focusable\n",
       "    el.attr('tabindex', 0)\n",
       "    // reach out to IPython and tell the keyboard manager to turn it's self\n",
       "    // off when our div gets focus\n",
       "\n",
       "    // location in version 3\n",
       "    if (IPython.notebook.keyboard_manager) {\n",
       "        IPython.notebook.keyboard_manager.register_events(el);\n",
       "    }\n",
       "    else {\n",
       "        // location in version 2\n",
       "        IPython.keyboard_manager.register_events(el);\n",
       "    }\n",
       "\n",
       "}\n",
       "\n",
       "mpl.figure.prototype._key_event_extra = function(event, name) {\n",
       "    var manager = IPython.notebook.keyboard_manager;\n",
       "    if (!manager)\n",
       "        manager = IPython.keyboard_manager;\n",
       "\n",
       "    // Check for shift+enter\n",
       "    if (event.shiftKey && event.which == 13) {\n",
       "        this.canvas_div.blur();\n",
       "        // select the cell after this one\n",
       "        var index = IPython.notebook.find_cell_index(this.cell_info[0]);\n",
       "        IPython.notebook.select(index + 1);\n",
       "    }\n",
       "}\n",
       "\n",
       "mpl.figure.prototype.handle_save = function(fig, msg) {\n",
       "    fig.ondownload(fig, null);\n",
       "}\n",
       "\n",
       "\n",
       "mpl.find_output_cell = function(html_output) {\n",
       "    // Return the cell and output element which can be found *uniquely* in the notebook.\n",
       "    // Note - this is a bit hacky, but it is done because the \"notebook_saving.Notebook\"\n",
       "    // IPython event is triggered only after the cells have been serialised, which for\n",
       "    // our purposes (turning an active figure into a static one), is too late.\n",
       "    var cells = IPython.notebook.get_cells();\n",
       "    var ncells = cells.length;\n",
       "    for (var i=0; i<ncells; i++) {\n",
       "        var cell = cells[i];\n",
       "        if (cell.cell_type === 'code'){\n",
       "            for (var j=0; j<cell.output_area.outputs.length; j++) {\n",
       "                var data = cell.output_area.outputs[j];\n",
       "                if (data.data) {\n",
       "                    // IPython >= 3 moved mimebundle to data attribute of output\n",
       "                    data = data.data;\n",
       "                }\n",
       "                if (data['text/html'] == html_output) {\n",
       "                    return [cell, data, j];\n",
       "                }\n",
       "            }\n",
       "        }\n",
       "    }\n",
       "}\n",
       "\n",
       "// Register the function which deals with the matplotlib target/channel.\n",
       "// The kernel may be null if the page has been refreshed.\n",
       "if (IPython.notebook.kernel != null) {\n",
       "    IPython.notebook.kernel.comm_manager.register_target('matplotlib', mpl.mpl_figure_comm);\n",
       "}\n"
      ],
      "text/plain": [
       "<IPython.core.display.Javascript object>"
      ]
     },
     "metadata": {},
     "output_type": "display_data"
    },
    {
     "data": {
      "text/html": [
       "<img src=\"data:image/png;base64,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\" width=\"640\">"
      ],
      "text/plain": [
       "<IPython.core.display.HTML object>"
      ]
     },
     "metadata": {},
     "output_type": "display_data"
    },
    {
     "data": {
      "text/plain": [
       "<matplotlib.collections.PathCollection at 0x11e4c3048>"
      ]
     },
     "execution_count": 11,
     "metadata": {},
     "output_type": "execute_result"
    }
   ],
   "source": [
    "f,ax = plt.subplots()\n",
    "ax.scatter(xdata,ydata)"
   ]
  },
  {
   "cell_type": "markdown",
   "metadata": {},
   "source": [
    "## Linear transform fit\n",
    "If we know the data is exponential, it's quickest to transform the data and do a linear fit\n",
    "\n",
    "\n",
    "$$ \n",
    "S = Ae^{{-t}/{T}}\n",
    "$$\n",
    "$$\n",
    "\\log{S} = \\log{A} - \\frac{t}{T} \n",
    "$$\n",
    "\n",
    "Therefore when we plot log of signal vs time, \n",
    "\n",
    "$$\n",
    "slope=-1/T\n",
    "$$"
   ]
  },
  {
   "cell_type": "code",
   "execution_count": 12,
   "metadata": {
    "collapsed": true
   },
   "outputs": [],
   "source": [
    "ydatalog = np.log(ydata)"
   ]
  },
  {
   "cell_type": "code",
   "execution_count": 13,
   "metadata": {},
   "outputs": [
    {
     "data": {
      "application/javascript": [
       "/* Put everything inside the global mpl namespace */\n",
       "window.mpl = {};\n",
       "\n",
       "\n",
       "mpl.get_websocket_type = function() {\n",
       "    if (typeof(WebSocket) !== 'undefined') {\n",
       "        return WebSocket;\n",
       "    } else if (typeof(MozWebSocket) !== 'undefined') {\n",
       "        return MozWebSocket;\n",
       "    } else {\n",
       "        alert('Your browser does not have WebSocket support.' +\n",
       "              'Please try Chrome, Safari or Firefox ≥ 6. ' +\n",
       "              'Firefox 4 and 5 are also supported but you ' +\n",
       "              'have to enable WebSockets in about:config.');\n",
       "    };\n",
       "}\n",
       "\n",
       "mpl.figure = function(figure_id, websocket, ondownload, parent_element) {\n",
       "    this.id = figure_id;\n",
       "\n",
       "    this.ws = websocket;\n",
       "\n",
       "    this.supports_binary = (this.ws.binaryType != undefined);\n",
       "\n",
       "    if (!this.supports_binary) {\n",
       "        var warnings = document.getElementById(\"mpl-warnings\");\n",
       "        if (warnings) {\n",
       "            warnings.style.display = 'block';\n",
       "            warnings.textContent = (\n",
       "                \"This browser does not support binary websocket messages. \" +\n",
       "                    \"Performance may be slow.\");\n",
       "        }\n",
       "    }\n",
       "\n",
       "    this.imageObj = new Image();\n",
       "\n",
       "    this.context = undefined;\n",
       "    this.message = undefined;\n",
       "    this.canvas = undefined;\n",
       "    this.rubberband_canvas = undefined;\n",
       "    this.rubberband_context = undefined;\n",
       "    this.format_dropdown = undefined;\n",
       "\n",
       "    this.image_mode = 'full';\n",
       "\n",
       "    this.root = $('<div/>');\n",
       "    this._root_extra_style(this.root)\n",
       "    this.root.attr('style', 'display: inline-block');\n",
       "\n",
       "    $(parent_element).append(this.root);\n",
       "\n",
       "    this._init_header(this);\n",
       "    this._init_canvas(this);\n",
       "    this._init_toolbar(this);\n",
       "\n",
       "    var fig = this;\n",
       "\n",
       "    this.waiting = false;\n",
       "\n",
       "    this.ws.onopen =  function () {\n",
       "            fig.send_message(\"supports_binary\", {value: fig.supports_binary});\n",
       "            fig.send_message(\"send_image_mode\", {});\n",
       "            if (mpl.ratio != 1) {\n",
       "                fig.send_message(\"set_dpi_ratio\", {'dpi_ratio': mpl.ratio});\n",
       "            }\n",
       "            fig.send_message(\"refresh\", {});\n",
       "        }\n",
       "\n",
       "    this.imageObj.onload = function() {\n",
       "            if (fig.image_mode == 'full') {\n",
       "                // Full images could contain transparency (where diff images\n",
       "                // almost always do), so we need to clear the canvas so that\n",
       "                // there is no ghosting.\n",
       "                fig.context.clearRect(0, 0, fig.canvas.width, fig.canvas.height);\n",
       "            }\n",
       "            fig.context.drawImage(fig.imageObj, 0, 0);\n",
       "        };\n",
       "\n",
       "    this.imageObj.onunload = function() {\n",
       "        this.ws.close();\n",
       "    }\n",
       "\n",
       "    this.ws.onmessage = this._make_on_message_function(this);\n",
       "\n",
       "    this.ondownload = ondownload;\n",
       "}\n",
       "\n",
       "mpl.figure.prototype._init_header = function() {\n",
       "    var titlebar = $(\n",
       "        '<div class=\"ui-dialog-titlebar ui-widget-header ui-corner-all ' +\n",
       "        'ui-helper-clearfix\"/>');\n",
       "    var titletext = $(\n",
       "        '<div class=\"ui-dialog-title\" style=\"width: 100%; ' +\n",
       "        'text-align: center; padding: 3px;\"/>');\n",
       "    titlebar.append(titletext)\n",
       "    this.root.append(titlebar);\n",
       "    this.header = titletext[0];\n",
       "}\n",
       "\n",
       "\n",
       "\n",
       "mpl.figure.prototype._canvas_extra_style = function(canvas_div) {\n",
       "\n",
       "}\n",
       "\n",
       "\n",
       "mpl.figure.prototype._root_extra_style = function(canvas_div) {\n",
       "\n",
       "}\n",
       "\n",
       "mpl.figure.prototype._init_canvas = function() {\n",
       "    var fig = this;\n",
       "\n",
       "    var canvas_div = $('<div/>');\n",
       "\n",
       "    canvas_div.attr('style', 'position: relative; clear: both; outline: 0');\n",
       "\n",
       "    function canvas_keyboard_event(event) {\n",
       "        return fig.key_event(event, event['data']);\n",
       "    }\n",
       "\n",
       "    canvas_div.keydown('key_press', canvas_keyboard_event);\n",
       "    canvas_div.keyup('key_release', canvas_keyboard_event);\n",
       "    this.canvas_div = canvas_div\n",
       "    this._canvas_extra_style(canvas_div)\n",
       "    this.root.append(canvas_div);\n",
       "\n",
       "    var canvas = $('<canvas/>');\n",
       "    canvas.addClass('mpl-canvas');\n",
       "    canvas.attr('style', \"left: 0; top: 0; z-index: 0; outline: 0\")\n",
       "\n",
       "    this.canvas = canvas[0];\n",
       "    this.context = canvas[0].getContext(\"2d\");\n",
       "\n",
       "    var backingStore = this.context.backingStorePixelRatio ||\n",
       "\tthis.context.webkitBackingStorePixelRatio ||\n",
       "\tthis.context.mozBackingStorePixelRatio ||\n",
       "\tthis.context.msBackingStorePixelRatio ||\n",
       "\tthis.context.oBackingStorePixelRatio ||\n",
       "\tthis.context.backingStorePixelRatio || 1;\n",
       "\n",
       "    mpl.ratio = (window.devicePixelRatio || 1) / backingStore;\n",
       "\n",
       "    var rubberband = $('<canvas/>');\n",
       "    rubberband.attr('style', \"position: absolute; left: 0; top: 0; z-index: 1;\")\n",
       "\n",
       "    var pass_mouse_events = true;\n",
       "\n",
       "    canvas_div.resizable({\n",
       "        start: function(event, ui) {\n",
       "            pass_mouse_events = false;\n",
       "        },\n",
       "        resize: function(event, ui) {\n",
       "            fig.request_resize(ui.size.width, ui.size.height);\n",
       "        },\n",
       "        stop: function(event, ui) {\n",
       "            pass_mouse_events = true;\n",
       "            fig.request_resize(ui.size.width, ui.size.height);\n",
       "        },\n",
       "    });\n",
       "\n",
       "    function mouse_event_fn(event) {\n",
       "        if (pass_mouse_events)\n",
       "            return fig.mouse_event(event, event['data']);\n",
       "    }\n",
       "\n",
       "    rubberband.mousedown('button_press', mouse_event_fn);\n",
       "    rubberband.mouseup('button_release', mouse_event_fn);\n",
       "    // Throttle sequential mouse events to 1 every 20ms.\n",
       "    rubberband.mousemove('motion_notify', mouse_event_fn);\n",
       "\n",
       "    rubberband.mouseenter('figure_enter', mouse_event_fn);\n",
       "    rubberband.mouseleave('figure_leave', mouse_event_fn);\n",
       "\n",
       "    canvas_div.on(\"wheel\", function (event) {\n",
       "        event = event.originalEvent;\n",
       "        event['data'] = 'scroll'\n",
       "        if (event.deltaY < 0) {\n",
       "            event.step = 1;\n",
       "        } else {\n",
       "            event.step = -1;\n",
       "        }\n",
       "        mouse_event_fn(event);\n",
       "    });\n",
       "\n",
       "    canvas_div.append(canvas);\n",
       "    canvas_div.append(rubberband);\n",
       "\n",
       "    this.rubberband = rubberband;\n",
       "    this.rubberband_canvas = rubberband[0];\n",
       "    this.rubberband_context = rubberband[0].getContext(\"2d\");\n",
       "    this.rubberband_context.strokeStyle = \"#000000\";\n",
       "\n",
       "    this._resize_canvas = function(width, height) {\n",
       "        // Keep the size of the canvas, canvas container, and rubber band\n",
       "        // canvas in synch.\n",
       "        canvas_div.css('width', width)\n",
       "        canvas_div.css('height', height)\n",
       "\n",
       "        canvas.attr('width', width * mpl.ratio);\n",
       "        canvas.attr('height', height * mpl.ratio);\n",
       "        canvas.attr('style', 'width: ' + width + 'px; height: ' + height + 'px;');\n",
       "\n",
       "        rubberband.attr('width', width);\n",
       "        rubberband.attr('height', height);\n",
       "    }\n",
       "\n",
       "    // Set the figure to an initial 600x600px, this will subsequently be updated\n",
       "    // upon first draw.\n",
       "    this._resize_canvas(600, 600);\n",
       "\n",
       "    // Disable right mouse context menu.\n",
       "    $(this.rubberband_canvas).bind(\"contextmenu\",function(e){\n",
       "        return false;\n",
       "    });\n",
       "\n",
       "    function set_focus () {\n",
       "        canvas.focus();\n",
       "        canvas_div.focus();\n",
       "    }\n",
       "\n",
       "    window.setTimeout(set_focus, 100);\n",
       "}\n",
       "\n",
       "mpl.figure.prototype._init_toolbar = function() {\n",
       "    var fig = this;\n",
       "\n",
       "    var nav_element = $('<div/>')\n",
       "    nav_element.attr('style', 'width: 100%');\n",
       "    this.root.append(nav_element);\n",
       "\n",
       "    // Define a callback function for later on.\n",
       "    function toolbar_event(event) {\n",
       "        return fig.toolbar_button_onclick(event['data']);\n",
       "    }\n",
       "    function toolbar_mouse_event(event) {\n",
       "        return fig.toolbar_button_onmouseover(event['data']);\n",
       "    }\n",
       "\n",
       "    for(var toolbar_ind in mpl.toolbar_items) {\n",
       "        var name = mpl.toolbar_items[toolbar_ind][0];\n",
       "        var tooltip = mpl.toolbar_items[toolbar_ind][1];\n",
       "        var image = mpl.toolbar_items[toolbar_ind][2];\n",
       "        var method_name = mpl.toolbar_items[toolbar_ind][3];\n",
       "\n",
       "        if (!name) {\n",
       "            // put a spacer in here.\n",
       "            continue;\n",
       "        }\n",
       "        var button = $('<button/>');\n",
       "        button.addClass('ui-button ui-widget ui-state-default ui-corner-all ' +\n",
       "                        'ui-button-icon-only');\n",
       "        button.attr('role', 'button');\n",
       "        button.attr('aria-disabled', 'false');\n",
       "        button.click(method_name, toolbar_event);\n",
       "        button.mouseover(tooltip, toolbar_mouse_event);\n",
       "\n",
       "        var icon_img = $('<span/>');\n",
       "        icon_img.addClass('ui-button-icon-primary ui-icon');\n",
       "        icon_img.addClass(image);\n",
       "        icon_img.addClass('ui-corner-all');\n",
       "\n",
       "        var tooltip_span = $('<span/>');\n",
       "        tooltip_span.addClass('ui-button-text');\n",
       "        tooltip_span.html(tooltip);\n",
       "\n",
       "        button.append(icon_img);\n",
       "        button.append(tooltip_span);\n",
       "\n",
       "        nav_element.append(button);\n",
       "    }\n",
       "\n",
       "    var fmt_picker_span = $('<span/>');\n",
       "\n",
       "    var fmt_picker = $('<select/>');\n",
       "    fmt_picker.addClass('mpl-toolbar-option ui-widget ui-widget-content');\n",
       "    fmt_picker_span.append(fmt_picker);\n",
       "    nav_element.append(fmt_picker_span);\n",
       "    this.format_dropdown = fmt_picker[0];\n",
       "\n",
       "    for (var ind in mpl.extensions) {\n",
       "        var fmt = mpl.extensions[ind];\n",
       "        var option = $(\n",
       "            '<option/>', {selected: fmt === mpl.default_extension}).html(fmt);\n",
       "        fmt_picker.append(option)\n",
       "    }\n",
       "\n",
       "    // Add hover states to the ui-buttons\n",
       "    $( \".ui-button\" ).hover(\n",
       "        function() { $(this).addClass(\"ui-state-hover\");},\n",
       "        function() { $(this).removeClass(\"ui-state-hover\");}\n",
       "    );\n",
       "\n",
       "    var status_bar = $('<span class=\"mpl-message\"/>');\n",
       "    nav_element.append(status_bar);\n",
       "    this.message = status_bar[0];\n",
       "}\n",
       "\n",
       "mpl.figure.prototype.request_resize = function(x_pixels, y_pixels) {\n",
       "    // Request matplotlib to resize the figure. Matplotlib will then trigger a resize in the client,\n",
       "    // which will in turn request a refresh of the image.\n",
       "    this.send_message('resize', {'width': x_pixels, 'height': y_pixels});\n",
       "}\n",
       "\n",
       "mpl.figure.prototype.send_message = function(type, properties) {\n",
       "    properties['type'] = type;\n",
       "    properties['figure_id'] = this.id;\n",
       "    this.ws.send(JSON.stringify(properties));\n",
       "}\n",
       "\n",
       "mpl.figure.prototype.send_draw_message = function() {\n",
       "    if (!this.waiting) {\n",
       "        this.waiting = true;\n",
       "        this.ws.send(JSON.stringify({type: \"draw\", figure_id: this.id}));\n",
       "    }\n",
       "}\n",
       "\n",
       "\n",
       "mpl.figure.prototype.handle_save = function(fig, msg) {\n",
       "    var format_dropdown = fig.format_dropdown;\n",
       "    var format = format_dropdown.options[format_dropdown.selectedIndex].value;\n",
       "    fig.ondownload(fig, format);\n",
       "}\n",
       "\n",
       "\n",
       "mpl.figure.prototype.handle_resize = function(fig, msg) {\n",
       "    var size = msg['size'];\n",
       "    if (size[0] != fig.canvas.width || size[1] != fig.canvas.height) {\n",
       "        fig._resize_canvas(size[0], size[1]);\n",
       "        fig.send_message(\"refresh\", {});\n",
       "    };\n",
       "}\n",
       "\n",
       "mpl.figure.prototype.handle_rubberband = function(fig, msg) {\n",
       "    var x0 = msg['x0'] / mpl.ratio;\n",
       "    var y0 = (fig.canvas.height - msg['y0']) / mpl.ratio;\n",
       "    var x1 = msg['x1'] / mpl.ratio;\n",
       "    var y1 = (fig.canvas.height - msg['y1']) / mpl.ratio;\n",
       "    x0 = Math.floor(x0) + 0.5;\n",
       "    y0 = Math.floor(y0) + 0.5;\n",
       "    x1 = Math.floor(x1) + 0.5;\n",
       "    y1 = Math.floor(y1) + 0.5;\n",
       "    var min_x = Math.min(x0, x1);\n",
       "    var min_y = Math.min(y0, y1);\n",
       "    var width = Math.abs(x1 - x0);\n",
       "    var height = Math.abs(y1 - y0);\n",
       "\n",
       "    fig.rubberband_context.clearRect(\n",
       "        0, 0, fig.canvas.width, fig.canvas.height);\n",
       "\n",
       "    fig.rubberband_context.strokeRect(min_x, min_y, width, height);\n",
       "}\n",
       "\n",
       "mpl.figure.prototype.handle_figure_label = function(fig, msg) {\n",
       "    // Updates the figure title.\n",
       "    fig.header.textContent = msg['label'];\n",
       "}\n",
       "\n",
       "mpl.figure.prototype.handle_cursor = function(fig, msg) {\n",
       "    var cursor = msg['cursor'];\n",
       "    switch(cursor)\n",
       "    {\n",
       "    case 0:\n",
       "        cursor = 'pointer';\n",
       "        break;\n",
       "    case 1:\n",
       "        cursor = 'default';\n",
       "        break;\n",
       "    case 2:\n",
       "        cursor = 'crosshair';\n",
       "        break;\n",
       "    case 3:\n",
       "        cursor = 'move';\n",
       "        break;\n",
       "    }\n",
       "    fig.rubberband_canvas.style.cursor = cursor;\n",
       "}\n",
       "\n",
       "mpl.figure.prototype.handle_message = function(fig, msg) {\n",
       "    fig.message.textContent = msg['message'];\n",
       "}\n",
       "\n",
       "mpl.figure.prototype.handle_draw = function(fig, msg) {\n",
       "    // Request the server to send over a new figure.\n",
       "    fig.send_draw_message();\n",
       "}\n",
       "\n",
       "mpl.figure.prototype.handle_image_mode = function(fig, msg) {\n",
       "    fig.image_mode = msg['mode'];\n",
       "}\n",
       "\n",
       "mpl.figure.prototype.updated_canvas_event = function() {\n",
       "    // Called whenever the canvas gets updated.\n",
       "    this.send_message(\"ack\", {});\n",
       "}\n",
       "\n",
       "// A function to construct a web socket function for onmessage handling.\n",
       "// Called in the figure constructor.\n",
       "mpl.figure.prototype._make_on_message_function = function(fig) {\n",
       "    return function socket_on_message(evt) {\n",
       "        if (evt.data instanceof Blob) {\n",
       "            /* FIXME: We get \"Resource interpreted as Image but\n",
       "             * transferred with MIME type text/plain:\" errors on\n",
       "             * Chrome.  But how to set the MIME type?  It doesn't seem\n",
       "             * to be part of the websocket stream */\n",
       "            evt.data.type = \"image/png\";\n",
       "\n",
       "            /* Free the memory for the previous frames */\n",
       "            if (fig.imageObj.src) {\n",
       "                (window.URL || window.webkitURL).revokeObjectURL(\n",
       "                    fig.imageObj.src);\n",
       "            }\n",
       "\n",
       "            fig.imageObj.src = (window.URL || window.webkitURL).createObjectURL(\n",
       "                evt.data);\n",
       "            fig.updated_canvas_event();\n",
       "            fig.waiting = false;\n",
       "            return;\n",
       "        }\n",
       "        else if (typeof evt.data === 'string' && evt.data.slice(0, 21) == \"data:image/png;base64\") {\n",
       "            fig.imageObj.src = evt.data;\n",
       "            fig.updated_canvas_event();\n",
       "            fig.waiting = false;\n",
       "            return;\n",
       "        }\n",
       "\n",
       "        var msg = JSON.parse(evt.data);\n",
       "        var msg_type = msg['type'];\n",
       "\n",
       "        // Call the  \"handle_{type}\" callback, which takes\n",
       "        // the figure and JSON message as its only arguments.\n",
       "        try {\n",
       "            var callback = fig[\"handle_\" + msg_type];\n",
       "        } catch (e) {\n",
       "            console.log(\"No handler for the '\" + msg_type + \"' message type: \", msg);\n",
       "            return;\n",
       "        }\n",
       "\n",
       "        if (callback) {\n",
       "            try {\n",
       "                // console.log(\"Handling '\" + msg_type + \"' message: \", msg);\n",
       "                callback(fig, msg);\n",
       "            } catch (e) {\n",
       "                console.log(\"Exception inside the 'handler_\" + msg_type + \"' callback:\", e, e.stack, msg);\n",
       "            }\n",
       "        }\n",
       "    };\n",
       "}\n",
       "\n",
       "// from http://stackoverflow.com/questions/1114465/getting-mouse-location-in-canvas\n",
       "mpl.findpos = function(e) {\n",
       "    //this section is from http://www.quirksmode.org/js/events_properties.html\n",
       "    var targ;\n",
       "    if (!e)\n",
       "        e = window.event;\n",
       "    if (e.target)\n",
       "        targ = e.target;\n",
       "    else if (e.srcElement)\n",
       "        targ = e.srcElement;\n",
       "    if (targ.nodeType == 3) // defeat Safari bug\n",
       "        targ = targ.parentNode;\n",
       "\n",
       "    // jQuery normalizes the pageX and pageY\n",
       "    // pageX,Y are the mouse positions relative to the document\n",
       "    // offset() returns the position of the element relative to the document\n",
       "    var x = e.pageX - $(targ).offset().left;\n",
       "    var y = e.pageY - $(targ).offset().top;\n",
       "\n",
       "    return {\"x\": x, \"y\": y};\n",
       "};\n",
       "\n",
       "/*\n",
       " * return a copy of an object with only non-object keys\n",
       " * we need this to avoid circular references\n",
       " * http://stackoverflow.com/a/24161582/3208463\n",
       " */\n",
       "function simpleKeys (original) {\n",
       "  return Object.keys(original).reduce(function (obj, key) {\n",
       "    if (typeof original[key] !== 'object')\n",
       "        obj[key] = original[key]\n",
       "    return obj;\n",
       "  }, {});\n",
       "}\n",
       "\n",
       "mpl.figure.prototype.mouse_event = function(event, name) {\n",
       "    var canvas_pos = mpl.findpos(event)\n",
       "\n",
       "    if (name === 'button_press')\n",
       "    {\n",
       "        this.canvas.focus();\n",
       "        this.canvas_div.focus();\n",
       "    }\n",
       "\n",
       "    var x = canvas_pos.x * mpl.ratio;\n",
       "    var y = canvas_pos.y * mpl.ratio;\n",
       "\n",
       "    this.send_message(name, {x: x, y: y, button: event.button,\n",
       "                             step: event.step,\n",
       "                             guiEvent: simpleKeys(event)});\n",
       "\n",
       "    /* This prevents the web browser from automatically changing to\n",
       "     * the text insertion cursor when the button is pressed.  We want\n",
       "     * to control all of the cursor setting manually through the\n",
       "     * 'cursor' event from matplotlib */\n",
       "    event.preventDefault();\n",
       "    return false;\n",
       "}\n",
       "\n",
       "mpl.figure.prototype._key_event_extra = function(event, name) {\n",
       "    // Handle any extra behaviour associated with a key event\n",
       "}\n",
       "\n",
       "mpl.figure.prototype.key_event = function(event, name) {\n",
       "\n",
       "    // Prevent repeat events\n",
       "    if (name == 'key_press')\n",
       "    {\n",
       "        if (event.which === this._key)\n",
       "            return;\n",
       "        else\n",
       "            this._key = event.which;\n",
       "    }\n",
       "    if (name == 'key_release')\n",
       "        this._key = null;\n",
       "\n",
       "    var value = '';\n",
       "    if (event.ctrlKey && event.which != 17)\n",
       "        value += \"ctrl+\";\n",
       "    if (event.altKey && event.which != 18)\n",
       "        value += \"alt+\";\n",
       "    if (event.shiftKey && event.which != 16)\n",
       "        value += \"shift+\";\n",
       "\n",
       "    value += 'k';\n",
       "    value += event.which.toString();\n",
       "\n",
       "    this._key_event_extra(event, name);\n",
       "\n",
       "    this.send_message(name, {key: value,\n",
       "                             guiEvent: simpleKeys(event)});\n",
       "    return false;\n",
       "}\n",
       "\n",
       "mpl.figure.prototype.toolbar_button_onclick = function(name) {\n",
       "    if (name == 'download') {\n",
       "        this.handle_save(this, null);\n",
       "    } else {\n",
       "        this.send_message(\"toolbar_button\", {name: name});\n",
       "    }\n",
       "};\n",
       "\n",
       "mpl.figure.prototype.toolbar_button_onmouseover = function(tooltip) {\n",
       "    this.message.textContent = tooltip;\n",
       "};\n",
       "mpl.toolbar_items = [[\"Home\", \"Reset original view\", \"fa fa-home icon-home\", \"home\"], [\"Back\", \"Back to  previous view\", \"fa fa-arrow-left icon-arrow-left\", \"back\"], [\"Forward\", \"Forward to next view\", \"fa fa-arrow-right icon-arrow-right\", \"forward\"], [\"\", \"\", \"\", \"\"], [\"Pan\", \"Pan axes with left mouse, zoom with right\", \"fa fa-arrows icon-move\", \"pan\"], [\"Zoom\", \"Zoom to rectangle\", \"fa fa-square-o icon-check-empty\", \"zoom\"], [\"\", \"\", \"\", \"\"], [\"Download\", \"Download plot\", \"fa fa-floppy-o icon-save\", \"download\"]];\n",
       "\n",
       "mpl.extensions = [\"eps\", \"jpeg\", \"pdf\", \"png\", \"ps\", \"raw\", \"svg\", \"tif\"];\n",
       "\n",
       "mpl.default_extension = \"png\";var comm_websocket_adapter = function(comm) {\n",
       "    // Create a \"websocket\"-like object which calls the given IPython comm\n",
       "    // object with the appropriate methods. Currently this is a non binary\n",
       "    // socket, so there is still some room for performance tuning.\n",
       "    var ws = {};\n",
       "\n",
       "    ws.close = function() {\n",
       "        comm.close()\n",
       "    };\n",
       "    ws.send = function(m) {\n",
       "        //console.log('sending', m);\n",
       "        comm.send(m);\n",
       "    };\n",
       "    // Register the callback with on_msg.\n",
       "    comm.on_msg(function(msg) {\n",
       "        //console.log('receiving', msg['content']['data'], msg);\n",
       "        // Pass the mpl event to the overriden (by mpl) onmessage function.\n",
       "        ws.onmessage(msg['content']['data'])\n",
       "    });\n",
       "    return ws;\n",
       "}\n",
       "\n",
       "mpl.mpl_figure_comm = function(comm, msg) {\n",
       "    // This is the function which gets called when the mpl process\n",
       "    // starts-up an IPython Comm through the \"matplotlib\" channel.\n",
       "\n",
       "    var id = msg.content.data.id;\n",
       "    // Get hold of the div created by the display call when the Comm\n",
       "    // socket was opened in Python.\n",
       "    var element = $(\"#\" + id);\n",
       "    var ws_proxy = comm_websocket_adapter(comm)\n",
       "\n",
       "    function ondownload(figure, format) {\n",
       "        window.open(figure.imageObj.src);\n",
       "    }\n",
       "\n",
       "    var fig = new mpl.figure(id, ws_proxy,\n",
       "                           ondownload,\n",
       "                           element.get(0));\n",
       "\n",
       "    // Call onopen now - mpl needs it, as it is assuming we've passed it a real\n",
       "    // web socket which is closed, not our websocket->open comm proxy.\n",
       "    ws_proxy.onopen();\n",
       "\n",
       "    fig.parent_element = element.get(0);\n",
       "    fig.cell_info = mpl.find_output_cell(\"<div id='\" + id + \"'></div>\");\n",
       "    if (!fig.cell_info) {\n",
       "        console.error(\"Failed to find cell for figure\", id, fig);\n",
       "        return;\n",
       "    }\n",
       "\n",
       "    var output_index = fig.cell_info[2]\n",
       "    var cell = fig.cell_info[0];\n",
       "\n",
       "};\n",
       "\n",
       "mpl.figure.prototype.handle_close = function(fig, msg) {\n",
       "    var width = fig.canvas.width/mpl.ratio\n",
       "    fig.root.unbind('remove')\n",
       "\n",
       "    // Update the output cell to use the data from the current canvas.\n",
       "    fig.push_to_output();\n",
       "    var dataURL = fig.canvas.toDataURL();\n",
       "    // Re-enable the keyboard manager in IPython - without this line, in FF,\n",
       "    // the notebook keyboard shortcuts fail.\n",
       "    IPython.keyboard_manager.enable()\n",
       "    $(fig.parent_element).html('<img src=\"' + dataURL + '\" width=\"' + width + '\">');\n",
       "    fig.close_ws(fig, msg);\n",
       "}\n",
       "\n",
       "mpl.figure.prototype.close_ws = function(fig, msg){\n",
       "    fig.send_message('closing', msg);\n",
       "    // fig.ws.close()\n",
       "}\n",
       "\n",
       "mpl.figure.prototype.push_to_output = function(remove_interactive) {\n",
       "    // Turn the data on the canvas into data in the output cell.\n",
       "    var width = this.canvas.width/mpl.ratio\n",
       "    var dataURL = this.canvas.toDataURL();\n",
       "    this.cell_info[1]['text/html'] = '<img src=\"' + dataURL + '\" width=\"' + width + '\">';\n",
       "}\n",
       "\n",
       "mpl.figure.prototype.updated_canvas_event = function() {\n",
       "    // Tell IPython that the notebook contents must change.\n",
       "    IPython.notebook.set_dirty(true);\n",
       "    this.send_message(\"ack\", {});\n",
       "    var fig = this;\n",
       "    // Wait a second, then push the new image to the DOM so\n",
       "    // that it is saved nicely (might be nice to debounce this).\n",
       "    setTimeout(function () { fig.push_to_output() }, 1000);\n",
       "}\n",
       "\n",
       "mpl.figure.prototype._init_toolbar = function() {\n",
       "    var fig = this;\n",
       "\n",
       "    var nav_element = $('<div/>')\n",
       "    nav_element.attr('style', 'width: 100%');\n",
       "    this.root.append(nav_element);\n",
       "\n",
       "    // Define a callback function for later on.\n",
       "    function toolbar_event(event) {\n",
       "        return fig.toolbar_button_onclick(event['data']);\n",
       "    }\n",
       "    function toolbar_mouse_event(event) {\n",
       "        return fig.toolbar_button_onmouseover(event['data']);\n",
       "    }\n",
       "\n",
       "    for(var toolbar_ind in mpl.toolbar_items){\n",
       "        var name = mpl.toolbar_items[toolbar_ind][0];\n",
       "        var tooltip = mpl.toolbar_items[toolbar_ind][1];\n",
       "        var image = mpl.toolbar_items[toolbar_ind][2];\n",
       "        var method_name = mpl.toolbar_items[toolbar_ind][3];\n",
       "\n",
       "        if (!name) { continue; };\n",
       "\n",
       "        var button = $('<button class=\"btn btn-default\" href=\"#\" title=\"' + name + '\"><i class=\"fa ' + image + ' fa-lg\"></i></button>');\n",
       "        button.click(method_name, toolbar_event);\n",
       "        button.mouseover(tooltip, toolbar_mouse_event);\n",
       "        nav_element.append(button);\n",
       "    }\n",
       "\n",
       "    // Add the status bar.\n",
       "    var status_bar = $('<span class=\"mpl-message\" style=\"text-align:right; float: right;\"/>');\n",
       "    nav_element.append(status_bar);\n",
       "    this.message = status_bar[0];\n",
       "\n",
       "    // Add the close button to the window.\n",
       "    var buttongrp = $('<div class=\"btn-group inline pull-right\"></div>');\n",
       "    var button = $('<button class=\"btn btn-mini btn-primary\" href=\"#\" title=\"Stop Interaction\"><i class=\"fa fa-power-off icon-remove icon-large\"></i></button>');\n",
       "    button.click(function (evt) { fig.handle_close(fig, {}); } );\n",
       "    button.mouseover('Stop Interaction', toolbar_mouse_event);\n",
       "    buttongrp.append(button);\n",
       "    var titlebar = this.root.find($('.ui-dialog-titlebar'));\n",
       "    titlebar.prepend(buttongrp);\n",
       "}\n",
       "\n",
       "mpl.figure.prototype._root_extra_style = function(el){\n",
       "    var fig = this\n",
       "    el.on(\"remove\", function(){\n",
       "\tfig.close_ws(fig, {});\n",
       "    });\n",
       "}\n",
       "\n",
       "mpl.figure.prototype._canvas_extra_style = function(el){\n",
       "    // this is important to make the div 'focusable\n",
       "    el.attr('tabindex', 0)\n",
       "    // reach out to IPython and tell the keyboard manager to turn it's self\n",
       "    // off when our div gets focus\n",
       "\n",
       "    // location in version 3\n",
       "    if (IPython.notebook.keyboard_manager) {\n",
       "        IPython.notebook.keyboard_manager.register_events(el);\n",
       "    }\n",
       "    else {\n",
       "        // location in version 2\n",
       "        IPython.keyboard_manager.register_events(el);\n",
       "    }\n",
       "\n",
       "}\n",
       "\n",
       "mpl.figure.prototype._key_event_extra = function(event, name) {\n",
       "    var manager = IPython.notebook.keyboard_manager;\n",
       "    if (!manager)\n",
       "        manager = IPython.keyboard_manager;\n",
       "\n",
       "    // Check for shift+enter\n",
       "    if (event.shiftKey && event.which == 13) {\n",
       "        this.canvas_div.blur();\n",
       "        // select the cell after this one\n",
       "        var index = IPython.notebook.find_cell_index(this.cell_info[0]);\n",
       "        IPython.notebook.select(index + 1);\n",
       "    }\n",
       "}\n",
       "\n",
       "mpl.figure.prototype.handle_save = function(fig, msg) {\n",
       "    fig.ondownload(fig, null);\n",
       "}\n",
       "\n",
       "\n",
       "mpl.find_output_cell = function(html_output) {\n",
       "    // Return the cell and output element which can be found *uniquely* in the notebook.\n",
       "    // Note - this is a bit hacky, but it is done because the \"notebook_saving.Notebook\"\n",
       "    // IPython event is triggered only after the cells have been serialised, which for\n",
       "    // our purposes (turning an active figure into a static one), is too late.\n",
       "    var cells = IPython.notebook.get_cells();\n",
       "    var ncells = cells.length;\n",
       "    for (var i=0; i<ncells; i++) {\n",
       "        var cell = cells[i];\n",
       "        if (cell.cell_type === 'code'){\n",
       "            for (var j=0; j<cell.output_area.outputs.length; j++) {\n",
       "                var data = cell.output_area.outputs[j];\n",
       "                if (data.data) {\n",
       "                    // IPython >= 3 moved mimebundle to data attribute of output\n",
       "                    data = data.data;\n",
       "                }\n",
       "                if (data['text/html'] == html_output) {\n",
       "                    return [cell, data, j];\n",
       "                }\n",
       "            }\n",
       "        }\n",
       "    }\n",
       "}\n",
       "\n",
       "// Register the function which deals with the matplotlib target/channel.\n",
       "// The kernel may be null if the page has been refreshed.\n",
       "if (IPython.notebook.kernel != null) {\n",
       "    IPython.notebook.kernel.comm_manager.register_target('matplotlib', mpl.mpl_figure_comm);\n",
       "}\n"
      ],
      "text/plain": [
       "<IPython.core.display.Javascript object>"
      ]
     },
     "metadata": {},
     "output_type": "display_data"
    },
    {
     "data": {
      "text/html": [
       "<img src=\"data:image/png;base64,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\" width=\"640\">"
      ],
      "text/plain": [
       "<IPython.core.display.HTML object>"
      ]
     },
     "metadata": {},
     "output_type": "display_data"
    },
    {
     "data": {
      "text/plain": [
       "<matplotlib.collections.PathCollection at 0x11e8c60b8>"
      ]
     },
     "execution_count": 13,
     "metadata": {},
     "output_type": "execute_result"
    }
   ],
   "source": [
    "f2,ax2 = plt.subplots()\n",
    "ax2.scatter(xdata,ydatalog)"
   ]
  },
  {
   "cell_type": "code",
   "execution_count": 15,
   "metadata": {
    "collapsed": true
   },
   "outputs": [],
   "source": [
    "np.polyfit?"
   ]
  },
  {
   "cell_type": "code",
   "execution_count": 16,
   "metadata": {},
   "outputs": [
    {
     "data": {
      "text/plain": [
       "(-0.047725977371510915, 2.3085737075634767)"
      ]
     },
     "execution_count": 16,
     "metadata": {},
     "output_type": "execute_result"
    }
   ],
   "source": [
    "m,b = np.polyfit(xdata,ydatalog,1)\n",
    "m,b"
   ]
  },
  {
   "cell_type": "code",
   "execution_count": 17,
   "metadata": {},
   "outputs": [
    {
     "data": {
      "text/plain": [
       "[<matplotlib.lines.Line2D at 0x11eabf6a0>]"
      ]
     },
     "execution_count": 17,
     "metadata": {},
     "output_type": "execute_result"
    }
   ],
   "source": [
    "ax2.plot(xdata,xdata*m+b)"
   ]
  },
  {
   "cell_type": "markdown",
   "metadata": {},
   "source": [
    "Generate some new data based on our measured A and T values"
   ]
  },
  {
   "cell_type": "code",
   "execution_count": 18,
   "metadata": {},
   "outputs": [
    {
     "data": {
      "text/plain": [
       "10.060065821707679"
      ]
     },
     "execution_count": 18,
     "metadata": {},
     "output_type": "execute_result"
    }
   ],
   "source": [
    "A_measured = np.exp(b)\n",
    "A_measured"
   ]
  },
  {
   "cell_type": "code",
   "execution_count": 19,
   "metadata": {},
   "outputs": [
    {
     "data": {
      "text/plain": [
       "20.952949631932114"
      ]
     },
     "execution_count": 19,
     "metadata": {},
     "output_type": "execute_result"
    }
   ],
   "source": [
    "T_measured = -1/m\n",
    "T_measured"
   ]
  },
  {
   "cell_type": "code",
   "execution_count": 20,
   "metadata": {
    "collapsed": true
   },
   "outputs": [],
   "source": [
    "ydata_linfit = exp_decay(xdata,A_measured,T_measured)"
   ]
  },
  {
   "cell_type": "code",
   "execution_count": 21,
   "metadata": {},
   "outputs": [
    {
     "data": {
      "text/plain": [
       "[<matplotlib.lines.Line2D at 0x11eabfb38>]"
      ]
     },
     "execution_count": 21,
     "metadata": {},
     "output_type": "execute_result"
    }
   ],
   "source": [
    "ax.plot(xdata,ydata_linfit)"
   ]
  },
  {
   "cell_type": "markdown",
   "metadata": {},
   "source": [
    "## Exercise: curve_fit\n",
    "Use `scipy.optimize.curve_fit()` to fit the same ydata directly to the exponential decay function that we defined. Plot the fit. Is it better or worse than the linear fit?"
   ]
  },
  {
   "cell_type": "code",
   "execution_count": 23,
   "metadata": {
    "collapsed": true
   },
   "outputs": [],
   "source": [
    "from scipy.optimize import curve_fit\n",
    "curve_fit?"
   ]
  },
  {
   "cell_type": "code",
   "execution_count": 26,
   "metadata": {
    "collapsed": true
   },
   "outputs": [],
   "source": [
    "popt, pcov = curve_fit(exp_decay,xdata,ydata,bounds=[(5,10),(50,100)],p0=[10,20])"
   ]
  },
  {
   "cell_type": "code",
   "execution_count": 27,
   "metadata": {},
   "outputs": [
    {
     "data": {
      "text/plain": [
       "array([ 10.11938587,  20.76528903])"
      ]
     },
     "execution_count": 27,
     "metadata": {},
     "output_type": "execute_result"
    }
   ],
   "source": [
    "popt"
   ]
  },
  {
   "cell_type": "code",
   "execution_count": null,
   "metadata": {
    "collapsed": true
   },
   "outputs": [],
   "source": []
  },
  {
   "cell_type": "code",
   "execution_count": null,
   "metadata": {
    "collapsed": true
   },
   "outputs": [],
   "source": []
  },
  {
   "cell_type": "markdown",
   "metadata": {},
   "source": [
    "## Exercise: Write an image class that can fit a curve across the time dimension\n",
    "\n",
    "* Write an image generator method that generates a 4D image that contains a exponential decay timeseries along each voxel. Add some noise to make it realistic\n",
    "* Keep the mask generator method from last time\n",
    "* Write a method that computes the decay constant in each masked voxel\n",
    "* Write a method that omputes the mean time constant in masked voxels and assign to to an attribute\n",
    "* Write a method that plots some orthogonal slices\n",
    "* Write a method that plots a histogram of the time constant distribution in masked voxels\n",
    "\n",
    "Some tips:\n",
    "* Take one step at a time\n",
    "* Test frequently\n",
    "* Use google! Anything that seems tricky probably has a simple solution"
   ]
  },
  {
   "cell_type": "code",
   "execution_count": null,
   "metadata": {
    "collapsed": true
   },
   "outputs": [],
   "source": [
    "class Image4D(Image):\n",
    "    pass"
   ]
  },
  {
   "cell_type": "code",
   "execution_count": null,
   "metadata": {
    "collapsed": true
   },
   "outputs": [],
   "source": []
  },
  {
   "cell_type": "markdown",
   "metadata": {},
   "source": [
    "## Pandas\n",
    "[pandas](http://pandas.pydata.org/) is the data analysis package in Python. It provides a [DataFrame](http://pandas.pydata.org/pandas-docs/stable/dsintro.html#dataframe) object which acts like a spreadsheet. Let's import the package and some data:"
   ]
  },
  {
   "cell_type": "code",
   "execution_count": 28,
   "metadata": {
    "collapsed": true
   },
   "outputs": [],
   "source": [
    "import pandas as pd"
   ]
  },
  {
   "cell_type": "markdown",
   "metadata": {},
   "source": [
    "The Vancouver Police Deparment publishes crime data through City of Vancouver's Open Data Catalogue. Let's import the data (prepared and posted at math.ubc.ca/~pwalls) using the `pandas.read_csv()` function:"
   ]
  },
  {
   "cell_type": "code",
   "execution_count": 29,
   "metadata": {
    "collapsed": true
   },
   "outputs": [],
   "source": [
    "data = pd.read_csv('http://www.math.ubc.ca/~pwalls/data/van_crime.csv')"
   ]
  },
  {
   "cell_type": "markdown",
   "metadata": {},
   "source": [
    "Examine the top few lines to the dataframe"
   ]
  },
  {
   "cell_type": "code",
   "execution_count": 30,
   "metadata": {},
   "outputs": [
    {
     "data": {
      "text/html": [
       "<div>\n",
       "<style>\n",
       "    .dataframe thead tr:only-child th {\n",
       "        text-align: right;\n",
       "    }\n",
       "\n",
       "    .dataframe thead th {\n",
       "        text-align: left;\n",
       "    }\n",
       "\n",
       "    .dataframe tbody tr th {\n",
       "        vertical-align: top;\n",
       "    }\n",
       "</style>\n",
       "<table border=\"1\" class=\"dataframe\">\n",
       "  <thead>\n",
       "    <tr style=\"text-align: right;\">\n",
       "      <th></th>\n",
       "      <th>TYPE</th>\n",
       "      <th>YEAR</th>\n",
       "      <th>MONTH</th>\n",
       "      <th>HUNDRED_BLOCK</th>\n",
       "      <th>NEIGHBOURHOOD</th>\n",
       "      <th>X</th>\n",
       "      <th>Y</th>\n",
       "    </tr>\n",
       "  </thead>\n",
       "  <tbody>\n",
       "    <tr>\n",
       "      <th>0</th>\n",
       "      <td>Mischief</td>\n",
       "      <td>2015</td>\n",
       "      <td>3</td>\n",
       "      <td>26XX E 49TH AVE</td>\n",
       "      <td>Victoria-Fraserview</td>\n",
       "      <td>496065.581256</td>\n",
       "      <td>5.452452e+06</td>\n",
       "    </tr>\n",
       "    <tr>\n",
       "      <th>1</th>\n",
       "      <td>Theft from Vehicle</td>\n",
       "      <td>2015</td>\n",
       "      <td>12</td>\n",
       "      <td>34XX WILLIAM ST</td>\n",
       "      <td>Hastings-Sunrise</td>\n",
       "      <td>497850.800800</td>\n",
       "      <td>5.457933e+06</td>\n",
       "    </tr>\n",
       "    <tr>\n",
       "      <th>2</th>\n",
       "      <td>Theft from Vehicle</td>\n",
       "      <td>2015</td>\n",
       "      <td>4</td>\n",
       "      <td>34XX WILLIAM ST</td>\n",
       "      <td>Hastings-Sunrise</td>\n",
       "      <td>497879.450446</td>\n",
       "      <td>5.457923e+06</td>\n",
       "    </tr>\n",
       "    <tr>\n",
       "      <th>3</th>\n",
       "      <td>Theft from Vehicle</td>\n",
       "      <td>2015</td>\n",
       "      <td>10</td>\n",
       "      <td>34XX WILLIAM ST</td>\n",
       "      <td>Hastings-Sunrise</td>\n",
       "      <td>497901.623450</td>\n",
       "      <td>5.457932e+06</td>\n",
       "    </tr>\n",
       "    <tr>\n",
       "      <th>4</th>\n",
       "      <td>Theft from Vehicle</td>\n",
       "      <td>2015</td>\n",
       "      <td>9</td>\n",
       "      <td>34XX WILLIAM ST</td>\n",
       "      <td>Hastings-Sunrise</td>\n",
       "      <td>497921.510576</td>\n",
       "      <td>5.457932e+06</td>\n",
       "    </tr>\n",
       "  </tbody>\n",
       "</table>\n",
       "</div>"
      ],
      "text/plain": [
       "                 TYPE  YEAR  MONTH    HUNDRED_BLOCK        NEIGHBOURHOOD  \\\n",
       "0            Mischief  2015      3  26XX E 49TH AVE  Victoria-Fraserview   \n",
       "1  Theft from Vehicle  2015     12  34XX WILLIAM ST     Hastings-Sunrise   \n",
       "2  Theft from Vehicle  2015      4  34XX WILLIAM ST     Hastings-Sunrise   \n",
       "3  Theft from Vehicle  2015     10  34XX WILLIAM ST     Hastings-Sunrise   \n",
       "4  Theft from Vehicle  2015      9  34XX WILLIAM ST     Hastings-Sunrise   \n",
       "\n",
       "               X             Y  \n",
       "0  496065.581256  5.452452e+06  \n",
       "1  497850.800800  5.457933e+06  \n",
       "2  497879.450446  5.457923e+06  \n",
       "3  497901.623450  5.457932e+06  \n",
       "4  497921.510576  5.457932e+06  "
      ]
     },
     "execution_count": 30,
     "metadata": {},
     "output_type": "execute_result"
    }
   ],
   "source": [
    "data.head()"
   ]
  },
  {
   "cell_type": "markdown",
   "metadata": {},
   "source": [
    "User the `info` method to learn about the columns in the dataframe"
   ]
  },
  {
   "cell_type": "code",
   "execution_count": 31,
   "metadata": {},
   "outputs": [
    {
     "name": "stdout",
     "output_type": "stream",
     "text": [
      "<class 'pandas.core.frame.DataFrame'>\n",
      "RangeIndex: 45802 entries, 0 to 45801\n",
      "Data columns (total 7 columns):\n",
      "TYPE             45802 non-null object\n",
      "YEAR             45802 non-null int64\n",
      "MONTH            45802 non-null int64\n",
      "HUNDRED_BLOCK    45802 non-null object\n",
      "NEIGHBOURHOOD    41815 non-null object\n",
      "X                45802 non-null float64\n",
      "Y                45802 non-null float64\n",
      "dtypes: float64(2), int64(2), object(3)\n",
      "memory usage: 2.4+ MB\n"
     ]
    }
   ],
   "source": [
    "data.info()"
   ]
  },
  {
   "cell_type": "markdown",
   "metadata": {},
   "source": [
    "Use the DataFrame method unique to see the different types of crimes in the dataset:"
   ]
  },
  {
   "cell_type": "code",
   "execution_count": 32,
   "metadata": {},
   "outputs": [
    {
     "data": {
      "text/plain": [
       "Index(['TYPE', 'YEAR', 'MONTH', 'HUNDRED_BLOCK', 'NEIGHBOURHOOD', 'X', 'Y'], dtype='object')"
      ]
     },
     "execution_count": 32,
     "metadata": {},
     "output_type": "execute_result"
    }
   ],
   "source": [
    "data.columns"
   ]
  },
  {
   "cell_type": "code",
   "execution_count": 34,
   "metadata": {},
   "outputs": [
    {
     "data": {
      "text/plain": [
       "array(['Mischief', 'Theft from Vehicle', 'Other Theft', 'Theft of Vehicle',\n",
       "       'Break and Enter Residential/Other', 'Offence Against a Person',\n",
       "       'Homicide', 'Break and Enter Commercial'], dtype=object)"
      ]
     },
     "execution_count": 34,
     "metadata": {},
     "output_type": "execute_result"
    }
   ],
   "source": [
    "data['TYPE'].unique()"
   ]
  },
  {
   "cell_type": "markdown",
   "metadata": {},
   "source": [
    "Notice that we select columns using brackets and the column name. There are some crimes that do not include the longitude and latitude coordinates due to privacy. Let's do a query and select the rows where the X coordinate is 0:"
   ]
  },
  {
   "cell_type": "code",
   "execution_count": 35,
   "metadata": {},
   "outputs": [
    {
     "data": {
      "text/html": [
       "<div>\n",
       "<style>\n",
       "    .dataframe thead tr:only-child th {\n",
       "        text-align: right;\n",
       "    }\n",
       "\n",
       "    .dataframe thead th {\n",
       "        text-align: left;\n",
       "    }\n",
       "\n",
       "    .dataframe tbody tr th {\n",
       "        vertical-align: top;\n",
       "    }\n",
       "</style>\n",
       "<table border=\"1\" class=\"dataframe\">\n",
       "  <thead>\n",
       "    <tr style=\"text-align: right;\">\n",
       "      <th></th>\n",
       "      <th>TYPE</th>\n",
       "      <th>YEAR</th>\n",
       "      <th>MONTH</th>\n",
       "      <th>HUNDRED_BLOCK</th>\n",
       "      <th>NEIGHBOURHOOD</th>\n",
       "      <th>X</th>\n",
       "      <th>Y</th>\n",
       "    </tr>\n",
       "  </thead>\n",
       "  <tbody>\n",
       "    <tr>\n",
       "      <th>168</th>\n",
       "      <td>Offence Against a Person</td>\n",
       "      <td>2015</td>\n",
       "      <td>12</td>\n",
       "      <td>OFFSET TO PROTECT PRIVACY</td>\n",
       "      <td>NaN</td>\n",
       "      <td>0.0</td>\n",
       "      <td>0.0</td>\n",
       "    </tr>\n",
       "    <tr>\n",
       "      <th>223</th>\n",
       "      <td>Offence Against a Person</td>\n",
       "      <td>2015</td>\n",
       "      <td>9</td>\n",
       "      <td>OFFSET TO PROTECT PRIVACY</td>\n",
       "      <td>NaN</td>\n",
       "      <td>0.0</td>\n",
       "      <td>0.0</td>\n",
       "    </tr>\n",
       "    <tr>\n",
       "      <th>225</th>\n",
       "      <td>Offence Against a Person</td>\n",
       "      <td>2015</td>\n",
       "      <td>2</td>\n",
       "      <td>OFFSET TO PROTECT PRIVACY</td>\n",
       "      <td>NaN</td>\n",
       "      <td>0.0</td>\n",
       "      <td>0.0</td>\n",
       "    </tr>\n",
       "    <tr>\n",
       "      <th>244</th>\n",
       "      <td>Offence Against a Person</td>\n",
       "      <td>2015</td>\n",
       "      <td>4</td>\n",
       "      <td>OFFSET TO PROTECT PRIVACY</td>\n",
       "      <td>NaN</td>\n",
       "      <td>0.0</td>\n",
       "      <td>0.0</td>\n",
       "    </tr>\n",
       "    <tr>\n",
       "      <th>407</th>\n",
       "      <td>Offence Against a Person</td>\n",
       "      <td>2015</td>\n",
       "      <td>9</td>\n",
       "      <td>OFFSET TO PROTECT PRIVACY</td>\n",
       "      <td>NaN</td>\n",
       "      <td>0.0</td>\n",
       "      <td>0.0</td>\n",
       "    </tr>\n",
       "    <tr>\n",
       "      <th>677</th>\n",
       "      <td>Offence Against a Person</td>\n",
       "      <td>2015</td>\n",
       "      <td>10</td>\n",
       "      <td>OFFSET TO PROTECT PRIVACY</td>\n",
       "      <td>NaN</td>\n",
       "      <td>0.0</td>\n",
       "      <td>0.0</td>\n",
       "    </tr>\n",
       "    <tr>\n",
       "      <th>756</th>\n",
       "      <td>Offence Against a Person</td>\n",
       "      <td>2015</td>\n",
       "      <td>1</td>\n",
       "      <td>OFFSET TO PROTECT PRIVACY</td>\n",
       "      <td>NaN</td>\n",
       "      <td>0.0</td>\n",
       "      <td>0.0</td>\n",
       "    </tr>\n",
       "    <tr>\n",
       "      <th>1047</th>\n",
       "      <td>Offence Against a Person</td>\n",
       "      <td>2015</td>\n",
       "      <td>5</td>\n",
       "      <td>OFFSET TO PROTECT PRIVACY</td>\n",
       "      <td>NaN</td>\n",
       "      <td>0.0</td>\n",
       "      <td>0.0</td>\n",
       "    </tr>\n",
       "    <tr>\n",
       "      <th>1316</th>\n",
       "      <td>Offence Against a Person</td>\n",
       "      <td>2015</td>\n",
       "      <td>9</td>\n",
       "      <td>OFFSET TO PROTECT PRIVACY</td>\n",
       "      <td>NaN</td>\n",
       "      <td>0.0</td>\n",
       "      <td>0.0</td>\n",
       "    </tr>\n",
       "    <tr>\n",
       "      <th>1452</th>\n",
       "      <td>Offence Against a Person</td>\n",
       "      <td>2015</td>\n",
       "      <td>7</td>\n",
       "      <td>OFFSET TO PROTECT PRIVACY</td>\n",
       "      <td>NaN</td>\n",
       "      <td>0.0</td>\n",
       "      <td>0.0</td>\n",
       "    </tr>\n",
       "  </tbody>\n",
       "</table>\n",
       "</div>"
      ],
      "text/plain": [
       "                          TYPE  YEAR  MONTH              HUNDRED_BLOCK  \\\n",
       "168   Offence Against a Person  2015     12  OFFSET TO PROTECT PRIVACY   \n",
       "223   Offence Against a Person  2015      9  OFFSET TO PROTECT PRIVACY   \n",
       "225   Offence Against a Person  2015      2  OFFSET TO PROTECT PRIVACY   \n",
       "244   Offence Against a Person  2015      4  OFFSET TO PROTECT PRIVACY   \n",
       "407   Offence Against a Person  2015      9  OFFSET TO PROTECT PRIVACY   \n",
       "677   Offence Against a Person  2015     10  OFFSET TO PROTECT PRIVACY   \n",
       "756   Offence Against a Person  2015      1  OFFSET TO PROTECT PRIVACY   \n",
       "1047  Offence Against a Person  2015      5  OFFSET TO PROTECT PRIVACY   \n",
       "1316  Offence Against a Person  2015      9  OFFSET TO PROTECT PRIVACY   \n",
       "1452  Offence Against a Person  2015      7  OFFSET TO PROTECT PRIVACY   \n",
       "\n",
       "     NEIGHBOURHOOD    X    Y  \n",
       "168            NaN  0.0  0.0  \n",
       "223            NaN  0.0  0.0  \n",
       "225            NaN  0.0  0.0  \n",
       "244            NaN  0.0  0.0  \n",
       "407            NaN  0.0  0.0  \n",
       "677            NaN  0.0  0.0  \n",
       "756            NaN  0.0  0.0  \n",
       "1047           NaN  0.0  0.0  \n",
       "1316           NaN  0.0  0.0  \n",
       "1452           NaN  0.0  0.0  "
      ]
     },
     "execution_count": 35,
     "metadata": {},
     "output_type": "execute_result"
    }
   ],
   "source": [
    "data[data['X'] == 0].head(10)"
   ]
  },
  {
   "cell_type": "markdown",
   "metadata": {},
   "source": [
    "To access individual cells, we can use Datafram methods `.loc` or `.iloc`"
   ]
  },
  {
   "cell_type": "code",
   "execution_count": null,
   "metadata": {
    "collapsed": true
   },
   "outputs": [],
   "source": [
    "data.loc[5,'TYPE']"
   ]
  },
  {
   "cell_type": "code",
   "execution_count": null,
   "metadata": {
    "collapsed": true
   },
   "outputs": [],
   "source": [
    "data.iloc[5,0]"
   ]
  },
  {
   "cell_type": "code",
   "execution_count": 37,
   "metadata": {},
   "outputs": [
    {
     "data": {
      "application/javascript": [
       "/* Put everything inside the global mpl namespace */\n",
       "window.mpl = {};\n",
       "\n",
       "\n",
       "mpl.get_websocket_type = function() {\n",
       "    if (typeof(WebSocket) !== 'undefined') {\n",
       "        return WebSocket;\n",
       "    } else if (typeof(MozWebSocket) !== 'undefined') {\n",
       "        return MozWebSocket;\n",
       "    } else {\n",
       "        alert('Your browser does not have WebSocket support.' +\n",
       "              'Please try Chrome, Safari or Firefox ≥ 6. ' +\n",
       "              'Firefox 4 and 5 are also supported but you ' +\n",
       "              'have to enable WebSockets in about:config.');\n",
       "    };\n",
       "}\n",
       "\n",
       "mpl.figure = function(figure_id, websocket, ondownload, parent_element) {\n",
       "    this.id = figure_id;\n",
       "\n",
       "    this.ws = websocket;\n",
       "\n",
       "    this.supports_binary = (this.ws.binaryType != undefined);\n",
       "\n",
       "    if (!this.supports_binary) {\n",
       "        var warnings = document.getElementById(\"mpl-warnings\");\n",
       "        if (warnings) {\n",
       "            warnings.style.display = 'block';\n",
       "            warnings.textContent = (\n",
       "                \"This browser does not support binary websocket messages. \" +\n",
       "                    \"Performance may be slow.\");\n",
       "        }\n",
       "    }\n",
       "\n",
       "    this.imageObj = new Image();\n",
       "\n",
       "    this.context = undefined;\n",
       "    this.message = undefined;\n",
       "    this.canvas = undefined;\n",
       "    this.rubberband_canvas = undefined;\n",
       "    this.rubberband_context = undefined;\n",
       "    this.format_dropdown = undefined;\n",
       "\n",
       "    this.image_mode = 'full';\n",
       "\n",
       "    this.root = $('<div/>');\n",
       "    this._root_extra_style(this.root)\n",
       "    this.root.attr('style', 'display: inline-block');\n",
       "\n",
       "    $(parent_element).append(this.root);\n",
       "\n",
       "    this._init_header(this);\n",
       "    this._init_canvas(this);\n",
       "    this._init_toolbar(this);\n",
       "\n",
       "    var fig = this;\n",
       "\n",
       "    this.waiting = false;\n",
       "\n",
       "    this.ws.onopen =  function () {\n",
       "            fig.send_message(\"supports_binary\", {value: fig.supports_binary});\n",
       "            fig.send_message(\"send_image_mode\", {});\n",
       "            if (mpl.ratio != 1) {\n",
       "                fig.send_message(\"set_dpi_ratio\", {'dpi_ratio': mpl.ratio});\n",
       "            }\n",
       "            fig.send_message(\"refresh\", {});\n",
       "        }\n",
       "\n",
       "    this.imageObj.onload = function() {\n",
       "            if (fig.image_mode == 'full') {\n",
       "                // Full images could contain transparency (where diff images\n",
       "                // almost always do), so we need to clear the canvas so that\n",
       "                // there is no ghosting.\n",
       "                fig.context.clearRect(0, 0, fig.canvas.width, fig.canvas.height);\n",
       "            }\n",
       "            fig.context.drawImage(fig.imageObj, 0, 0);\n",
       "        };\n",
       "\n",
       "    this.imageObj.onunload = function() {\n",
       "        this.ws.close();\n",
       "    }\n",
       "\n",
       "    this.ws.onmessage = this._make_on_message_function(this);\n",
       "\n",
       "    this.ondownload = ondownload;\n",
       "}\n",
       "\n",
       "mpl.figure.prototype._init_header = function() {\n",
       "    var titlebar = $(\n",
       "        '<div class=\"ui-dialog-titlebar ui-widget-header ui-corner-all ' +\n",
       "        'ui-helper-clearfix\"/>');\n",
       "    var titletext = $(\n",
       "        '<div class=\"ui-dialog-title\" style=\"width: 100%; ' +\n",
       "        'text-align: center; padding: 3px;\"/>');\n",
       "    titlebar.append(titletext)\n",
       "    this.root.append(titlebar);\n",
       "    this.header = titletext[0];\n",
       "}\n",
       "\n",
       "\n",
       "\n",
       "mpl.figure.prototype._canvas_extra_style = function(canvas_div) {\n",
       "\n",
       "}\n",
       "\n",
       "\n",
       "mpl.figure.prototype._root_extra_style = function(canvas_div) {\n",
       "\n",
       "}\n",
       "\n",
       "mpl.figure.prototype._init_canvas = function() {\n",
       "    var fig = this;\n",
       "\n",
       "    var canvas_div = $('<div/>');\n",
       "\n",
       "    canvas_div.attr('style', 'position: relative; clear: both; outline: 0');\n",
       "\n",
       "    function canvas_keyboard_event(event) {\n",
       "        return fig.key_event(event, event['data']);\n",
       "    }\n",
       "\n",
       "    canvas_div.keydown('key_press', canvas_keyboard_event);\n",
       "    canvas_div.keyup('key_release', canvas_keyboard_event);\n",
       "    this.canvas_div = canvas_div\n",
       "    this._canvas_extra_style(canvas_div)\n",
       "    this.root.append(canvas_div);\n",
       "\n",
       "    var canvas = $('<canvas/>');\n",
       "    canvas.addClass('mpl-canvas');\n",
       "    canvas.attr('style', \"left: 0; top: 0; z-index: 0; outline: 0\")\n",
       "\n",
       "    this.canvas = canvas[0];\n",
       "    this.context = canvas[0].getContext(\"2d\");\n",
       "\n",
       "    var backingStore = this.context.backingStorePixelRatio ||\n",
       "\tthis.context.webkitBackingStorePixelRatio ||\n",
       "\tthis.context.mozBackingStorePixelRatio ||\n",
       "\tthis.context.msBackingStorePixelRatio ||\n",
       "\tthis.context.oBackingStorePixelRatio ||\n",
       "\tthis.context.backingStorePixelRatio || 1;\n",
       "\n",
       "    mpl.ratio = (window.devicePixelRatio || 1) / backingStore;\n",
       "\n",
       "    var rubberband = $('<canvas/>');\n",
       "    rubberband.attr('style', \"position: absolute; left: 0; top: 0; z-index: 1;\")\n",
       "\n",
       "    var pass_mouse_events = true;\n",
       "\n",
       "    canvas_div.resizable({\n",
       "        start: function(event, ui) {\n",
       "            pass_mouse_events = false;\n",
       "        },\n",
       "        resize: function(event, ui) {\n",
       "            fig.request_resize(ui.size.width, ui.size.height);\n",
       "        },\n",
       "        stop: function(event, ui) {\n",
       "            pass_mouse_events = true;\n",
       "            fig.request_resize(ui.size.width, ui.size.height);\n",
       "        },\n",
       "    });\n",
       "\n",
       "    function mouse_event_fn(event) {\n",
       "        if (pass_mouse_events)\n",
       "            return fig.mouse_event(event, event['data']);\n",
       "    }\n",
       "\n",
       "    rubberband.mousedown('button_press', mouse_event_fn);\n",
       "    rubberband.mouseup('button_release', mouse_event_fn);\n",
       "    // Throttle sequential mouse events to 1 every 20ms.\n",
       "    rubberband.mousemove('motion_notify', mouse_event_fn);\n",
       "\n",
       "    rubberband.mouseenter('figure_enter', mouse_event_fn);\n",
       "    rubberband.mouseleave('figure_leave', mouse_event_fn);\n",
       "\n",
       "    canvas_div.on(\"wheel\", function (event) {\n",
       "        event = event.originalEvent;\n",
       "        event['data'] = 'scroll'\n",
       "        if (event.deltaY < 0) {\n",
       "            event.step = 1;\n",
       "        } else {\n",
       "            event.step = -1;\n",
       "        }\n",
       "        mouse_event_fn(event);\n",
       "    });\n",
       "\n",
       "    canvas_div.append(canvas);\n",
       "    canvas_div.append(rubberband);\n",
       "\n",
       "    this.rubberband = rubberband;\n",
       "    this.rubberband_canvas = rubberband[0];\n",
       "    this.rubberband_context = rubberband[0].getContext(\"2d\");\n",
       "    this.rubberband_context.strokeStyle = \"#000000\";\n",
       "\n",
       "    this._resize_canvas = function(width, height) {\n",
       "        // Keep the size of the canvas, canvas container, and rubber band\n",
       "        // canvas in synch.\n",
       "        canvas_div.css('width', width)\n",
       "        canvas_div.css('height', height)\n",
       "\n",
       "        canvas.attr('width', width * mpl.ratio);\n",
       "        canvas.attr('height', height * mpl.ratio);\n",
       "        canvas.attr('style', 'width: ' + width + 'px; height: ' + height + 'px;');\n",
       "\n",
       "        rubberband.attr('width', width);\n",
       "        rubberband.attr('height', height);\n",
       "    }\n",
       "\n",
       "    // Set the figure to an initial 600x600px, this will subsequently be updated\n",
       "    // upon first draw.\n",
       "    this._resize_canvas(600, 600);\n",
       "\n",
       "    // Disable right mouse context menu.\n",
       "    $(this.rubberband_canvas).bind(\"contextmenu\",function(e){\n",
       "        return false;\n",
       "    });\n",
       "\n",
       "    function set_focus () {\n",
       "        canvas.focus();\n",
       "        canvas_div.focus();\n",
       "    }\n",
       "\n",
       "    window.setTimeout(set_focus, 100);\n",
       "}\n",
       "\n",
       "mpl.figure.prototype._init_toolbar = function() {\n",
       "    var fig = this;\n",
       "\n",
       "    var nav_element = $('<div/>')\n",
       "    nav_element.attr('style', 'width: 100%');\n",
       "    this.root.append(nav_element);\n",
       "\n",
       "    // Define a callback function for later on.\n",
       "    function toolbar_event(event) {\n",
       "        return fig.toolbar_button_onclick(event['data']);\n",
       "    }\n",
       "    function toolbar_mouse_event(event) {\n",
       "        return fig.toolbar_button_onmouseover(event['data']);\n",
       "    }\n",
       "\n",
       "    for(var toolbar_ind in mpl.toolbar_items) {\n",
       "        var name = mpl.toolbar_items[toolbar_ind][0];\n",
       "        var tooltip = mpl.toolbar_items[toolbar_ind][1];\n",
       "        var image = mpl.toolbar_items[toolbar_ind][2];\n",
       "        var method_name = mpl.toolbar_items[toolbar_ind][3];\n",
       "\n",
       "        if (!name) {\n",
       "            // put a spacer in here.\n",
       "            continue;\n",
       "        }\n",
       "        var button = $('<button/>');\n",
       "        button.addClass('ui-button ui-widget ui-state-default ui-corner-all ' +\n",
       "                        'ui-button-icon-only');\n",
       "        button.attr('role', 'button');\n",
       "        button.attr('aria-disabled', 'false');\n",
       "        button.click(method_name, toolbar_event);\n",
       "        button.mouseover(tooltip, toolbar_mouse_event);\n",
       "\n",
       "        var icon_img = $('<span/>');\n",
       "        icon_img.addClass('ui-button-icon-primary ui-icon');\n",
       "        icon_img.addClass(image);\n",
       "        icon_img.addClass('ui-corner-all');\n",
       "\n",
       "        var tooltip_span = $('<span/>');\n",
       "        tooltip_span.addClass('ui-button-text');\n",
       "        tooltip_span.html(tooltip);\n",
       "\n",
       "        button.append(icon_img);\n",
       "        button.append(tooltip_span);\n",
       "\n",
       "        nav_element.append(button);\n",
       "    }\n",
       "\n",
       "    var fmt_picker_span = $('<span/>');\n",
       "\n",
       "    var fmt_picker = $('<select/>');\n",
       "    fmt_picker.addClass('mpl-toolbar-option ui-widget ui-widget-content');\n",
       "    fmt_picker_span.append(fmt_picker);\n",
       "    nav_element.append(fmt_picker_span);\n",
       "    this.format_dropdown = fmt_picker[0];\n",
       "\n",
       "    for (var ind in mpl.extensions) {\n",
       "        var fmt = mpl.extensions[ind];\n",
       "        var option = $(\n",
       "            '<option/>', {selected: fmt === mpl.default_extension}).html(fmt);\n",
       "        fmt_picker.append(option)\n",
       "    }\n",
       "\n",
       "    // Add hover states to the ui-buttons\n",
       "    $( \".ui-button\" ).hover(\n",
       "        function() { $(this).addClass(\"ui-state-hover\");},\n",
       "        function() { $(this).removeClass(\"ui-state-hover\");}\n",
       "    );\n",
       "\n",
       "    var status_bar = $('<span class=\"mpl-message\"/>');\n",
       "    nav_element.append(status_bar);\n",
       "    this.message = status_bar[0];\n",
       "}\n",
       "\n",
       "mpl.figure.prototype.request_resize = function(x_pixels, y_pixels) {\n",
       "    // Request matplotlib to resize the figure. Matplotlib will then trigger a resize in the client,\n",
       "    // which will in turn request a refresh of the image.\n",
       "    this.send_message('resize', {'width': x_pixels, 'height': y_pixels});\n",
       "}\n",
       "\n",
       "mpl.figure.prototype.send_message = function(type, properties) {\n",
       "    properties['type'] = type;\n",
       "    properties['figure_id'] = this.id;\n",
       "    this.ws.send(JSON.stringify(properties));\n",
       "}\n",
       "\n",
       "mpl.figure.prototype.send_draw_message = function() {\n",
       "    if (!this.waiting) {\n",
       "        this.waiting = true;\n",
       "        this.ws.send(JSON.stringify({type: \"draw\", figure_id: this.id}));\n",
       "    }\n",
       "}\n",
       "\n",
       "\n",
       "mpl.figure.prototype.handle_save = function(fig, msg) {\n",
       "    var format_dropdown = fig.format_dropdown;\n",
       "    var format = format_dropdown.options[format_dropdown.selectedIndex].value;\n",
       "    fig.ondownload(fig, format);\n",
       "}\n",
       "\n",
       "\n",
       "mpl.figure.prototype.handle_resize = function(fig, msg) {\n",
       "    var size = msg['size'];\n",
       "    if (size[0] != fig.canvas.width || size[1] != fig.canvas.height) {\n",
       "        fig._resize_canvas(size[0], size[1]);\n",
       "        fig.send_message(\"refresh\", {});\n",
       "    };\n",
       "}\n",
       "\n",
       "mpl.figure.prototype.handle_rubberband = function(fig, msg) {\n",
       "    var x0 = msg['x0'] / mpl.ratio;\n",
       "    var y0 = (fig.canvas.height - msg['y0']) / mpl.ratio;\n",
       "    var x1 = msg['x1'] / mpl.ratio;\n",
       "    var y1 = (fig.canvas.height - msg['y1']) / mpl.ratio;\n",
       "    x0 = Math.floor(x0) + 0.5;\n",
       "    y0 = Math.floor(y0) + 0.5;\n",
       "    x1 = Math.floor(x1) + 0.5;\n",
       "    y1 = Math.floor(y1) + 0.5;\n",
       "    var min_x = Math.min(x0, x1);\n",
       "    var min_y = Math.min(y0, y1);\n",
       "    var width = Math.abs(x1 - x0);\n",
       "    var height = Math.abs(y1 - y0);\n",
       "\n",
       "    fig.rubberband_context.clearRect(\n",
       "        0, 0, fig.canvas.width, fig.canvas.height);\n",
       "\n",
       "    fig.rubberband_context.strokeRect(min_x, min_y, width, height);\n",
       "}\n",
       "\n",
       "mpl.figure.prototype.handle_figure_label = function(fig, msg) {\n",
       "    // Updates the figure title.\n",
       "    fig.header.textContent = msg['label'];\n",
       "}\n",
       "\n",
       "mpl.figure.prototype.handle_cursor = function(fig, msg) {\n",
       "    var cursor = msg['cursor'];\n",
       "    switch(cursor)\n",
       "    {\n",
       "    case 0:\n",
       "        cursor = 'pointer';\n",
       "        break;\n",
       "    case 1:\n",
       "        cursor = 'default';\n",
       "        break;\n",
       "    case 2:\n",
       "        cursor = 'crosshair';\n",
       "        break;\n",
       "    case 3:\n",
       "        cursor = 'move';\n",
       "        break;\n",
       "    }\n",
       "    fig.rubberband_canvas.style.cursor = cursor;\n",
       "}\n",
       "\n",
       "mpl.figure.prototype.handle_message = function(fig, msg) {\n",
       "    fig.message.textContent = msg['message'];\n",
       "}\n",
       "\n",
       "mpl.figure.prototype.handle_draw = function(fig, msg) {\n",
       "    // Request the server to send over a new figure.\n",
       "    fig.send_draw_message();\n",
       "}\n",
       "\n",
       "mpl.figure.prototype.handle_image_mode = function(fig, msg) {\n",
       "    fig.image_mode = msg['mode'];\n",
       "}\n",
       "\n",
       "mpl.figure.prototype.updated_canvas_event = function() {\n",
       "    // Called whenever the canvas gets updated.\n",
       "    this.send_message(\"ack\", {});\n",
       "}\n",
       "\n",
       "// A function to construct a web socket function for onmessage handling.\n",
       "// Called in the figure constructor.\n",
       "mpl.figure.prototype._make_on_message_function = function(fig) {\n",
       "    return function socket_on_message(evt) {\n",
       "        if (evt.data instanceof Blob) {\n",
       "            /* FIXME: We get \"Resource interpreted as Image but\n",
       "             * transferred with MIME type text/plain:\" errors on\n",
       "             * Chrome.  But how to set the MIME type?  It doesn't seem\n",
       "             * to be part of the websocket stream */\n",
       "            evt.data.type = \"image/png\";\n",
       "\n",
       "            /* Free the memory for the previous frames */\n",
       "            if (fig.imageObj.src) {\n",
       "                (window.URL || window.webkitURL).revokeObjectURL(\n",
       "                    fig.imageObj.src);\n",
       "            }\n",
       "\n",
       "            fig.imageObj.src = (window.URL || window.webkitURL).createObjectURL(\n",
       "                evt.data);\n",
       "            fig.updated_canvas_event();\n",
       "            fig.waiting = false;\n",
       "            return;\n",
       "        }\n",
       "        else if (typeof evt.data === 'string' && evt.data.slice(0, 21) == \"data:image/png;base64\") {\n",
       "            fig.imageObj.src = evt.data;\n",
       "            fig.updated_canvas_event();\n",
       "            fig.waiting = false;\n",
       "            return;\n",
       "        }\n",
       "\n",
       "        var msg = JSON.parse(evt.data);\n",
       "        var msg_type = msg['type'];\n",
       "\n",
       "        // Call the  \"handle_{type}\" callback, which takes\n",
       "        // the figure and JSON message as its only arguments.\n",
       "        try {\n",
       "            var callback = fig[\"handle_\" + msg_type];\n",
       "        } catch (e) {\n",
       "            console.log(\"No handler for the '\" + msg_type + \"' message type: \", msg);\n",
       "            return;\n",
       "        }\n",
       "\n",
       "        if (callback) {\n",
       "            try {\n",
       "                // console.log(\"Handling '\" + msg_type + \"' message: \", msg);\n",
       "                callback(fig, msg);\n",
       "            } catch (e) {\n",
       "                console.log(\"Exception inside the 'handler_\" + msg_type + \"' callback:\", e, e.stack, msg);\n",
       "            }\n",
       "        }\n",
       "    };\n",
       "}\n",
       "\n",
       "// from http://stackoverflow.com/questions/1114465/getting-mouse-location-in-canvas\n",
       "mpl.findpos = function(e) {\n",
       "    //this section is from http://www.quirksmode.org/js/events_properties.html\n",
       "    var targ;\n",
       "    if (!e)\n",
       "        e = window.event;\n",
       "    if (e.target)\n",
       "        targ = e.target;\n",
       "    else if (e.srcElement)\n",
       "        targ = e.srcElement;\n",
       "    if (targ.nodeType == 3) // defeat Safari bug\n",
       "        targ = targ.parentNode;\n",
       "\n",
       "    // jQuery normalizes the pageX and pageY\n",
       "    // pageX,Y are the mouse positions relative to the document\n",
       "    // offset() returns the position of the element relative to the document\n",
       "    var x = e.pageX - $(targ).offset().left;\n",
       "    var y = e.pageY - $(targ).offset().top;\n",
       "\n",
       "    return {\"x\": x, \"y\": y};\n",
       "};\n",
       "\n",
       "/*\n",
       " * return a copy of an object with only non-object keys\n",
       " * we need this to avoid circular references\n",
       " * http://stackoverflow.com/a/24161582/3208463\n",
       " */\n",
       "function simpleKeys (original) {\n",
       "  return Object.keys(original).reduce(function (obj, key) {\n",
       "    if (typeof original[key] !== 'object')\n",
       "        obj[key] = original[key]\n",
       "    return obj;\n",
       "  }, {});\n",
       "}\n",
       "\n",
       "mpl.figure.prototype.mouse_event = function(event, name) {\n",
       "    var canvas_pos = mpl.findpos(event)\n",
       "\n",
       "    if (name === 'button_press')\n",
       "    {\n",
       "        this.canvas.focus();\n",
       "        this.canvas_div.focus();\n",
       "    }\n",
       "\n",
       "    var x = canvas_pos.x * mpl.ratio;\n",
       "    var y = canvas_pos.y * mpl.ratio;\n",
       "\n",
       "    this.send_message(name, {x: x, y: y, button: event.button,\n",
       "                             step: event.step,\n",
       "                             guiEvent: simpleKeys(event)});\n",
       "\n",
       "    /* This prevents the web browser from automatically changing to\n",
       "     * the text insertion cursor when the button is pressed.  We want\n",
       "     * to control all of the cursor setting manually through the\n",
       "     * 'cursor' event from matplotlib */\n",
       "    event.preventDefault();\n",
       "    return false;\n",
       "}\n",
       "\n",
       "mpl.figure.prototype._key_event_extra = function(event, name) {\n",
       "    // Handle any extra behaviour associated with a key event\n",
       "}\n",
       "\n",
       "mpl.figure.prototype.key_event = function(event, name) {\n",
       "\n",
       "    // Prevent repeat events\n",
       "    if (name == 'key_press')\n",
       "    {\n",
       "        if (event.which === this._key)\n",
       "            return;\n",
       "        else\n",
       "            this._key = event.which;\n",
       "    }\n",
       "    if (name == 'key_release')\n",
       "        this._key = null;\n",
       "\n",
       "    var value = '';\n",
       "    if (event.ctrlKey && event.which != 17)\n",
       "        value += \"ctrl+\";\n",
       "    if (event.altKey && event.which != 18)\n",
       "        value += \"alt+\";\n",
       "    if (event.shiftKey && event.which != 16)\n",
       "        value += \"shift+\";\n",
       "\n",
       "    value += 'k';\n",
       "    value += event.which.toString();\n",
       "\n",
       "    this._key_event_extra(event, name);\n",
       "\n",
       "    this.send_message(name, {key: value,\n",
       "                             guiEvent: simpleKeys(event)});\n",
       "    return false;\n",
       "}\n",
       "\n",
       "mpl.figure.prototype.toolbar_button_onclick = function(name) {\n",
       "    if (name == 'download') {\n",
       "        this.handle_save(this, null);\n",
       "    } else {\n",
       "        this.send_message(\"toolbar_button\", {name: name});\n",
       "    }\n",
       "};\n",
       "\n",
       "mpl.figure.prototype.toolbar_button_onmouseover = function(tooltip) {\n",
       "    this.message.textContent = tooltip;\n",
       "};\n",
       "mpl.toolbar_items = [[\"Home\", \"Reset original view\", \"fa fa-home icon-home\", \"home\"], [\"Back\", \"Back to  previous view\", \"fa fa-arrow-left icon-arrow-left\", \"back\"], [\"Forward\", \"Forward to next view\", \"fa fa-arrow-right icon-arrow-right\", \"forward\"], [\"\", \"\", \"\", \"\"], [\"Pan\", \"Pan axes with left mouse, zoom with right\", \"fa fa-arrows icon-move\", \"pan\"], [\"Zoom\", \"Zoom to rectangle\", \"fa fa-square-o icon-check-empty\", \"zoom\"], [\"\", \"\", \"\", \"\"], [\"Download\", \"Download plot\", \"fa fa-floppy-o icon-save\", \"download\"]];\n",
       "\n",
       "mpl.extensions = [\"eps\", \"jpeg\", \"pdf\", \"png\", \"ps\", \"raw\", \"svg\", \"tif\"];\n",
       "\n",
       "mpl.default_extension = \"png\";var comm_websocket_adapter = function(comm) {\n",
       "    // Create a \"websocket\"-like object which calls the given IPython comm\n",
       "    // object with the appropriate methods. Currently this is a non binary\n",
       "    // socket, so there is still some room for performance tuning.\n",
       "    var ws = {};\n",
       "\n",
       "    ws.close = function() {\n",
       "        comm.close()\n",
       "    };\n",
       "    ws.send = function(m) {\n",
       "        //console.log('sending', m);\n",
       "        comm.send(m);\n",
       "    };\n",
       "    // Register the callback with on_msg.\n",
       "    comm.on_msg(function(msg) {\n",
       "        //console.log('receiving', msg['content']['data'], msg);\n",
       "        // Pass the mpl event to the overriden (by mpl) onmessage function.\n",
       "        ws.onmessage(msg['content']['data'])\n",
       "    });\n",
       "    return ws;\n",
       "}\n",
       "\n",
       "mpl.mpl_figure_comm = function(comm, msg) {\n",
       "    // This is the function which gets called when the mpl process\n",
       "    // starts-up an IPython Comm through the \"matplotlib\" channel.\n",
       "\n",
       "    var id = msg.content.data.id;\n",
       "    // Get hold of the div created by the display call when the Comm\n",
       "    // socket was opened in Python.\n",
       "    var element = $(\"#\" + id);\n",
       "    var ws_proxy = comm_websocket_adapter(comm)\n",
       "\n",
       "    function ondownload(figure, format) {\n",
       "        window.open(figure.imageObj.src);\n",
       "    }\n",
       "\n",
       "    var fig = new mpl.figure(id, ws_proxy,\n",
       "                           ondownload,\n",
       "                           element.get(0));\n",
       "\n",
       "    // Call onopen now - mpl needs it, as it is assuming we've passed it a real\n",
       "    // web socket which is closed, not our websocket->open comm proxy.\n",
       "    ws_proxy.onopen();\n",
       "\n",
       "    fig.parent_element = element.get(0);\n",
       "    fig.cell_info = mpl.find_output_cell(\"<div id='\" + id + \"'></div>\");\n",
       "    if (!fig.cell_info) {\n",
       "        console.error(\"Failed to find cell for figure\", id, fig);\n",
       "        return;\n",
       "    }\n",
       "\n",
       "    var output_index = fig.cell_info[2]\n",
       "    var cell = fig.cell_info[0];\n",
       "\n",
       "};\n",
       "\n",
       "mpl.figure.prototype.handle_close = function(fig, msg) {\n",
       "    var width = fig.canvas.width/mpl.ratio\n",
       "    fig.root.unbind('remove')\n",
       "\n",
       "    // Update the output cell to use the data from the current canvas.\n",
       "    fig.push_to_output();\n",
       "    var dataURL = fig.canvas.toDataURL();\n",
       "    // Re-enable the keyboard manager in IPython - without this line, in FF,\n",
       "    // the notebook keyboard shortcuts fail.\n",
       "    IPython.keyboard_manager.enable()\n",
       "    $(fig.parent_element).html('<img src=\"' + dataURL + '\" width=\"' + width + '\">');\n",
       "    fig.close_ws(fig, msg);\n",
       "}\n",
       "\n",
       "mpl.figure.prototype.close_ws = function(fig, msg){\n",
       "    fig.send_message('closing', msg);\n",
       "    // fig.ws.close()\n",
       "}\n",
       "\n",
       "mpl.figure.prototype.push_to_output = function(remove_interactive) {\n",
       "    // Turn the data on the canvas into data in the output cell.\n",
       "    var width = this.canvas.width/mpl.ratio\n",
       "    var dataURL = this.canvas.toDataURL();\n",
       "    this.cell_info[1]['text/html'] = '<img src=\"' + dataURL + '\" width=\"' + width + '\">';\n",
       "}\n",
       "\n",
       "mpl.figure.prototype.updated_canvas_event = function() {\n",
       "    // Tell IPython that the notebook contents must change.\n",
       "    IPython.notebook.set_dirty(true);\n",
       "    this.send_message(\"ack\", {});\n",
       "    var fig = this;\n",
       "    // Wait a second, then push the new image to the DOM so\n",
       "    // that it is saved nicely (might be nice to debounce this).\n",
       "    setTimeout(function () { fig.push_to_output() }, 1000);\n",
       "}\n",
       "\n",
       "mpl.figure.prototype._init_toolbar = function() {\n",
       "    var fig = this;\n",
       "\n",
       "    var nav_element = $('<div/>')\n",
       "    nav_element.attr('style', 'width: 100%');\n",
       "    this.root.append(nav_element);\n",
       "\n",
       "    // Define a callback function for later on.\n",
       "    function toolbar_event(event) {\n",
       "        return fig.toolbar_button_onclick(event['data']);\n",
       "    }\n",
       "    function toolbar_mouse_event(event) {\n",
       "        return fig.toolbar_button_onmouseover(event['data']);\n",
       "    }\n",
       "\n",
       "    for(var toolbar_ind in mpl.toolbar_items){\n",
       "        var name = mpl.toolbar_items[toolbar_ind][0];\n",
       "        var tooltip = mpl.toolbar_items[toolbar_ind][1];\n",
       "        var image = mpl.toolbar_items[toolbar_ind][2];\n",
       "        var method_name = mpl.toolbar_items[toolbar_ind][3];\n",
       "\n",
       "        if (!name) { continue; };\n",
       "\n",
       "        var button = $('<button class=\"btn btn-default\" href=\"#\" title=\"' + name + '\"><i class=\"fa ' + image + ' fa-lg\"></i></button>');\n",
       "        button.click(method_name, toolbar_event);\n",
       "        button.mouseover(tooltip, toolbar_mouse_event);\n",
       "        nav_element.append(button);\n",
       "    }\n",
       "\n",
       "    // Add the status bar.\n",
       "    var status_bar = $('<span class=\"mpl-message\" style=\"text-align:right; float: right;\"/>');\n",
       "    nav_element.append(status_bar);\n",
       "    this.message = status_bar[0];\n",
       "\n",
       "    // Add the close button to the window.\n",
       "    var buttongrp = $('<div class=\"btn-group inline pull-right\"></div>');\n",
       "    var button = $('<button class=\"btn btn-mini btn-primary\" href=\"#\" title=\"Stop Interaction\"><i class=\"fa fa-power-off icon-remove icon-large\"></i></button>');\n",
       "    button.click(function (evt) { fig.handle_close(fig, {}); } );\n",
       "    button.mouseover('Stop Interaction', toolbar_mouse_event);\n",
       "    buttongrp.append(button);\n",
       "    var titlebar = this.root.find($('.ui-dialog-titlebar'));\n",
       "    titlebar.prepend(buttongrp);\n",
       "}\n",
       "\n",
       "mpl.figure.prototype._root_extra_style = function(el){\n",
       "    var fig = this\n",
       "    el.on(\"remove\", function(){\n",
       "\tfig.close_ws(fig, {});\n",
       "    });\n",
       "}\n",
       "\n",
       "mpl.figure.prototype._canvas_extra_style = function(el){\n",
       "    // this is important to make the div 'focusable\n",
       "    el.attr('tabindex', 0)\n",
       "    // reach out to IPython and tell the keyboard manager to turn it's self\n",
       "    // off when our div gets focus\n",
       "\n",
       "    // location in version 3\n",
       "    if (IPython.notebook.keyboard_manager) {\n",
       "        IPython.notebook.keyboard_manager.register_events(el);\n",
       "    }\n",
       "    else {\n",
       "        // location in version 2\n",
       "        IPython.keyboard_manager.register_events(el);\n",
       "    }\n",
       "\n",
       "}\n",
       "\n",
       "mpl.figure.prototype._key_event_extra = function(event, name) {\n",
       "    var manager = IPython.notebook.keyboard_manager;\n",
       "    if (!manager)\n",
       "        manager = IPython.keyboard_manager;\n",
       "\n",
       "    // Check for shift+enter\n",
       "    if (event.shiftKey && event.which == 13) {\n",
       "        this.canvas_div.blur();\n",
       "        // select the cell after this one\n",
       "        var index = IPython.notebook.find_cell_index(this.cell_info[0]);\n",
       "        IPython.notebook.select(index + 1);\n",
       "    }\n",
       "}\n",
       "\n",
       "mpl.figure.prototype.handle_save = function(fig, msg) {\n",
       "    fig.ondownload(fig, null);\n",
       "}\n",
       "\n",
       "\n",
       "mpl.find_output_cell = function(html_output) {\n",
       "    // Return the cell and output element which can be found *uniquely* in the notebook.\n",
       "    // Note - this is a bit hacky, but it is done because the \"notebook_saving.Notebook\"\n",
       "    // IPython event is triggered only after the cells have been serialised, which for\n",
       "    // our purposes (turning an active figure into a static one), is too late.\n",
       "    var cells = IPython.notebook.get_cells();\n",
       "    var ncells = cells.length;\n",
       "    for (var i=0; i<ncells; i++) {\n",
       "        var cell = cells[i];\n",
       "        if (cell.cell_type === 'code'){\n",
       "            for (var j=0; j<cell.output_area.outputs.length; j++) {\n",
       "                var data = cell.output_area.outputs[j];\n",
       "                if (data.data) {\n",
       "                    // IPython >= 3 moved mimebundle to data attribute of output\n",
       "                    data = data.data;\n",
       "                }\n",
       "                if (data['text/html'] == html_output) {\n",
       "                    return [cell, data, j];\n",
       "                }\n",
       "            }\n",
       "        }\n",
       "    }\n",
       "}\n",
       "\n",
       "// Register the function which deals with the matplotlib target/channel.\n",
       "// The kernel may be null if the page has been refreshed.\n",
       "if (IPython.notebook.kernel != null) {\n",
       "    IPython.notebook.kernel.comm_manager.register_target('matplotlib', mpl.mpl_figure_comm);\n",
       "}\n"
      ],
      "text/plain": [
       "<IPython.core.display.Javascript object>"
      ]
     },
     "metadata": {},
     "output_type": "display_data"
    },
    {
     "data": {
      "text/html": [
       "<img src=\"data:image/png;base64,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\" width=\"800\">"
      ],
      "text/plain": [
       "<IPython.core.display.HTML object>"
      ]
     },
     "metadata": {},
     "output_type": "display_data"
    },
    {
     "data": {
      "text/plain": [
       "<matplotlib.axes._subplots.AxesSubplot at 0x121cef710>"
      ]
     },
     "execution_count": 37,
     "metadata": {},
     "output_type": "execute_result"
    }
   ],
   "source": [
    "data[data['X']>0].plot(kind='scatter',x='X',y='Y',s=4,alpha=0.2,figsize=(8,8))\n"
   ]
  },
  {
   "cell_type": "code",
   "execution_count": null,
   "metadata": {
    "collapsed": true
   },
   "outputs": [],
   "source": [
    "data[data['X'] > 0].to_csv('van_crime_with_location.csv')"
   ]
  },
  {
   "cell_type": "markdown",
   "metadata": {},
   "source": [
    "## Exercise: Vancouver Open Data\n",
    "\n",
    "Choose your own dataset from the (Vancouver Open Data catalogue)[http://data.vancouver.ca/datacatalogue/index.htm]. Filter and plot the data."
   ]
  },
  {
   "cell_type": "code",
   "execution_count": null,
   "metadata": {
    "collapsed": true
   },
   "outputs": [],
   "source": []
  },
  {
   "cell_type": "code",
   "execution_count": 38,
   "metadata": {
    "collapsed": true
   },
   "outputs": [],
   "source": [
    "from matplotlib import pyplot"
   ]
  },
  {
   "cell_type": "code",
   "execution_count": null,
   "metadata": {
    "collapsed": true
   },
   "outputs": [],
   "source": [
    "import matplotlib.pyplot"
   ]
  }
 ],
 "metadata": {
  "kernelspec": {
   "display_name": "Python 3",
   "language": "python",
   "name": "python3"
  },
  "language_info": {
   "codemirror_mode": {
    "name": "ipython",
    "version": 3
   },
   "file_extension": ".py",
   "mimetype": "text/x-python",
   "name": "python",
   "nbconvert_exporter": "python",
   "pygments_lexer": "ipython3",
   "version": "3.6.0"
  }
 },
 "nbformat": 4,
 "nbformat_minor": 2
}
