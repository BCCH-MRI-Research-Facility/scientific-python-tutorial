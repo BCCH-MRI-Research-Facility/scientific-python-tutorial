{
 "cells": [
  {
   "cell_type": "markdown",
   "metadata": {},
   "source": [
    "### Import standard modules"
   ]
  },
  {
   "cell_type": "code",
   "execution_count": 1,
   "metadata": {
    "collapsed": true
   },
   "outputs": [],
   "source": [
    "import numpy as np\n",
    "from matplotlib import pyplot as plt\n",
    "import pandas as pd"
   ]
  },
  {
   "cell_type": "markdown",
   "metadata": {},
   "source": [
    "### Import NiPy modules"
   ]
  },
  {
   "cell_type": "code",
   "execution_count": 5,
   "metadata": {},
   "outputs": [],
   "source": [
    "import nipy\n",
    "import nibabel as nib\n",
    "import dipy\n",
    "import nilearn\n",
    "import nipype"
   ]
  },
  {
   "cell_type": "markdown",
   "metadata": {},
   "source": [
    "### Load up some sample data"
   ]
  },
  {
   "cell_type": "code",
   "execution_count": 9,
   "metadata": {},
   "outputs": [],
   "source": [
    "t1img = nib.load('./MNI152_T1_1mm.nii.gz')"
   ]
  },
  {
   "cell_type": "code",
   "execution_count": 32,
   "metadata": {},
   "outputs": [
    {
     "data": {
      "text/plain": [
       "nibabel.nifti1.Nifti1Image"
      ]
     },
     "execution_count": 32,
     "metadata": {},
     "output_type": "execute_result"
    }
   ],
   "source": [
    "type(t1img)"
   ]
  },
  {
   "cell_type": "code",
   "execution_count": 14,
   "metadata": {
    "collapsed": true
   },
   "outputs": [],
   "source": [
    "t1data = t1img.get_data()"
   ]
  },
  {
   "cell_type": "code",
   "execution_count": 31,
   "metadata": {},
   "outputs": [
    {
     "data": {
      "text/plain": [
       "numpy.ndarray"
      ]
     },
     "execution_count": 31,
     "metadata": {},
     "output_type": "execute_result"
    }
   ],
   "source": [
    "type(t1data)"
   ]
  },
  {
   "cell_type": "code",
   "execution_count": 15,
   "metadata": {},
   "outputs": [
    {
     "data": {
      "text/plain": [
       "(182, 218, 182)"
      ]
     },
     "execution_count": 15,
     "metadata": {},
     "output_type": "execute_result"
    }
   ],
   "source": [
    "t1data.shape"
   ]
  },
  {
   "cell_type": "code",
   "execution_count": 16,
   "metadata": {},
   "outputs": [
    {
     "data": {
      "text/plain": [
       "array([[  -1.,    0.,    0.,   90.],\n",
       "       [   0.,    1.,    0., -126.],\n",
       "       [   0.,    0.,    1.,  -72.],\n",
       "       [   0.,    0.,    0.,    1.]])"
      ]
     },
     "execution_count": 16,
     "metadata": {},
     "output_type": "execute_result"
    }
   ],
   "source": [
    "t1img.affine"
   ]
  },
  {
   "cell_type": "markdown",
   "metadata": {},
   "source": [
    "The image object contains the metadata associated with the scan. Late we will learn to manipulate the affine matrix"
   ]
  },
  {
   "cell_type": "markdown",
   "metadata": {},
   "source": [
    "### Load up a mask"
   ]
  },
  {
   "cell_type": "code",
   "execution_count": 17,
   "metadata": {
    "collapsed": true
   },
   "outputs": [],
   "source": [
    "maskimg = nib.load('./JHU-ICBM-labels-1mm.nii.gz')"
   ]
  },
  {
   "cell_type": "code",
   "execution_count": 18,
   "metadata": {
    "collapsed": true
   },
   "outputs": [],
   "source": [
    "maskdata = maskimg.get_data()"
   ]
  },
  {
   "cell_type": "code",
   "execution_count": 19,
   "metadata": {},
   "outputs": [
    {
     "data": {
      "text/plain": [
       "(182, 218, 182)"
      ]
     },
     "execution_count": 19,
     "metadata": {},
     "output_type": "execute_result"
    }
   ],
   "source": [
    "maskdata.shape"
   ]
  },
  {
   "cell_type": "markdown",
   "metadata": {},
   "source": [
    "### t1data and maskdata are both just numpy 3D arrays, so we perform normal array operations"
   ]
  },
  {
   "cell_type": "code",
   "execution_count": 20,
   "metadata": {},
   "outputs": [
    {
     "data": {
      "text/plain": [
       "48"
      ]
     },
     "execution_count": 20,
     "metadata": {},
     "output_type": "execute_result"
    }
   ],
   "source": [
    "maskdata.max()"
   ]
  },
  {
   "cell_type": "code",
   "execution_count": 21,
   "metadata": {},
   "outputs": [
    {
     "data": {
      "text/plain": [
       "0"
      ]
     },
     "execution_count": 21,
     "metadata": {},
     "output_type": "execute_result"
    }
   ],
   "source": [
    "maskdata.min()"
   ]
  },
  {
   "cell_type": "code",
   "execution_count": 23,
   "metadata": {},
   "outputs": [
    {
     "data": {
      "text/plain": [
       "5780.791666666667"
      ]
     },
     "execution_count": 23,
     "metadata": {},
     "output_type": "execute_result"
    }
   ],
   "source": [
    "t1data[maskdata==48].mean()"
   ]
  },
  {
   "cell_type": "markdown",
   "metadata": {},
   "source": [
    "Let's make a copy of t1data and zero out voxels where maskdata==48"
   ]
  },
  {
   "cell_type": "code",
   "execution_count": 24,
   "metadata": {
    "collapsed": true
   },
   "outputs": [],
   "source": [
    "t1data2 = t1data.copy()"
   ]
  },
  {
   "cell_type": "code",
   "execution_count": 25,
   "metadata": {
    "collapsed": true
   },
   "outputs": [],
   "source": [
    "t1data2[maskdata==48] = 0"
   ]
  },
  {
   "cell_type": "code",
   "execution_count": 27,
   "metadata": {},
   "outputs": [
    {
     "data": {
      "text/plain": [
       "0.0"
      ]
     },
     "execution_count": 27,
     "metadata": {},
     "output_type": "execute_result"
    }
   ],
   "source": [
    "t1data2[maskdata==48].mean()"
   ]
  },
  {
   "cell_type": "markdown",
   "metadata": {},
   "source": [
    "### Save the modified image"
   ]
  },
  {
   "cell_type": "code",
   "execution_count": 33,
   "metadata": {
    "collapsed": true
   },
   "outputs": [],
   "source": [
    "t1img2 = nib.Nifti1Image(t1data2,t1img.affine)"
   ]
  },
  {
   "cell_type": "code",
   "execution_count": 34,
   "metadata": {
    "collapsed": true
   },
   "outputs": [],
   "source": [
    "nib.save(t1img2,'t1img2.nii.gz')"
   ]
  },
  {
   "cell_type": "markdown",
   "metadata": {},
   "source": [
    "### Nibabel has tools for opening multiple formats including PAR/REC\n",
    "Loading a PAR/REC image with nibabel and then saving to nifti is, in my experience, more robust than dcm2nii"
   ]
  },
  {
   "cell_type": "code",
   "execution_count": 35,
   "metadata": {
    "collapsed": true
   },
   "outputs": [],
   "source": [
    "nib.parrec?"
   ]
  },
  {
   "cell_type": "code",
   "execution_count": 36,
   "metadata": {
    "collapsed": true
   },
   "outputs": [],
   "source": [
    "nib.load?"
   ]
  },
  {
   "cell_type": "markdown",
   "metadata": {},
   "source": [
    "### Visualizing images"
   ]
  },
  {
   "cell_type": "code",
   "execution_count": 60,
   "metadata": {},
   "outputs": [
    {
     "data": {
      "application/javascript": [
       "/* Put everything inside the global mpl namespace */\n",
       "window.mpl = {};\n",
       "\n",
       "\n",
       "mpl.get_websocket_type = function() {\n",
       "    if (typeof(WebSocket) !== 'undefined') {\n",
       "        return WebSocket;\n",
       "    } else if (typeof(MozWebSocket) !== 'undefined') {\n",
       "        return MozWebSocket;\n",
       "    } else {\n",
       "        alert('Your browser does not have WebSocket support.' +\n",
       "              'Please try Chrome, Safari or Firefox ≥ 6. ' +\n",
       "              'Firefox 4 and 5 are also supported but you ' +\n",
       "              'have to enable WebSockets in about:config.');\n",
       "    };\n",
       "}\n",
       "\n",
       "mpl.figure = function(figure_id, websocket, ondownload, parent_element) {\n",
       "    this.id = figure_id;\n",
       "\n",
       "    this.ws = websocket;\n",
       "\n",
       "    this.supports_binary = (this.ws.binaryType != undefined);\n",
       "\n",
       "    if (!this.supports_binary) {\n",
       "        var warnings = document.getElementById(\"mpl-warnings\");\n",
       "        if (warnings) {\n",
       "            warnings.style.display = 'block';\n",
       "            warnings.textContent = (\n",
       "                \"This browser does not support binary websocket messages. \" +\n",
       "                    \"Performance may be slow.\");\n",
       "        }\n",
       "    }\n",
       "\n",
       "    this.imageObj = new Image();\n",
       "\n",
       "    this.context = undefined;\n",
       "    this.message = undefined;\n",
       "    this.canvas = undefined;\n",
       "    this.rubberband_canvas = undefined;\n",
       "    this.rubberband_context = undefined;\n",
       "    this.format_dropdown = undefined;\n",
       "\n",
       "    this.image_mode = 'full';\n",
       "\n",
       "    this.root = $('<div/>');\n",
       "    this._root_extra_style(this.root)\n",
       "    this.root.attr('style', 'display: inline-block');\n",
       "\n",
       "    $(parent_element).append(this.root);\n",
       "\n",
       "    this._init_header(this);\n",
       "    this._init_canvas(this);\n",
       "    this._init_toolbar(this);\n",
       "\n",
       "    var fig = this;\n",
       "\n",
       "    this.waiting = false;\n",
       "\n",
       "    this.ws.onopen =  function () {\n",
       "            fig.send_message(\"supports_binary\", {value: fig.supports_binary});\n",
       "            fig.send_message(\"send_image_mode\", {});\n",
       "            if (mpl.ratio != 1) {\n",
       "                fig.send_message(\"set_dpi_ratio\", {'dpi_ratio': mpl.ratio});\n",
       "            }\n",
       "            fig.send_message(\"refresh\", {});\n",
       "        }\n",
       "\n",
       "    this.imageObj.onload = function() {\n",
       "            if (fig.image_mode == 'full') {\n",
       "                // Full images could contain transparency (where diff images\n",
       "                // almost always do), so we need to clear the canvas so that\n",
       "                // there is no ghosting.\n",
       "                fig.context.clearRect(0, 0, fig.canvas.width, fig.canvas.height);\n",
       "            }\n",
       "            fig.context.drawImage(fig.imageObj, 0, 0);\n",
       "        };\n",
       "\n",
       "    this.imageObj.onunload = function() {\n",
       "        this.ws.close();\n",
       "    }\n",
       "\n",
       "    this.ws.onmessage = this._make_on_message_function(this);\n",
       "\n",
       "    this.ondownload = ondownload;\n",
       "}\n",
       "\n",
       "mpl.figure.prototype._init_header = function() {\n",
       "    var titlebar = $(\n",
       "        '<div class=\"ui-dialog-titlebar ui-widget-header ui-corner-all ' +\n",
       "        'ui-helper-clearfix\"/>');\n",
       "    var titletext = $(\n",
       "        '<div class=\"ui-dialog-title\" style=\"width: 100%; ' +\n",
       "        'text-align: center; padding: 3px;\"/>');\n",
       "    titlebar.append(titletext)\n",
       "    this.root.append(titlebar);\n",
       "    this.header = titletext[0];\n",
       "}\n",
       "\n",
       "\n",
       "\n",
       "mpl.figure.prototype._canvas_extra_style = function(canvas_div) {\n",
       "\n",
       "}\n",
       "\n",
       "\n",
       "mpl.figure.prototype._root_extra_style = function(canvas_div) {\n",
       "\n",
       "}\n",
       "\n",
       "mpl.figure.prototype._init_canvas = function() {\n",
       "    var fig = this;\n",
       "\n",
       "    var canvas_div = $('<div/>');\n",
       "\n",
       "    canvas_div.attr('style', 'position: relative; clear: both; outline: 0');\n",
       "\n",
       "    function canvas_keyboard_event(event) {\n",
       "        return fig.key_event(event, event['data']);\n",
       "    }\n",
       "\n",
       "    canvas_div.keydown('key_press', canvas_keyboard_event);\n",
       "    canvas_div.keyup('key_release', canvas_keyboard_event);\n",
       "    this.canvas_div = canvas_div\n",
       "    this._canvas_extra_style(canvas_div)\n",
       "    this.root.append(canvas_div);\n",
       "\n",
       "    var canvas = $('<canvas/>');\n",
       "    canvas.addClass('mpl-canvas');\n",
       "    canvas.attr('style', \"left: 0; top: 0; z-index: 0; outline: 0\")\n",
       "\n",
       "    this.canvas = canvas[0];\n",
       "    this.context = canvas[0].getContext(\"2d\");\n",
       "\n",
       "    var backingStore = this.context.backingStorePixelRatio ||\n",
       "\tthis.context.webkitBackingStorePixelRatio ||\n",
       "\tthis.context.mozBackingStorePixelRatio ||\n",
       "\tthis.context.msBackingStorePixelRatio ||\n",
       "\tthis.context.oBackingStorePixelRatio ||\n",
       "\tthis.context.backingStorePixelRatio || 1;\n",
       "\n",
       "    mpl.ratio = (window.devicePixelRatio || 1) / backingStore;\n",
       "\n",
       "    var rubberband = $('<canvas/>');\n",
       "    rubberband.attr('style', \"position: absolute; left: 0; top: 0; z-index: 1;\")\n",
       "\n",
       "    var pass_mouse_events = true;\n",
       "\n",
       "    canvas_div.resizable({\n",
       "        start: function(event, ui) {\n",
       "            pass_mouse_events = false;\n",
       "        },\n",
       "        resize: function(event, ui) {\n",
       "            fig.request_resize(ui.size.width, ui.size.height);\n",
       "        },\n",
       "        stop: function(event, ui) {\n",
       "            pass_mouse_events = true;\n",
       "            fig.request_resize(ui.size.width, ui.size.height);\n",
       "        },\n",
       "    });\n",
       "\n",
       "    function mouse_event_fn(event) {\n",
       "        if (pass_mouse_events)\n",
       "            return fig.mouse_event(event, event['data']);\n",
       "    }\n",
       "\n",
       "    rubberband.mousedown('button_press', mouse_event_fn);\n",
       "    rubberband.mouseup('button_release', mouse_event_fn);\n",
       "    // Throttle sequential mouse events to 1 every 20ms.\n",
       "    rubberband.mousemove('motion_notify', mouse_event_fn);\n",
       "\n",
       "    rubberband.mouseenter('figure_enter', mouse_event_fn);\n",
       "    rubberband.mouseleave('figure_leave', mouse_event_fn);\n",
       "\n",
       "    canvas_div.on(\"wheel\", function (event) {\n",
       "        event = event.originalEvent;\n",
       "        event['data'] = 'scroll'\n",
       "        if (event.deltaY < 0) {\n",
       "            event.step = 1;\n",
       "        } else {\n",
       "            event.step = -1;\n",
       "        }\n",
       "        mouse_event_fn(event);\n",
       "    });\n",
       "\n",
       "    canvas_div.append(canvas);\n",
       "    canvas_div.append(rubberband);\n",
       "\n",
       "    this.rubberband = rubberband;\n",
       "    this.rubberband_canvas = rubberband[0];\n",
       "    this.rubberband_context = rubberband[0].getContext(\"2d\");\n",
       "    this.rubberband_context.strokeStyle = \"#000000\";\n",
       "\n",
       "    this._resize_canvas = function(width, height) {\n",
       "        // Keep the size of the canvas, canvas container, and rubber band\n",
       "        // canvas in synch.\n",
       "        canvas_div.css('width', width)\n",
       "        canvas_div.css('height', height)\n",
       "\n",
       "        canvas.attr('width', width * mpl.ratio);\n",
       "        canvas.attr('height', height * mpl.ratio);\n",
       "        canvas.attr('style', 'width: ' + width + 'px; height: ' + height + 'px;');\n",
       "\n",
       "        rubberband.attr('width', width);\n",
       "        rubberband.attr('height', height);\n",
       "    }\n",
       "\n",
       "    // Set the figure to an initial 600x600px, this will subsequently be updated\n",
       "    // upon first draw.\n",
       "    this._resize_canvas(600, 600);\n",
       "\n",
       "    // Disable right mouse context menu.\n",
       "    $(this.rubberband_canvas).bind(\"contextmenu\",function(e){\n",
       "        return false;\n",
       "    });\n",
       "\n",
       "    function set_focus () {\n",
       "        canvas.focus();\n",
       "        canvas_div.focus();\n",
       "    }\n",
       "\n",
       "    window.setTimeout(set_focus, 100);\n",
       "}\n",
       "\n",
       "mpl.figure.prototype._init_toolbar = function() {\n",
       "    var fig = this;\n",
       "\n",
       "    var nav_element = $('<div/>')\n",
       "    nav_element.attr('style', 'width: 100%');\n",
       "    this.root.append(nav_element);\n",
       "\n",
       "    // Define a callback function for later on.\n",
       "    function toolbar_event(event) {\n",
       "        return fig.toolbar_button_onclick(event['data']);\n",
       "    }\n",
       "    function toolbar_mouse_event(event) {\n",
       "        return fig.toolbar_button_onmouseover(event['data']);\n",
       "    }\n",
       "\n",
       "    for(var toolbar_ind in mpl.toolbar_items) {\n",
       "        var name = mpl.toolbar_items[toolbar_ind][0];\n",
       "        var tooltip = mpl.toolbar_items[toolbar_ind][1];\n",
       "        var image = mpl.toolbar_items[toolbar_ind][2];\n",
       "        var method_name = mpl.toolbar_items[toolbar_ind][3];\n",
       "\n",
       "        if (!name) {\n",
       "            // put a spacer in here.\n",
       "            continue;\n",
       "        }\n",
       "        var button = $('<button/>');\n",
       "        button.addClass('ui-button ui-widget ui-state-default ui-corner-all ' +\n",
       "                        'ui-button-icon-only');\n",
       "        button.attr('role', 'button');\n",
       "        button.attr('aria-disabled', 'false');\n",
       "        button.click(method_name, toolbar_event);\n",
       "        button.mouseover(tooltip, toolbar_mouse_event);\n",
       "\n",
       "        var icon_img = $('<span/>');\n",
       "        icon_img.addClass('ui-button-icon-primary ui-icon');\n",
       "        icon_img.addClass(image);\n",
       "        icon_img.addClass('ui-corner-all');\n",
       "\n",
       "        var tooltip_span = $('<span/>');\n",
       "        tooltip_span.addClass('ui-button-text');\n",
       "        tooltip_span.html(tooltip);\n",
       "\n",
       "        button.append(icon_img);\n",
       "        button.append(tooltip_span);\n",
       "\n",
       "        nav_element.append(button);\n",
       "    }\n",
       "\n",
       "    var fmt_picker_span = $('<span/>');\n",
       "\n",
       "    var fmt_picker = $('<select/>');\n",
       "    fmt_picker.addClass('mpl-toolbar-option ui-widget ui-widget-content');\n",
       "    fmt_picker_span.append(fmt_picker);\n",
       "    nav_element.append(fmt_picker_span);\n",
       "    this.format_dropdown = fmt_picker[0];\n",
       "\n",
       "    for (var ind in mpl.extensions) {\n",
       "        var fmt = mpl.extensions[ind];\n",
       "        var option = $(\n",
       "            '<option/>', {selected: fmt === mpl.default_extension}).html(fmt);\n",
       "        fmt_picker.append(option)\n",
       "    }\n",
       "\n",
       "    // Add hover states to the ui-buttons\n",
       "    $( \".ui-button\" ).hover(\n",
       "        function() { $(this).addClass(\"ui-state-hover\");},\n",
       "        function() { $(this).removeClass(\"ui-state-hover\");}\n",
       "    );\n",
       "\n",
       "    var status_bar = $('<span class=\"mpl-message\"/>');\n",
       "    nav_element.append(status_bar);\n",
       "    this.message = status_bar[0];\n",
       "}\n",
       "\n",
       "mpl.figure.prototype.request_resize = function(x_pixels, y_pixels) {\n",
       "    // Request matplotlib to resize the figure. Matplotlib will then trigger a resize in the client,\n",
       "    // which will in turn request a refresh of the image.\n",
       "    this.send_message('resize', {'width': x_pixels, 'height': y_pixels});\n",
       "}\n",
       "\n",
       "mpl.figure.prototype.send_message = function(type, properties) {\n",
       "    properties['type'] = type;\n",
       "    properties['figure_id'] = this.id;\n",
       "    this.ws.send(JSON.stringify(properties));\n",
       "}\n",
       "\n",
       "mpl.figure.prototype.send_draw_message = function() {\n",
       "    if (!this.waiting) {\n",
       "        this.waiting = true;\n",
       "        this.ws.send(JSON.stringify({type: \"draw\", figure_id: this.id}));\n",
       "    }\n",
       "}\n",
       "\n",
       "\n",
       "mpl.figure.prototype.handle_save = function(fig, msg) {\n",
       "    var format_dropdown = fig.format_dropdown;\n",
       "    var format = format_dropdown.options[format_dropdown.selectedIndex].value;\n",
       "    fig.ondownload(fig, format);\n",
       "}\n",
       "\n",
       "\n",
       "mpl.figure.prototype.handle_resize = function(fig, msg) {\n",
       "    var size = msg['size'];\n",
       "    if (size[0] != fig.canvas.width || size[1] != fig.canvas.height) {\n",
       "        fig._resize_canvas(size[0], size[1]);\n",
       "        fig.send_message(\"refresh\", {});\n",
       "    };\n",
       "}\n",
       "\n",
       "mpl.figure.prototype.handle_rubberband = function(fig, msg) {\n",
       "    var x0 = msg['x0'] / mpl.ratio;\n",
       "    var y0 = (fig.canvas.height - msg['y0']) / mpl.ratio;\n",
       "    var x1 = msg['x1'] / mpl.ratio;\n",
       "    var y1 = (fig.canvas.height - msg['y1']) / mpl.ratio;\n",
       "    x0 = Math.floor(x0) + 0.5;\n",
       "    y0 = Math.floor(y0) + 0.5;\n",
       "    x1 = Math.floor(x1) + 0.5;\n",
       "    y1 = Math.floor(y1) + 0.5;\n",
       "    var min_x = Math.min(x0, x1);\n",
       "    var min_y = Math.min(y0, y1);\n",
       "    var width = Math.abs(x1 - x0);\n",
       "    var height = Math.abs(y1 - y0);\n",
       "\n",
       "    fig.rubberband_context.clearRect(\n",
       "        0, 0, fig.canvas.width, fig.canvas.height);\n",
       "\n",
       "    fig.rubberband_context.strokeRect(min_x, min_y, width, height);\n",
       "}\n",
       "\n",
       "mpl.figure.prototype.handle_figure_label = function(fig, msg) {\n",
       "    // Updates the figure title.\n",
       "    fig.header.textContent = msg['label'];\n",
       "}\n",
       "\n",
       "mpl.figure.prototype.handle_cursor = function(fig, msg) {\n",
       "    var cursor = msg['cursor'];\n",
       "    switch(cursor)\n",
       "    {\n",
       "    case 0:\n",
       "        cursor = 'pointer';\n",
       "        break;\n",
       "    case 1:\n",
       "        cursor = 'default';\n",
       "        break;\n",
       "    case 2:\n",
       "        cursor = 'crosshair';\n",
       "        break;\n",
       "    case 3:\n",
       "        cursor = 'move';\n",
       "        break;\n",
       "    }\n",
       "    fig.rubberband_canvas.style.cursor = cursor;\n",
       "}\n",
       "\n",
       "mpl.figure.prototype.handle_message = function(fig, msg) {\n",
       "    fig.message.textContent = msg['message'];\n",
       "}\n",
       "\n",
       "mpl.figure.prototype.handle_draw = function(fig, msg) {\n",
       "    // Request the server to send over a new figure.\n",
       "    fig.send_draw_message();\n",
       "}\n",
       "\n",
       "mpl.figure.prototype.handle_image_mode = function(fig, msg) {\n",
       "    fig.image_mode = msg['mode'];\n",
       "}\n",
       "\n",
       "mpl.figure.prototype.updated_canvas_event = function() {\n",
       "    // Called whenever the canvas gets updated.\n",
       "    this.send_message(\"ack\", {});\n",
       "}\n",
       "\n",
       "// A function to construct a web socket function for onmessage handling.\n",
       "// Called in the figure constructor.\n",
       "mpl.figure.prototype._make_on_message_function = function(fig) {\n",
       "    return function socket_on_message(evt) {\n",
       "        if (evt.data instanceof Blob) {\n",
       "            /* FIXME: We get \"Resource interpreted as Image but\n",
       "             * transferred with MIME type text/plain:\" errors on\n",
       "             * Chrome.  But how to set the MIME type?  It doesn't seem\n",
       "             * to be part of the websocket stream */\n",
       "            evt.data.type = \"image/png\";\n",
       "\n",
       "            /* Free the memory for the previous frames */\n",
       "            if (fig.imageObj.src) {\n",
       "                (window.URL || window.webkitURL).revokeObjectURL(\n",
       "                    fig.imageObj.src);\n",
       "            }\n",
       "\n",
       "            fig.imageObj.src = (window.URL || window.webkitURL).createObjectURL(\n",
       "                evt.data);\n",
       "            fig.updated_canvas_event();\n",
       "            fig.waiting = false;\n",
       "            return;\n",
       "        }\n",
       "        else if (typeof evt.data === 'string' && evt.data.slice(0, 21) == \"data:image/png;base64\") {\n",
       "            fig.imageObj.src = evt.data;\n",
       "            fig.updated_canvas_event();\n",
       "            fig.waiting = false;\n",
       "            return;\n",
       "        }\n",
       "\n",
       "        var msg = JSON.parse(evt.data);\n",
       "        var msg_type = msg['type'];\n",
       "\n",
       "        // Call the  \"handle_{type}\" callback, which takes\n",
       "        // the figure and JSON message as its only arguments.\n",
       "        try {\n",
       "            var callback = fig[\"handle_\" + msg_type];\n",
       "        } catch (e) {\n",
       "            console.log(\"No handler for the '\" + msg_type + \"' message type: \", msg);\n",
       "            return;\n",
       "        }\n",
       "\n",
       "        if (callback) {\n",
       "            try {\n",
       "                // console.log(\"Handling '\" + msg_type + \"' message: \", msg);\n",
       "                callback(fig, msg);\n",
       "            } catch (e) {\n",
       "                console.log(\"Exception inside the 'handler_\" + msg_type + \"' callback:\", e, e.stack, msg);\n",
       "            }\n",
       "        }\n",
       "    };\n",
       "}\n",
       "\n",
       "// from http://stackoverflow.com/questions/1114465/getting-mouse-location-in-canvas\n",
       "mpl.findpos = function(e) {\n",
       "    //this section is from http://www.quirksmode.org/js/events_properties.html\n",
       "    var targ;\n",
       "    if (!e)\n",
       "        e = window.event;\n",
       "    if (e.target)\n",
       "        targ = e.target;\n",
       "    else if (e.srcElement)\n",
       "        targ = e.srcElement;\n",
       "    if (targ.nodeType == 3) // defeat Safari bug\n",
       "        targ = targ.parentNode;\n",
       "\n",
       "    // jQuery normalizes the pageX and pageY\n",
       "    // pageX,Y are the mouse positions relative to the document\n",
       "    // offset() returns the position of the element relative to the document\n",
       "    var x = e.pageX - $(targ).offset().left;\n",
       "    var y = e.pageY - $(targ).offset().top;\n",
       "\n",
       "    return {\"x\": x, \"y\": y};\n",
       "};\n",
       "\n",
       "/*\n",
       " * return a copy of an object with only non-object keys\n",
       " * we need this to avoid circular references\n",
       " * http://stackoverflow.com/a/24161582/3208463\n",
       " */\n",
       "function simpleKeys (original) {\n",
       "  return Object.keys(original).reduce(function (obj, key) {\n",
       "    if (typeof original[key] !== 'object')\n",
       "        obj[key] = original[key]\n",
       "    return obj;\n",
       "  }, {});\n",
       "}\n",
       "\n",
       "mpl.figure.prototype.mouse_event = function(event, name) {\n",
       "    var canvas_pos = mpl.findpos(event)\n",
       "\n",
       "    if (name === 'button_press')\n",
       "    {\n",
       "        this.canvas.focus();\n",
       "        this.canvas_div.focus();\n",
       "    }\n",
       "\n",
       "    var x = canvas_pos.x * mpl.ratio;\n",
       "    var y = canvas_pos.y * mpl.ratio;\n",
       "\n",
       "    this.send_message(name, {x: x, y: y, button: event.button,\n",
       "                             step: event.step,\n",
       "                             guiEvent: simpleKeys(event)});\n",
       "\n",
       "    /* This prevents the web browser from automatically changing to\n",
       "     * the text insertion cursor when the button is pressed.  We want\n",
       "     * to control all of the cursor setting manually through the\n",
       "     * 'cursor' event from matplotlib */\n",
       "    event.preventDefault();\n",
       "    return false;\n",
       "}\n",
       "\n",
       "mpl.figure.prototype._key_event_extra = function(event, name) {\n",
       "    // Handle any extra behaviour associated with a key event\n",
       "}\n",
       "\n",
       "mpl.figure.prototype.key_event = function(event, name) {\n",
       "\n",
       "    // Prevent repeat events\n",
       "    if (name == 'key_press')\n",
       "    {\n",
       "        if (event.which === this._key)\n",
       "            return;\n",
       "        else\n",
       "            this._key = event.which;\n",
       "    }\n",
       "    if (name == 'key_release')\n",
       "        this._key = null;\n",
       "\n",
       "    var value = '';\n",
       "    if (event.ctrlKey && event.which != 17)\n",
       "        value += \"ctrl+\";\n",
       "    if (event.altKey && event.which != 18)\n",
       "        value += \"alt+\";\n",
       "    if (event.shiftKey && event.which != 16)\n",
       "        value += \"shift+\";\n",
       "\n",
       "    value += 'k';\n",
       "    value += event.which.toString();\n",
       "\n",
       "    this._key_event_extra(event, name);\n",
       "\n",
       "    this.send_message(name, {key: value,\n",
       "                             guiEvent: simpleKeys(event)});\n",
       "    return false;\n",
       "}\n",
       "\n",
       "mpl.figure.prototype.toolbar_button_onclick = function(name) {\n",
       "    if (name == 'download') {\n",
       "        this.handle_save(this, null);\n",
       "    } else {\n",
       "        this.send_message(\"toolbar_button\", {name: name});\n",
       "    }\n",
       "};\n",
       "\n",
       "mpl.figure.prototype.toolbar_button_onmouseover = function(tooltip) {\n",
       "    this.message.textContent = tooltip;\n",
       "};\n",
       "mpl.toolbar_items = [[\"Home\", \"Reset original view\", \"fa fa-home icon-home\", \"home\"], [\"Back\", \"Back to  previous view\", \"fa fa-arrow-left icon-arrow-left\", \"back\"], [\"Forward\", \"Forward to next view\", \"fa fa-arrow-right icon-arrow-right\", \"forward\"], [\"\", \"\", \"\", \"\"], [\"Pan\", \"Pan axes with left mouse, zoom with right\", \"fa fa-arrows icon-move\", \"pan\"], [\"Zoom\", \"Zoom to rectangle\", \"fa fa-square-o icon-check-empty\", \"zoom\"], [\"\", \"\", \"\", \"\"], [\"Download\", \"Download plot\", \"fa fa-floppy-o icon-save\", \"download\"]];\n",
       "\n",
       "mpl.extensions = [\"eps\", \"jpeg\", \"pdf\", \"png\", \"ps\", \"raw\", \"svg\", \"tif\"];\n",
       "\n",
       "mpl.default_extension = \"png\";var comm_websocket_adapter = function(comm) {\n",
       "    // Create a \"websocket\"-like object which calls the given IPython comm\n",
       "    // object with the appropriate methods. Currently this is a non binary\n",
       "    // socket, so there is still some room for performance tuning.\n",
       "    var ws = {};\n",
       "\n",
       "    ws.close = function() {\n",
       "        comm.close()\n",
       "    };\n",
       "    ws.send = function(m) {\n",
       "        //console.log('sending', m);\n",
       "        comm.send(m);\n",
       "    };\n",
       "    // Register the callback with on_msg.\n",
       "    comm.on_msg(function(msg) {\n",
       "        //console.log('receiving', msg['content']['data'], msg);\n",
       "        // Pass the mpl event to the overriden (by mpl) onmessage function.\n",
       "        ws.onmessage(msg['content']['data'])\n",
       "    });\n",
       "    return ws;\n",
       "}\n",
       "\n",
       "mpl.mpl_figure_comm = function(comm, msg) {\n",
       "    // This is the function which gets called when the mpl process\n",
       "    // starts-up an IPython Comm through the \"matplotlib\" channel.\n",
       "\n",
       "    var id = msg.content.data.id;\n",
       "    // Get hold of the div created by the display call when the Comm\n",
       "    // socket was opened in Python.\n",
       "    var element = $(\"#\" + id);\n",
       "    var ws_proxy = comm_websocket_adapter(comm)\n",
       "\n",
       "    function ondownload(figure, format) {\n",
       "        window.open(figure.imageObj.src);\n",
       "    }\n",
       "\n",
       "    var fig = new mpl.figure(id, ws_proxy,\n",
       "                           ondownload,\n",
       "                           element.get(0));\n",
       "\n",
       "    // Call onopen now - mpl needs it, as it is assuming we've passed it a real\n",
       "    // web socket which is closed, not our websocket->open comm proxy.\n",
       "    ws_proxy.onopen();\n",
       "\n",
       "    fig.parent_element = element.get(0);\n",
       "    fig.cell_info = mpl.find_output_cell(\"<div id='\" + id + \"'></div>\");\n",
       "    if (!fig.cell_info) {\n",
       "        console.error(\"Failed to find cell for figure\", id, fig);\n",
       "        return;\n",
       "    }\n",
       "\n",
       "    var output_index = fig.cell_info[2]\n",
       "    var cell = fig.cell_info[0];\n",
       "\n",
       "};\n",
       "\n",
       "mpl.figure.prototype.handle_close = function(fig, msg) {\n",
       "    var width = fig.canvas.width/mpl.ratio\n",
       "    fig.root.unbind('remove')\n",
       "\n",
       "    // Update the output cell to use the data from the current canvas.\n",
       "    fig.push_to_output();\n",
       "    var dataURL = fig.canvas.toDataURL();\n",
       "    // Re-enable the keyboard manager in IPython - without this line, in FF,\n",
       "    // the notebook keyboard shortcuts fail.\n",
       "    IPython.keyboard_manager.enable()\n",
       "    $(fig.parent_element).html('<img src=\"' + dataURL + '\" width=\"' + width + '\">');\n",
       "    fig.close_ws(fig, msg);\n",
       "}\n",
       "\n",
       "mpl.figure.prototype.close_ws = function(fig, msg){\n",
       "    fig.send_message('closing', msg);\n",
       "    // fig.ws.close()\n",
       "}\n",
       "\n",
       "mpl.figure.prototype.push_to_output = function(remove_interactive) {\n",
       "    // Turn the data on the canvas into data in the output cell.\n",
       "    var width = this.canvas.width/mpl.ratio\n",
       "    var dataURL = this.canvas.toDataURL();\n",
       "    this.cell_info[1]['text/html'] = '<img src=\"' + dataURL + '\" width=\"' + width + '\">';\n",
       "}\n",
       "\n",
       "mpl.figure.prototype.updated_canvas_event = function() {\n",
       "    // Tell IPython that the notebook contents must change.\n",
       "    IPython.notebook.set_dirty(true);\n",
       "    this.send_message(\"ack\", {});\n",
       "    var fig = this;\n",
       "    // Wait a second, then push the new image to the DOM so\n",
       "    // that it is saved nicely (might be nice to debounce this).\n",
       "    setTimeout(function () { fig.push_to_output() }, 1000);\n",
       "}\n",
       "\n",
       "mpl.figure.prototype._init_toolbar = function() {\n",
       "    var fig = this;\n",
       "\n",
       "    var nav_element = $('<div/>')\n",
       "    nav_element.attr('style', 'width: 100%');\n",
       "    this.root.append(nav_element);\n",
       "\n",
       "    // Define a callback function for later on.\n",
       "    function toolbar_event(event) {\n",
       "        return fig.toolbar_button_onclick(event['data']);\n",
       "    }\n",
       "    function toolbar_mouse_event(event) {\n",
       "        return fig.toolbar_button_onmouseover(event['data']);\n",
       "    }\n",
       "\n",
       "    for(var toolbar_ind in mpl.toolbar_items){\n",
       "        var name = mpl.toolbar_items[toolbar_ind][0];\n",
       "        var tooltip = mpl.toolbar_items[toolbar_ind][1];\n",
       "        var image = mpl.toolbar_items[toolbar_ind][2];\n",
       "        var method_name = mpl.toolbar_items[toolbar_ind][3];\n",
       "\n",
       "        if (!name) { continue; };\n",
       "\n",
       "        var button = $('<button class=\"btn btn-default\" href=\"#\" title=\"' + name + '\"><i class=\"fa ' + image + ' fa-lg\"></i></button>');\n",
       "        button.click(method_name, toolbar_event);\n",
       "        button.mouseover(tooltip, toolbar_mouse_event);\n",
       "        nav_element.append(button);\n",
       "    }\n",
       "\n",
       "    // Add the status bar.\n",
       "    var status_bar = $('<span class=\"mpl-message\" style=\"text-align:right; float: right;\"/>');\n",
       "    nav_element.append(status_bar);\n",
       "    this.message = status_bar[0];\n",
       "\n",
       "    // Add the close button to the window.\n",
       "    var buttongrp = $('<div class=\"btn-group inline pull-right\"></div>');\n",
       "    var button = $('<button class=\"btn btn-mini btn-primary\" href=\"#\" title=\"Stop Interaction\"><i class=\"fa fa-power-off icon-remove icon-large\"></i></button>');\n",
       "    button.click(function (evt) { fig.handle_close(fig, {}); } );\n",
       "    button.mouseover('Stop Interaction', toolbar_mouse_event);\n",
       "    buttongrp.append(button);\n",
       "    var titlebar = this.root.find($('.ui-dialog-titlebar'));\n",
       "    titlebar.prepend(buttongrp);\n",
       "}\n",
       "\n",
       "mpl.figure.prototype._root_extra_style = function(el){\n",
       "    var fig = this\n",
       "    el.on(\"remove\", function(){\n",
       "\tfig.close_ws(fig, {});\n",
       "    });\n",
       "}\n",
       "\n",
       "mpl.figure.prototype._canvas_extra_style = function(el){\n",
       "    // this is important to make the div 'focusable\n",
       "    el.attr('tabindex', 0)\n",
       "    // reach out to IPython and tell the keyboard manager to turn it's self\n",
       "    // off when our div gets focus\n",
       "\n",
       "    // location in version 3\n",
       "    if (IPython.notebook.keyboard_manager) {\n",
       "        IPython.notebook.keyboard_manager.register_events(el);\n",
       "    }\n",
       "    else {\n",
       "        // location in version 2\n",
       "        IPython.keyboard_manager.register_events(el);\n",
       "    }\n",
       "\n",
       "}\n",
       "\n",
       "mpl.figure.prototype._key_event_extra = function(event, name) {\n",
       "    var manager = IPython.notebook.keyboard_manager;\n",
       "    if (!manager)\n",
       "        manager = IPython.keyboard_manager;\n",
       "\n",
       "    // Check for shift+enter\n",
       "    if (event.shiftKey && event.which == 13) {\n",
       "        this.canvas_div.blur();\n",
       "        // select the cell after this one\n",
       "        var index = IPython.notebook.find_cell_index(this.cell_info[0]);\n",
       "        IPython.notebook.select(index + 1);\n",
       "    }\n",
       "}\n",
       "\n",
       "mpl.figure.prototype.handle_save = function(fig, msg) {\n",
       "    fig.ondownload(fig, null);\n",
       "}\n",
       "\n",
       "\n",
       "mpl.find_output_cell = function(html_output) {\n",
       "    // Return the cell and output element which can be found *uniquely* in the notebook.\n",
       "    // Note - this is a bit hacky, but it is done because the \"notebook_saving.Notebook\"\n",
       "    // IPython event is triggered only after the cells have been serialised, which for\n",
       "    // our purposes (turning an active figure into a static one), is too late.\n",
       "    var cells = IPython.notebook.get_cells();\n",
       "    var ncells = cells.length;\n",
       "    for (var i=0; i<ncells; i++) {\n",
       "        var cell = cells[i];\n",
       "        if (cell.cell_type === 'code'){\n",
       "            for (var j=0; j<cell.output_area.outputs.length; j++) {\n",
       "                var data = cell.output_area.outputs[j];\n",
       "                if (data.data) {\n",
       "                    // IPython >= 3 moved mimebundle to data attribute of output\n",
       "                    data = data.data;\n",
       "                }\n",
       "                if (data['text/html'] == html_output) {\n",
       "                    return [cell, data, j];\n",
       "                }\n",
       "            }\n",
       "        }\n",
       "    }\n",
       "}\n",
       "\n",
       "// Register the function which deals with the matplotlib target/channel.\n",
       "// The kernel may be null if the page has been refreshed.\n",
       "if (IPython.notebook.kernel != null) {\n",
       "    IPython.notebook.kernel.comm_manager.register_target('matplotlib', mpl.mpl_figure_comm);\n",
       "}\n"
      ],
      "text/plain": [
       "<IPython.core.display.Javascript object>"
      ]
     },
     "metadata": {},
     "output_type": "display_data"
    },
    {
     "data": {
      "text/html": [
       "<img src=\"data:image/png;base64,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\" width=\"640\">"
      ],
      "text/plain": [
       "<IPython.core.display.HTML object>"
      ]
     },
     "metadata": {},
     "output_type": "display_data"
    },
    {
     "data": {
      "text/plain": [
       "(-0.5, 181.5, 217.5, -0.5)"
      ]
     },
     "execution_count": 60,
     "metadata": {},
     "output_type": "execute_result"
    }
   ],
   "source": [
    "%matplotlib notebook\n",
    "f,ax = plt.subplots()\n",
    "sl=90\n",
    "t1im = ax.matshow(np.rot90(t1data[:,:,sl]),cmap='gray')\n",
    "ax.axis('off')"
   ]
  },
  {
   "cell_type": "markdown",
   "metadata": {},
   "source": [
    "### Can we overly the JHU atlas?"
   ]
  },
  {
   "cell_type": "code",
   "execution_count": 61,
   "metadata": {},
   "outputs": [],
   "source": [
    "maskim = ax.matshow(np.rot90(maskdata[:,:,sl]),cmap='cool')"
   ]
  },
  {
   "cell_type": "code",
   "execution_count": 62,
   "metadata": {
    "collapsed": true
   },
   "outputs": [],
   "source": [
    "maskim.remove()"
   ]
  },
  {
   "cell_type": "code",
   "execution_count": 63,
   "metadata": {
    "collapsed": true
   },
   "outputs": [],
   "source": [
    "maskdata_masked = np.ma.masked_equal(maskdata,0)"
   ]
  },
  {
   "cell_type": "code",
   "execution_count": 64,
   "metadata": {},
   "outputs": [],
   "source": [
    "maskdata_masked;"
   ]
  },
  {
   "cell_type": "code",
   "execution_count": 65,
   "metadata": {
    "collapsed": true
   },
   "outputs": [],
   "source": [
    "maskim = ax.matshow(np.rot90(maskdata_masked[:,:,sl]),cmap='cool')"
   ]
  },
  {
   "cell_type": "markdown",
   "metadata": {},
   "source": [
    "### Let's return a pandas dataframe with the mean values for each ROI"
   ]
  },
  {
   "cell_type": "code",
   "execution_count": 96,
   "metadata": {},
   "outputs": [],
   "source": [
    "means = []\n",
    "for i in range(maskdata.max()):\n",
    "    mean = t1data[maskdata==i].mean()\n",
    "    means.append(mean)"
   ]
  },
  {
   "cell_type": "code",
   "execution_count": 73,
   "metadata": {},
   "outputs": [],
   "source": [
    "means;"
   ]
  },
  {
   "cell_type": "markdown",
   "metadata": {},
   "source": [
    "### Not very \"pythonic\". Avoid loops when you can do it in one line!"
   ]
  },
  {
   "cell_type": "code",
   "execution_count": 94,
   "metadata": {},
   "outputs": [],
   "source": [
    "means = [ t1data[maskdata==i].mean() for i in range(1,maskdata.max()+1)]"
   ]
  },
  {
   "cell_type": "code",
   "execution_count": 75,
   "metadata": {
    "collapsed": true
   },
   "outputs": [],
   "source": [
    "means;"
   ]
  },
  {
   "cell_type": "code",
   "execution_count": 83,
   "metadata": {
    "collapsed": true
   },
   "outputs": [],
   "source": [
    "df = pd.DataFrame(data=means,columns=['Subject 1'],index=range(1,maskdata.max()+1))"
   ]
  },
  {
   "cell_type": "code",
   "execution_count": 84,
   "metadata": {},
   "outputs": [
    {
     "data": {
      "text/html": [
       "<div>\n",
       "<style>\n",
       "    .dataframe thead tr:only-child th {\n",
       "        text-align: right;\n",
       "    }\n",
       "\n",
       "    .dataframe thead th {\n",
       "        text-align: left;\n",
       "    }\n",
       "\n",
       "    .dataframe tbody tr th {\n",
       "        vertical-align: top;\n",
       "    }\n",
       "</style>\n",
       "<table border=\"1\" class=\"dataframe\">\n",
       "  <thead>\n",
       "    <tr style=\"text-align: right;\">\n",
       "      <th></th>\n",
       "      <th>Subject 1</th>\n",
       "    </tr>\n",
       "  </thead>\n",
       "  <tbody>\n",
       "    <tr>\n",
       "      <th>1</th>\n",
       "      <td>6689.230887</td>\n",
       "    </tr>\n",
       "    <tr>\n",
       "      <th>2</th>\n",
       "      <td>6503.092667</td>\n",
       "    </tr>\n",
       "    <tr>\n",
       "      <th>3</th>\n",
       "      <td>7291.812338</td>\n",
       "    </tr>\n",
       "    <tr>\n",
       "      <th>4</th>\n",
       "      <td>7010.265116</td>\n",
       "    </tr>\n",
       "    <tr>\n",
       "      <th>5</th>\n",
       "      <td>7069.381570</td>\n",
       "    </tr>\n",
       "  </tbody>\n",
       "</table>\n",
       "</div>"
      ],
      "text/plain": [
       "     Subject 1\n",
       "1  6689.230887\n",
       "2  6503.092667\n",
       "3  7291.812338\n",
       "4  7010.265116\n",
       "5  7069.381570"
      ]
     },
     "execution_count": 84,
     "metadata": {},
     "output_type": "execute_result"
    }
   ],
   "source": [
    "df.head()"
   ]
  },
  {
   "cell_type": "code",
   "execution_count": 85,
   "metadata": {},
   "outputs": [
    {
     "data": {
      "text/plain": [
       "48"
      ]
     },
     "execution_count": 85,
     "metadata": {},
     "output_type": "execute_result"
    }
   ],
   "source": [
    "len(df)"
   ]
  },
  {
   "cell_type": "markdown",
   "metadata": {},
   "source": [
    "Do this for multiple subjects and you've started building a database that you can run stats on, save to Excel, etc."
   ]
  },
  {
   "cell_type": "code",
   "execution_count": 87,
   "metadata": {
    "collapsed": true
   },
   "outputs": [],
   "source": [
    "pd.DataFrame?"
   ]
  },
  {
   "cell_type": "markdown",
   "metadata": {},
   "source": [
    "## Manipulating the affine\n",
    "The affine matrix describes the relationship between the image matrix and the \"real world\" coordinate system. Image orientation manipulation should be approached with caution, but it's often necessary."
   ]
  },
  {
   "cell_type": "code",
   "execution_count": 97,
   "metadata": {},
   "outputs": [
    {
     "data": {
      "text/plain": [
       "array([[  -1.,    0.,    0.,   90.],\n",
       "       [   0.,    1.,    0., -126.],\n",
       "       [   0.,    0.,    1.,  -72.],\n",
       "       [   0.,    0.,    0.,    1.]])"
      ]
     },
     "execution_count": 97,
     "metadata": {},
     "output_type": "execute_result"
    }
   ],
   "source": [
    "t1img.affine"
   ]
  },
  {
   "cell_type": "code",
   "execution_count": 101,
   "metadata": {},
   "outputs": [
    {
     "data": {
      "text/plain": [
       "array([[   1.,    0.,    0.,  -91.],\n",
       "       [   0.,    1.,    0., -126.],\n",
       "       [   0.,    0.,    1.,  -72.],\n",
       "       [   0.,    0.,    0.,    1.]])"
      ]
     },
     "execution_count": 101,
     "metadata": {},
     "output_type": "execute_result"
    }
   ],
   "source": [
    "canonical_t1img = nib.as_closest_canonical(t1img)\n",
    "canonical_t1img.affine"
   ]
  },
  {
   "cell_type": "code",
   "execution_count": 104,
   "metadata": {},
   "outputs": [
    {
     "data": {
      "text/plain": [
       "(182, 218, 182)"
      ]
     },
     "execution_count": 104,
     "metadata": {},
     "output_type": "execute_result"
    }
   ],
   "source": [
    "canonical_t1img.shape"
   ]
  },
  {
   "cell_type": "code",
   "execution_count": 105,
   "metadata": {},
   "outputs": [
    {
     "data": {
      "text/plain": [
       "(182, 218, 182)"
      ]
     },
     "execution_count": 105,
     "metadata": {},
     "output_type": "execute_result"
    }
   ],
   "source": [
    "t1img.shape"
   ]
  },
  {
   "cell_type": "code",
   "execution_count": null,
   "metadata": {
    "collapsed": true
   },
   "outputs": [],
   "source": []
  }
 ],
 "metadata": {
  "kernelspec": {
   "display_name": "Python 3",
   "language": "python",
   "name": "python3"
  },
  "language_info": {
   "codemirror_mode": {
    "name": "ipython",
    "version": 3
   },
   "file_extension": ".py",
   "mimetype": "text/x-python",
   "name": "python",
   "nbconvert_exporter": "python",
   "pygments_lexer": "ipython3",
   "version": "3.4.3"
  }
 },
 "nbformat": 4,
 "nbformat_minor": 2
}
