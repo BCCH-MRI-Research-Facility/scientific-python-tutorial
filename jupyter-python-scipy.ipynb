{
 "cells": [
  {
   "cell_type": "markdown",
   "metadata": {},
   "source": [
    "# ARC/WestGrid Reasearch Computing Summer School\n",
    "\n",
    "## June 20, 2017\n",
    "\n",
    "1. Jupyter Notebooks\n",
    "    * Cells, modes, and keyboard shortcuts\n",
    "    * Markdown: text, links, lists, images and tables\n",
    "    * LaTeX: mathematical notation\n",
    "        * Exercise: Describe your research\n",
    "2. Basic Python\n",
    "    * Datatypes and built-in functions\n",
    "        * Exercise: Special values of the Riemann zeta function \n",
    "    * Logic, loops and functions\n",
    "        * Exercise: Collatz conjecture\n",
    "    * Packages and modules\n",
    "3. Scientific Computing in Python\n",
    "    * NumPy and Matplotlib\n",
    "        * Exercise: Parametric equations\n",
    "    * SciPy\n",
    "        * Exercise: Logistic equation\n",
    "        * Exercise: Euler's three-body problem\n",
    "    * pandas\n",
    "        * Exercise: Vancouver Police data"
   ]
  },
  {
   "cell_type": "markdown",
   "metadata": {},
   "source": [
    "---\n",
    "\n",
    "* Patick Walls\n",
    "* Department of Mathematics, UBC\n",
    "* pwalls@math.ubc.ca\n",
    "* [math.ubc.ca/~pwalls](http://www.math.ubc.ca/~pwalls/)\n",
    "* [github.com/patrickwalls](https://github.com/patrickwalls)\n",
    "\n",
    "---"
   ]
  },
  {
   "cell_type": "markdown",
   "metadata": {},
   "source": [
    "## Jupyter Notebooks\n",
    "\n",
    "We present the basic features of Jupyter notebooks. Please see the [Jupyter documentation](http://jupyter.org/)."
   ]
  },
  {
   "cell_type": "markdown",
   "metadata": {},
   "source": [
    "### Cells, modes and keyboard shortcuts\n",
    "\n",
    "#### Code cells and markdown cells\n",
    "\n",
    "There are two main types of cells: code and markdown. All text, headings, lists, LaTeX, images and other HTML in the notebook are written in markdown cells.\n",
    "\n",
    "Code is written in code and, since this notebook is a Python 3 notebook, the Python code we write in code cells is executed by the Python kernel and output is displayed below the code cell:"
   ]
  },
  {
   "cell_type": "code",
   "execution_count": 1,
   "metadata": {},
   "outputs": [
    {
     "data": {
      "text/plain": [
       "0.30000000000000004"
      ]
     },
     "execution_count": 1,
     "metadata": {},
     "output_type": "execute_result"
    }
   ],
   "source": [
    "0.1 + 0.2"
   ]
  },
  {
   "cell_type": "markdown",
   "metadata": {},
   "source": [
    "#### Edit mode and command mode\n",
    "\n",
    "Command Mode is for notebook editing commands: cut cell, paste cell, insert cell above, etc. Command mode is indicated by a *blue* rectangle containing the active cell.\n",
    "\n",
    "Edit Mode is for editing code/text and is indicated by a *green* rectangle. "
   ]
  },
  {
   "cell_type": "markdown",
   "metadata": {},
   "source": [
    "#### Keyboard shortcuts\n",
    "\n",
    "The tool bar has buttons for the most common actions however you can increase the speed of your workflow by memorizing the following keyboard shortcuts in Command Mode:\n",
    "\n",
    "| Command Mode Action | Shortcut |\n",
    "| :---: | :---: |\n",
    "| Insert empty cell above | `a` |\n",
    "| Insert empty cell below | `b` |\n",
    "| Copy cell | `c` |\n",
    "| Cut cell | `x` |\n",
    "| Paste cell below | `v` |\n",
    "| To code | `y` |\n",
    "| To markdown | `m` |\n",
    "| Save and checkpoint | `s` |\n",
    "| Execute cell | `shift+return` |\n",
    "| Enter edit mode | `return` |\n",
    "\n",
    "The usual keyboard shortcuts for text editing (ie. on a Mac: `command+x` to cut text, `command+z` to undo, etc.) work in Edit Mode as well the following most common actions:\n",
    "\n",
    "| Edit Mode Action | Shortcut |\n",
    "| :---: | :---: |\n",
    "| Execute cell | `shift+return` |\n",
    "| Enter command mode | `esc` |"
   ]
  },
  {
   "cell_type": "markdown",
   "metadata": {
    "collapsed": true
   },
   "source": [
    "### Markdown\n",
    "\n",
    "[Markdown](https://daringfireball.net/projects/markdown/syntax) is a plain text formatting syntax which the Jupyter notebook will convert and render as HTML.\n",
    "\n",
    "#### Text\n",
    "\n",
    "The following table summarizes text formatting and headings:\n",
    "\n",
    "| Output | Syntax |\n",
    "| :---: | :---: |\n",
    "| *emphasis* | `*emphasis*` |\n",
    "| **strong** | `**strong**` |\n",
    "| `code` | ``  `code` `` |\n",
    "| <h1>Heading 1</h1> | `# Heading 1` |\n",
    "| <h2>Heading 2</h2> | `## Heading 2` |\n",
    "| <h3>Heading 3</h3> | `### Heading 3` |\n",
    "\n",
    "#### Links\n",
    "\n",
    "Create a [link](http://www.math.ubc.ca) with the syntax `[link](http://www.math.ubc.ca)`.\n",
    "\n",
    "#### Lists\n",
    "\n",
    "Create a list using an asterisk * for each item. For example:\n",
    "\n",
    "```\n",
    "* Number theory\n",
    "* Algebra\n",
    "* Partial differential equations\n",
    "* Probability\n",
    "```\n",
    "\n",
    "renders as:\n",
    "\n",
    "* Number theory\n",
    "* Algebra\n",
    "* Partial differential equations\n",
    "* Probability\n",
    "\n",
    "#### Images\n",
    "\n",
    "Include an image using the syntax `![description](url)`. For example:\n",
    "\n",
    "```\n",
    "![Jupyter logo](http://jupyter.org/assets/nav_logo.svg)\n",
    "```\n",
    "\n",
    "renders as:\n",
    "\n",
    "![Jupyter logo](http://jupyter.org/assets/nav_logo.svg)\n",
    "\n",
    "#### Tables"
   ]
  },
  {
   "cell_type": "markdown",
   "metadata": {},
   "source": [
    "Create a table by separating entries by pipe characters |. For example:\n",
    "\n",
    "```\n",
    "| Operator | Description  |\n",
    "| :---: | :---: |\n",
    "| `+` | addition |\n",
    "| `-` | subtraction |\n",
    "| `*` | multiplication |\n",
    "| `/` | division |\n",
    "| `%` | remainder (or modulo) |\n",
    "| `//` | floor division |\n",
    "| `**` | power |\n",
    "```\n",
    "\n",
    "renders as:\n",
    "\n",
    "\n",
    "| Operator | Description  |\n",
    "| :---: | :---: |\n",
    "| `+` | addition |\n",
    "| `-` | subtraction |\n",
    "| `*` | multiplication |\n",
    "| `/` | division |\n",
    "| `%` | remainder (or modulo) |\n",
    "| `//` | floor division |\n",
    "| `**` | power |\n",
    "\n",
    "The second line specifies the alignment of the columns. See more about [GitHub flavoured markdown](https://help.github.com/articles/organizing-information-with-tables/)."
   ]
  },
  {
   "cell_type": "markdown",
   "metadata": {},
   "source": [
    "### LaTeX: mathematical notation\n",
    "\n",
    "LaTeX code (in math mode) written in a markdown cell is automatically rendered by [MathJax](https://www.mathjax.org/). For example:\n",
    "\n",
    "```\n",
    "$$\n",
    "f'(a) = \\lim_{x \\to a} \\frac{f(x) - f(a)}{x - a}\n",
    "$$\n",
    "```\n",
    "\n",
    "renders as:\n",
    "\n",
    "$$\n",
    "f'(a) = \\lim_{x \\to a} \\frac{f(x) - f(a)}{x - a}\n",
    "$$\n"
   ]
  },
  {
   "cell_type": "markdown",
   "metadata": {},
   "source": [
    "### Exercise: Describe your research\n",
    "\n",
    "Write a few short paragraphs describing your area of research. Include text, lists, links, LaTeX, images, tables, etc."
   ]
  },
  {
   "cell_type": "markdown",
   "metadata": {},
   "source": [
    "## Python\n",
    "\n",
    "We present basics features of the Python programming language. Please see the [Python 3 documentation](https://docs.python.org/3/)."
   ]
  },
  {
   "cell_type": "markdown",
   "metadata": {},
   "source": [
    "### Datatypes and built-in functions"
   ]
  },
  {
   "cell_type": "markdown",
   "metadata": {},
   "source": [
    "#### Numbers: integers and floats\n",
    "\n",
    "The most commonly used [numeric types](https://docs.python.org/3/library/stdtypes.html#numeric-types-int-float-complex) are integers and floats and the syntax for arthmetic operations are:\n",
    "\n",
    "| Operator | Description  |\n",
    "| :---: | :---: |\n",
    "| `+` | addition |\n",
    "| `-` | subtraction |\n",
    "| `*` | multiplication |\n",
    "| `/` | division |\n",
    "| `%` | remainder (or modulo) |\n",
    "| `//` | floor division |\n",
    "| `**` | power |\n",
    "\n",
    "Notice that division always returns a float:"
   ]
  },
  {
   "cell_type": "code",
   "execution_count": 65,
   "metadata": {},
   "outputs": [
    {
     "data": {
      "text/plain": [
       "2.0"
      ]
     },
     "execution_count": 65,
     "metadata": {},
     "output_type": "execute_result"
    }
   ],
   "source": [
    "4/2"
   ]
  },
  {
   "cell_type": "markdown",
   "metadata": {},
   "source": [
    "We can compute fractional powers using floats:"
   ]
  },
  {
   "cell_type": "code",
   "execution_count": 70,
   "metadata": {},
   "outputs": [
    {
     "data": {
      "text/plain": [
       "1.4142135623730951"
      ]
     },
     "execution_count": 70,
     "metadata": {},
     "output_type": "execute_result"
    }
   ],
   "source": [
    "2**0.5"
   ]
  },
  {
   "cell_type": "markdown",
   "metadata": {},
   "source": [
    "Use parentheses to group combinations of arithmetic operations:"
   ]
  },
  {
   "cell_type": "code",
   "execution_count": 74,
   "metadata": {},
   "outputs": [
    {
     "data": {
      "text/plain": [
       "33"
      ]
     },
     "execution_count": 74,
     "metadata": {},
     "output_type": "execute_result"
    }
   ],
   "source": [
    "5 * (4 + 3) - 2"
   ]
  },
  {
   "cell_type": "markdown",
   "metadata": {},
   "source": [
    "#### Example: Ramanujan's $\\pi$ formula\n",
    "\n",
    "A special case of a formula proved by [Ramanujan](https://en.wikipedia.org/wiki/Ramanujan%E2%80%93Sato_series) in 1917 gives a series representation of $\\pi$\n",
    "\n",
    "$$\n",
    "\\frac{1}{\\pi} = \\frac{2 \\sqrt{2}}{99^2} \\sum_{k = 0}^{\\infty} \\frac{(4k)!}{k!^4} \\frac{26390k + 1103}{396^{4k}}\n",
    "$$\n",
    "\n",
    "Using only the basic arithmetic operators listed above, find an approximation of $\\pi$ by computing the *reciprocal* of the sum of the first 3 terms of the series:\n",
    "\n",
    "$$\n",
    "\\frac{99^2}{2 \\sqrt{2}} \\left( 1103 + 4! \\frac{26390 + 1103}{396^{4}} + \\frac{8!}{2!^4} \\frac{26390(2) + 1103}{396^{8}} \\right)^{-1}\n",
    "$$"
   ]
  },
  {
   "cell_type": "code",
   "execution_count": 56,
   "metadata": {},
   "outputs": [
    {
     "data": {
      "text/plain": [
       "3.141592653589793"
      ]
     },
     "execution_count": 56,
     "metadata": {},
     "output_type": "execute_result"
    }
   ],
   "source": [
    "1/(2*2**(1/2)/99**2 * ( 1103 + 4*3*2*(26390 + 1103)/396**4\n",
    "                       + 8*7*6*5*4*3*2/2**4 * (26390*(2) + 1103)/396**8))"
   ]
  },
  {
   "cell_type": "markdown",
   "metadata": {},
   "source": [
    "Import the float `pi` from the the [math module](https://docs.python.org/3/library/math.html) to compare with our result above."
   ]
  },
  {
   "cell_type": "code",
   "execution_count": 52,
   "metadata": {
    "collapsed": true
   },
   "outputs": [],
   "source": [
    "from math import pi"
   ]
  },
  {
   "cell_type": "code",
   "execution_count": 53,
   "metadata": {},
   "outputs": [
    {
     "data": {
      "text/plain": [
       "3.141592653589793"
      ]
     },
     "execution_count": 53,
     "metadata": {},
     "output_type": "execute_result"
    }
   ],
   "source": [
    "pi"
   ]
  },
  {
   "cell_type": "markdown",
   "metadata": {},
   "source": [
    "#### Sequences: list, tuple, range\n",
    "\n",
    "The most commonly used [sequence types](https://docs.python.org/3/library/stdtypes.html#sequence-types-list-tuple-range) are `list`, `tuple` and `range`. Lists are mutable whereas tuples and ranges are immutable. More importantly, range objects always take the same amount of (small) memory and calculate items only when needed. Looking ahead, this is why range objects are used in `for` loops.\n",
    "\n"
   ]
  },
  {
   "cell_type": "markdown",
   "metadata": {},
   "source": [
    "Create a list using brackets `[a,b,...]` with items separated by commas (and use the built-in print function to display it):"
   ]
  },
  {
   "cell_type": "code",
   "execution_count": 103,
   "metadata": {},
   "outputs": [
    {
     "name": "stdout",
     "output_type": "stream",
     "text": [
      "[1, 4, 9, 16, 25]\n"
     ]
    }
   ],
   "source": [
    "my_list = [1,4,9,16,25]\n",
    "print(my_list)"
   ]
  },
  {
   "cell_type": "markdown",
   "metadata": {},
   "source": [
    "Lists are mutable and we can modify a list using [list methods](https://docs.python.org/3/tutorial/datastructures.html#more-on-lists) such as `append`: "
   ]
  },
  {
   "cell_type": "code",
   "execution_count": 104,
   "metadata": {},
   "outputs": [
    {
     "name": "stdout",
     "output_type": "stream",
     "text": [
      "[1, 4, 9, 16, 25, 36]\n"
     ]
    }
   ],
   "source": [
    "my_list.append(36)\n",
    "print(my_list)"
   ]
  },
  {
   "cell_type": "markdown",
   "metadata": {},
   "source": [
    "Create a tuple with parentheses `(a,b,...)`:"
   ]
  },
  {
   "cell_type": "code",
   "execution_count": 77,
   "metadata": {},
   "outputs": [
    {
     "name": "stdout",
     "output_type": "stream",
     "text": [
      "(3.1, 3.14, 3.141, 3.1415)\n"
     ]
    }
   ],
   "source": [
    "my_tuple = (3.1,3.14,3.141,3.1415)\n",
    "print(my_tuple)"
   ]
  },
  {
   "cell_type": "markdown",
   "metadata": {},
   "source": [
    "Create a range with the built-in function `range(a,b,step)`. The parameters are integers and the fucntion creates a object which representes the sequence of integers from `a` to `b` (exclusively) incremented by `step`. "
   ]
  },
  {
   "cell_type": "code",
   "execution_count": 79,
   "metadata": {},
   "outputs": [
    {
     "name": "stdout",
     "output_type": "stream",
     "text": [
      "range(0, 10, 2)\n"
     ]
    }
   ],
   "source": [
    "my_range = range(0,10,2)\n",
    "print(my_range)"
   ]
  },
  {
   "cell_type": "markdown",
   "metadata": {},
   "source": [
    "Recall, a range object only calculates its items as needed. Use the built-in function `list` to create the corresponding list:"
   ]
  },
  {
   "cell_type": "code",
   "execution_count": 81,
   "metadata": {},
   "outputs": [
    {
     "data": {
      "text/plain": [
       "[0, 2, 4, 6, 8]"
      ]
     },
     "execution_count": 81,
     "metadata": {},
     "output_type": "execute_result"
    }
   ],
   "source": [
    "list(my_range)"
   ]
  },
  {
   "cell_type": "markdown",
   "metadata": {},
   "source": [
    "#### Strings\n",
    "\n",
    "[Strings](https://docs.python.org/3/library/stdtypes.html#text-sequence-type-str) are defined using (single or double) quotes:"
   ]
  },
  {
   "cell_type": "code",
   "execution_count": 84,
   "metadata": {},
   "outputs": [
    {
     "name": "stdout",
     "output_type": "stream",
     "text": [
      "Ramanujan\n"
     ]
    }
   ],
   "source": [
    "mathematician = 'Ramanujan'\n",
    "print(mathematician)"
   ]
  },
  {
   "cell_type": "markdown",
   "metadata": {},
   "source": [
    "#### Boolean\n",
    "\n",
    "[Boolean](https://docs.python.org/3/library/stdtypes.html#truth-value-testing) values are `True` and `False` and the comparison operators are:\n",
    "\n",
    "| Comparison Operator | Description  |\n",
    "| :---: | :---: |\n",
    "| `<` | strictly less than |\n",
    "| `<=` | less than or equal |\n",
    "| `>` | strictly greater than |\n",
    "| `>=` | greater than or equal |\n",
    "| `==` | equal |\n",
    "| `!=` | not equal |\n",
    "| `is` | object identity |\n",
    "| `is not` | negated object identity |\n",
    "\n",
    "The boolean operators are:\n",
    "\n",
    "| Boolean Operator |\n",
    "| :---: |\n",
    "| `A and B` |\n",
    "| `A or B` |\n",
    "| `not A` |\n",
    "\n",
    "Use parentheses to group combinations of operators:"
   ]
  },
  {
   "cell_type": "code",
   "execution_count": 82,
   "metadata": {},
   "outputs": [
    {
     "data": {
      "text/plain": [
       "True"
      ]
     },
     "execution_count": 82,
     "metadata": {},
     "output_type": "execute_result"
    }
   ],
   "source": [
    "(1 < 2) and (3 != 5)"
   ]
  },
  {
   "cell_type": "markdown",
   "metadata": {},
   "source": [
    "#### Built-in functions\n",
    "\n",
    "The standard library has a collection of [built-in functions](https://docs.python.org/3/library/functions.html) and some of the most commonly used mathematical functions are:\n",
    "\n",
    "| Function | Description |\n",
    "| :---: | :---: |\n",
    "| `abs()` | absolute value |\n",
    "| `len()` | length |\n",
    "| `max()` | maximum |\n",
    "| `min()` | minimum |\n",
    "| `print()` | print object to output |\n",
    "| `round()` | round to nearest integer |\n",
    "| `sum()` | add elements in a sequence |\n",
    "\n",
    "For example, we compute a simple sum $1+2+3+4+5$:"
   ]
  },
  {
   "cell_type": "code",
   "execution_count": 85,
   "metadata": {},
   "outputs": [
    {
     "data": {
      "text/plain": [
       "15"
      ]
     },
     "execution_count": 85,
     "metadata": {},
     "output_type": "execute_result"
    }
   ],
   "source": [
    "sum([1,2,3,4,5])"
   ]
  },
  {
   "cell_type": "markdown",
   "metadata": {},
   "source": [
    "#### List comprehensions\n",
    "\n",
    "Python has a beautiful syntax for creating lists called [list comprehensions](https://docs.python.org/3/tutorial/datastructures.html#list-comprehensions). The syntax is:\n",
    "\n",
    "```\n",
    "[expression for item in iterable]\n",
    "```\n",
    "\n",
    "such that:\n",
    "\n",
    "* `iterable` is a range, list, tuple, or any sequence object\n",
    "* `item` is a variable which takes each value in the iterable\n",
    "* `expression` is a Python expression which is calculated for each value of `item`\n",
    "\n",
    "For example, create the list of squares $1, 4, 9, \\dots, 100$:  "
   ]
  },
  {
   "cell_type": "code",
   "execution_count": 87,
   "metadata": {},
   "outputs": [
    {
     "data": {
      "text/plain": [
       "[1, 4, 9, 16, 25, 36, 49, 64, 81, 100]"
      ]
     },
     "execution_count": 87,
     "metadata": {},
     "output_type": "execute_result"
    }
   ],
   "source": [
    "[n**2 for n in range(1,11)]"
   ]
  },
  {
   "cell_type": "markdown",
   "metadata": {},
   "source": [
    "Create the repeated list $0,1,2,0,1,2,0,1,2,\\dots$ of length 20 (using remainder operator `%`):"
   ]
  },
  {
   "cell_type": "code",
   "execution_count": 90,
   "metadata": {},
   "outputs": [
    {
     "data": {
      "text/plain": [
       "[0, 1, 2, 0, 1, 2, 0, 1, 2, 0, 1, 2, 0, 1, 2, 0, 1, 2, 0, 1]"
      ]
     },
     "execution_count": 90,
     "metadata": {},
     "output_type": "execute_result"
    }
   ],
   "source": [
    "[n%3 for n in range(0,20)]"
   ]
  },
  {
   "cell_type": "markdown",
   "metadata": {},
   "source": [
    "### Exercise: Special values of the Riemann zeta function\n",
    "\n",
    "The [Riemann zeta function](https://en.wikipedia.org/wiki/Riemann_zeta_function) is defined by the infinite series\n",
    "\n",
    "$$\n",
    "\\zeta(s) = \\sum_{n=1}^{\\infty} \\frac{1}{n^s}\n",
    "$$\n",
    "\n",
    "In 1734, Leonard Euler proved the [special value formula](https://en.wikipedia.org/wiki/Basel_problem)\n",
    "\n",
    "$$\n",
    "\\zeta(2) = \\frac{\\pi^2}{6}\n",
    "$$\n",
    "\n",
    "Use a list comprehension and the built-in function `sum` to compute the 1000th partial sum of the special value\n",
    "\n",
    "$$\n",
    "\\zeta(2) \\approx \\sum_{n = 1}^{1000} \\frac{1}{n^2}\n",
    "$$"
   ]
  },
  {
   "cell_type": "code",
   "execution_count": 91,
   "metadata": {},
   "outputs": [
    {
     "data": {
      "text/plain": [
       "1.6439345666815615"
      ]
     },
     "execution_count": 91,
     "metadata": {},
     "output_type": "execute_result"
    }
   ],
   "source": [
    "sum([1/n**2 for n in range(1,1001)])"
   ]
  },
  {
   "cell_type": "markdown",
   "metadata": {},
   "source": [
    "As we did in the example above, let's use the float `pi` from the math module to compare to our result:"
   ]
  },
  {
   "cell_type": "code",
   "execution_count": 93,
   "metadata": {},
   "outputs": [
    {
     "data": {
      "text/plain": [
       "1.6449340668482264"
      ]
     },
     "execution_count": 93,
     "metadata": {},
     "output_type": "execute_result"
    }
   ],
   "source": [
    "pi**2/6"
   ]
  },
  {
   "cell_type": "markdown",
   "metadata": {},
   "source": [
    "### Logic, loops and functions\n",
    "\n",
    "#### if statements\n",
    "\n",
    "The following example illustrates an [if statement](https://docs.python.org/3/tutorial/controlflow.html#if-statements):"
   ]
  },
  {
   "cell_type": "code",
   "execution_count": 94,
   "metadata": {},
   "outputs": [
    {
     "name": "stdout",
     "output_type": "stream",
     "text": [
      "Polynomial has two real distinct roots.\n"
     ]
    }
   ],
   "source": [
    "# Variables a, b and c represent the coefficients of the quadratic polynomial\n",
    "# a*x**2 + b*x + c\n",
    "a = 2\n",
    "b = 5\n",
    "c = -3\n",
    "discriminant = b**2 - 4*a*c\n",
    "\n",
    "if discriminant > 0:\n",
    "    print('Polynomial has two real distinct roots.')\n",
    "elif discriminant < 0:\n",
    "    print('Polynomial has two complex roots.')\n",
    "else:\n",
    "    print('Polynomial has one real repeated root.')"
   ]
  },
  {
   "cell_type": "markdown",
   "metadata": {},
   "source": [
    "Notice a few important points:\n",
    "\n",
    "* keywords `if`, `elif` (optional) and `else` (optional)\n",
    "* colon : at end of each clause\n",
    "* blocks are indented standard 4 spaces"
   ]
  },
  {
   "cell_type": "markdown",
   "metadata": {},
   "source": [
    "#### Loops\n",
    "\n",
    "The following example illustrates a [for loop](https://docs.python.org/3/tutorial/controlflow.html#for-statements):"
   ]
  },
  {
   "cell_type": "code",
   "execution_count": 105,
   "metadata": {},
   "outputs": [
    {
     "name": "stdout",
     "output_type": "stream",
     "text": [
      "1 is odd\n",
      "2 is even\n",
      "3 is odd\n",
      "4 is even\n",
      "5 is odd\n",
      "6 is even\n",
      "7 is odd\n",
      "8 is even\n",
      "9 is odd\n"
     ]
    }
   ],
   "source": [
    "for d in range(1,10):\n",
    "    if d % 2 == 0:\n",
    "        print(d,'is even')\n",
    "    else:\n",
    "        print(d,'is odd')"
   ]
  },
  {
   "cell_type": "markdown",
   "metadata": {},
   "source": [
    "Notice a few important points:\n",
    "\n",
    "* `iterable` is any sequence-like object\n",
    "* `item` takes each value in the iterable and executes the 4 lines in the block\n",
    "* the body of the for loop is indented 4 spaces and each block in the if statement is indented an additional 4 spaces."
   ]
  },
  {
   "cell_type": "markdown",
   "metadata": {},
   "source": [
    "The following example illustrates a [while loop](https://docs.python.org/3/tutorial/introduction.html#first-steps-towards-programming):"
   ]
  },
  {
   "cell_type": "code",
   "execution_count": 107,
   "metadata": {},
   "outputs": [
    {
     "name": "stdout",
     "output_type": "stream",
     "text": [
      "5\n",
      "4\n",
      "3\n",
      "2\n",
      "1\n"
     ]
    }
   ],
   "source": [
    "n = 5\n",
    "while n > 0:\n",
    "    print(n)\n",
    "    n = n - 1"
   ]
  },
  {
   "cell_type": "markdown",
   "metadata": {},
   "source": [
    "#### Functions\n",
    "\n",
    "The following example illustrates a [function definition](https://docs.python.org/3/tutorial/controlflow.html#defining-functions):"
   ]
  },
  {
   "cell_type": "code",
   "execution_count": 99,
   "metadata": {
    "collapsed": true
   },
   "outputs": [],
   "source": [
    "def average(x):\n",
    "    \"Comute the average of the values in x.\"\n",
    "    total = sum(x)\n",
    "    number = len(x)\n",
    "    return total / number"
   ]
  },
  {
   "cell_type": "markdown",
   "metadata": {},
   "source": [
    "Let's test our function:"
   ]
  },
  {
   "cell_type": "code",
   "execution_count": 100,
   "metadata": {},
   "outputs": [
    {
     "data": {
      "text/plain": [
       "2.5"
      ]
     },
     "execution_count": 100,
     "metadata": {},
     "output_type": "execute_result"
    }
   ],
   "source": [
    "average([1,2,3,4])"
   ]
  },
  {
   "cell_type": "markdown",
   "metadata": {},
   "source": [
    "Notice a few important points:\n",
    "\n",
    "* keyword `def` followed by the function name and parameter(s)\n",
    "* first line ends with a colon\n",
    "* body of the function is indented 4 spaces\n",
    "* line after `def` statement is a the documentation string\n",
    "* keyword `return` (optional) specifies the return value"
   ]
  },
  {
   "cell_type": "markdown",
   "metadata": {},
   "source": [
    "### Exercise: Collatz conjecture\n",
    "\n",
    "Let $a$ be a positive integer and consider the recursive sequence: let $a_0 = a$ and\n",
    "\n",
    "$$\n",
    "a_{n+1} = \\left\\{ \\begin{array}{ccl} a_n/2 & , & \\text{if } a_n \\text{ is even} \\\\ 3a_n+1 & , & \\text{if } a_n \\text{ is odd}  \\end{array} \\right.\n",
    "$$\n",
    "\n",
    "The [Collatz conjecture](https://en.wikipedia.org/wiki/Collatz_conjecture) states that this sequence will always reach 1.\n",
    "\n",
    "Write a function called `collatz` which takes one input parameter `a` and returns the sequence (of integers) defined above (ending with the first occurence $a_n=1$). Which $a < 1000$ produces the longest sequence?"
   ]
  },
  {
   "cell_type": "code",
   "execution_count": 110,
   "metadata": {
    "collapsed": true
   },
   "outputs": [],
   "source": [
    "def collatz(a):\n",
    "    sequence = [a]\n",
    "    while sequence[-1] != 1:\n",
    "        if sequence[-1] % 2 == 0:\n",
    "            next_value = sequence[-1]//2\n",
    "            sequence.append(next_value)\n",
    "        else:\n",
    "            next_value = 3*sequence[-1] + 1\n",
    "            sequence.append(next_value)\n",
    "    return sequence"
   ]
  },
  {
   "cell_type": "code",
   "execution_count": 113,
   "metadata": {},
   "outputs": [
    {
     "data": {
      "text/plain": [
       "[10, 5, 16, 8, 4, 2, 1]"
      ]
     },
     "execution_count": 113,
     "metadata": {},
     "output_type": "execute_result"
    }
   ],
   "source": [
    "collatz(10)"
   ]
  },
  {
   "cell_type": "markdown",
   "metadata": {},
   "source": [
    "### Packages and modules\n",
    "\n",
    "A [module](https://docs.python.org/3/tutorial/modules.html) is simply a file containing Python code which defines variables, functions and classes, and a [package](https://docs.python.org/3/tutorial/modules.html#packages) is a collection of modules.\n",
    "\n",
    "Use the keyword [import](https://docs.python.org/3/tutorial/modules.html#more-on-modules) to import a module or packages into your Python environment. We access variables, functions, classes, etc. from a module or package using the dot notation.\n",
    "\n",
    "For example, let's import the [math module](https://docs.python.org/3/library/math.html) and do some calculations with the variable `math.pi` and the functions `math.sin` and `math.cos`:"
   ]
  },
  {
   "cell_type": "code",
   "execution_count": 95,
   "metadata": {
    "collapsed": true
   },
   "outputs": [],
   "source": [
    "import math"
   ]
  },
  {
   "cell_type": "code",
   "execution_count": 96,
   "metadata": {},
   "outputs": [
    {
     "data": {
      "text/plain": [
       "3.141592653589793"
      ]
     },
     "execution_count": 96,
     "metadata": {},
     "output_type": "execute_result"
    }
   ],
   "source": [
    "math.pi"
   ]
  },
  {
   "cell_type": "code",
   "execution_count": 97,
   "metadata": {},
   "outputs": [
    {
     "data": {
      "text/plain": [
       "1.0"
      ]
     },
     "execution_count": 97,
     "metadata": {},
     "output_type": "execute_result"
    }
   ],
   "source": [
    "math.cos(0)"
   ]
  },
  {
   "cell_type": "code",
   "execution_count": 98,
   "metadata": {},
   "outputs": [
    {
     "data": {
      "text/plain": [
       "1.0"
      ]
     },
     "execution_count": 98,
     "metadata": {},
     "output_type": "execute_result"
    }
   ],
   "source": [
    "math.sin(math.pi/2)"
   ]
  },
  {
   "cell_type": "markdown",
   "metadata": {},
   "source": [
    "## Scientific Computing in Python"
   ]
  },
  {
   "cell_type": "markdown",
   "metadata": {},
   "source": [
    "### NumPy and Matplotlib\n",
    "\n",
    "[NumPy](http://www.numpy.org/) is the core numerical computing package in Python and [matplotlib](http://matplotlib.org/) is a 2D plotting library built on NumPy. Let's begin by importing them:"
   ]
  },
  {
   "cell_type": "code",
   "execution_count": 2,
   "metadata": {
    "collapsed": true
   },
   "outputs": [],
   "source": [
    "import numpy as np\n",
    "import matplotlib.pyplot as plt\n",
    "%matplotlib inline"
   ]
  },
  {
   "cell_type": "markdown",
   "metadata": {},
   "source": [
    "The third line is a Jupyter magic and is required to display matplotlib figures in the notebook."
   ]
  },
  {
   "cell_type": "markdown",
   "metadata": {},
   "source": [
    "#### NumPy arrays\n",
    "\n",
    "The most common methods to create a [NumPy array](https://docs.scipy.org/doc/numpy-dev/user/quickstart.html#the-basics) are:\n",
    "\n",
    "| Function | Description |\n",
    "| :--- | :--- |\n",
    "| `numpy.array(a)` | Create NumPy array from sequence `a` |\n",
    "| `numpy.linspace(a,b,N)` | Create NumPy array with `N` equally spaced from `a` to `b` (inclusively)|\n",
    "| `numpy.arange(a,b,step)` | Create NumPy array with values from `a` to `b` (exclusively) incremented by `step`|\n",
    "| `numpy.random.rand(d1,...,dn)` | Create a NumPy array (with shape `(d1,...,dn)`) with entries sampled uniformly from `[0,1)` |\n",
    "| `numpy.random.randn(d1,...,dn)` | Create a NumPy array (with shape `(d1,...,dn)`) with entries sampled from the standard normal distribution |\n",
    "| `numpy.random.randint(a,b,size))` | Create a NumPy array (with shape `size`) with integer entries from `low` (inclusive) to `high` (exclusive) |"
   ]
  },
  {
   "cell_type": "code",
   "execution_count": 45,
   "metadata": {},
   "outputs": [
    {
     "data": {
      "text/plain": [
       "array([ 0. ,  0.1,  0.2,  0.3,  0.4,  0.5,  0.6,  0.7,  0.8,  0.9])"
      ]
     },
     "execution_count": 45,
     "metadata": {},
     "output_type": "execute_result"
    }
   ],
   "source": [
    "np.arange(0,1,0.1)"
   ]
  },
  {
   "cell_type": "markdown",
   "metadata": {},
   "source": [
    "#### NumPy shape and resize\n",
    "\n",
    "We can access the [shape](https://docs.scipy.org/doc/numpy-dev/user/quickstart.html#shape-manipulation) of an array by the shape method:"
   ]
  },
  {
   "cell_type": "code",
   "execution_count": 5,
   "metadata": {},
   "outputs": [
    {
     "name": "stdout",
     "output_type": "stream",
     "text": [
      "[[5 5 0 2 9 7]\n",
      " [4 8 6 4 9 2]\n",
      " [8 4 8 7 6 8]\n",
      " [2 9 7 5 8 1]]\n"
     ]
    }
   ],
   "source": [
    "arr = np.random.randint(0,10,(4,6))\n",
    "print(arr)"
   ]
  },
  {
   "cell_type": "code",
   "execution_count": 6,
   "metadata": {},
   "outputs": [
    {
     "data": {
      "text/plain": [
       "(4, 6)"
      ]
     },
     "execution_count": 6,
     "metadata": {},
     "output_type": "execute_result"
    }
   ],
   "source": [
    "arr.shape"
   ]
  },
  {
   "cell_type": "markdown",
   "metadata": {},
   "source": [
    "And we can change an array's shape using the resize method:"
   ]
  },
  {
   "cell_type": "code",
   "execution_count": 13,
   "metadata": {},
   "outputs": [
    {
     "name": "stdout",
     "output_type": "stream",
     "text": [
      "[1 2 3 4 5 6 7 8 9]\n"
     ]
    }
   ],
   "source": [
    "arr = np.arange(1,10)\n",
    "print(arr)"
   ]
  },
  {
   "cell_type": "code",
   "execution_count": 14,
   "metadata": {},
   "outputs": [
    {
     "data": {
      "text/plain": [
       "(9,)"
      ]
     },
     "execution_count": 14,
     "metadata": {},
     "output_type": "execute_result"
    }
   ],
   "source": [
    "arr.shape"
   ]
  },
  {
   "cell_type": "code",
   "execution_count": 16,
   "metadata": {},
   "outputs": [
    {
     "name": "stdout",
     "output_type": "stream",
     "text": [
      "[[1 2 3]\n",
      " [4 5 6]\n",
      " [7 8 9]]\n"
     ]
    }
   ],
   "source": [
    "arr.resize(3,3)\n",
    "print(arr)"
   ]
  },
  {
   "cell_type": "markdown",
   "metadata": {},
   "source": [
    "#### NumPy array indexing and slicing\n",
    "\n",
    "We access entries and sub-arrays using bracket notation (and notice that arrays begin with index 0):"
   ]
  },
  {
   "cell_type": "code",
   "execution_count": 17,
   "metadata": {},
   "outputs": [
    {
     "name": "stdout",
     "output_type": "stream",
     "text": [
      "[[4 0 9 5 8 8 6 2]\n",
      " [7 9 5 3 8 4 0 3]\n",
      " [1 6 9 7 9 1 9 6]\n",
      " [8 1 1 2 8 5 4 6]\n",
      " [0 9 9 2 7 1 4 5]]\n"
     ]
    }
   ],
   "source": [
    "arr = np.random.randint(0,10,(5,8))\n",
    "print(arr)"
   ]
  },
  {
   "cell_type": "code",
   "execution_count": 21,
   "metadata": {},
   "outputs": [
    {
     "data": {
      "text/plain": [
       "6"
      ]
     },
     "execution_count": 21,
     "metadata": {},
     "output_type": "execute_result"
    }
   ],
   "source": [
    "arr[2,7]"
   ]
  },
  {
   "cell_type": "markdown",
   "metadata": {},
   "source": [
    "Select the first column:"
   ]
  },
  {
   "cell_type": "code",
   "execution_count": 18,
   "metadata": {},
   "outputs": [
    {
     "data": {
      "text/plain": [
       "array([4, 7, 1, 8, 0])"
      ]
     },
     "execution_count": 18,
     "metadata": {},
     "output_type": "execute_result"
    }
   ],
   "source": [
    "arr[:,0]"
   ]
  },
  {
   "cell_type": "markdown",
   "metadata": {},
   "source": [
    "Select the fifth row (at index 4):"
   ]
  },
  {
   "cell_type": "code",
   "execution_count": 23,
   "metadata": {},
   "outputs": [
    {
     "data": {
      "text/plain": [
       "array([0, 9, 9, 2, 7, 1, 4, 5])"
      ]
     },
     "execution_count": 23,
     "metadata": {},
     "output_type": "execute_result"
    }
   ],
   "source": [
    "arr[4,:]"
   ]
  },
  {
   "cell_type": "markdown",
   "metadata": {},
   "source": [
    "Select the subarray of rows at index 1 and 2, and columns at index 0 and 1:"
   ]
  },
  {
   "cell_type": "code",
   "execution_count": 20,
   "metadata": {},
   "outputs": [
    {
     "data": {
      "text/plain": [
       "array([[7, 9],\n",
       "       [1, 6]])"
      ]
     },
     "execution_count": 20,
     "metadata": {},
     "output_type": "execute_result"
    }
   ],
   "source": [
    "arr[1:3,0:2]"
   ]
  },
  {
   "cell_type": "markdown",
   "metadata": {},
   "source": [
    "#### NumPy universal functions\n",
    "\n",
    "NumPy [universal functions](https://docs.scipy.org/doc/numpy-dev/user/quickstart.html#universal-functions) are mathematical functions which operate elementwise on arrays and produce arrays as output. These functions are called using the dot notation: `numpy.cos`, `numpy.sin`, `numpy.exp`, ..."
   ]
  },
  {
   "cell_type": "code",
   "execution_count": 41,
   "metadata": {},
   "outputs": [
    {
     "name": "stdout",
     "output_type": "stream",
     "text": [
      "[ 0.    0.25  0.5   0.75  1.    1.25  1.5   1.75]\n"
     ]
    }
   ],
   "source": [
    "x = np.arange(0,2,0.25)\n",
    "print(x)"
   ]
  },
  {
   "cell_type": "code",
   "execution_count": 42,
   "metadata": {},
   "outputs": [
    {
     "data": {
      "text/plain": [
       "array([  0.00000000e+00,   1.00000000e+00,   1.22464680e-16,\n",
       "        -1.00000000e+00,  -2.44929360e-16,   1.00000000e+00,\n",
       "         3.67394040e-16,  -1.00000000e+00])"
      ]
     },
     "execution_count": 42,
     "metadata": {},
     "output_type": "execute_result"
    }
   ],
   "source": [
    "np.sin(2*np.pi*x)"
   ]
  },
  {
   "cell_type": "markdown",
   "metadata": {},
   "source": [
    "#### NumPy array operations\n",
    "\n",
    "[Array operations](https://docs.scipy.org/doc/numpy-dev/user/quickstart.html#basic-operations) are also performed elementwise. For example:"
   ]
  },
  {
   "cell_type": "code",
   "execution_count": 116,
   "metadata": {},
   "outputs": [
    {
     "data": {
      "text/plain": [
       "array([ 1,  4,  9, 16])"
      ]
     },
     "execution_count": 116,
     "metadata": {},
     "output_type": "execute_result"
    }
   ],
   "source": [
    "x = np.array([1,2,3,4])\n",
    "x**2"
   ]
  },
  {
   "cell_type": "markdown",
   "metadata": {},
   "source": [
    "Again, unlike other matrix language, array multiplication is performed elementwise:"
   ]
  },
  {
   "cell_type": "code",
   "execution_count": 24,
   "metadata": {},
   "outputs": [
    {
     "name": "stdout",
     "output_type": "stream",
     "text": [
      "[[0 5 5 1]\n",
      " [0 6 1 4]\n",
      " [3 0 1 9]]\n"
     ]
    }
   ],
   "source": [
    "A = np.random.randint(0,10,(3,4))\n",
    "print(A)"
   ]
  },
  {
   "cell_type": "code",
   "execution_count": 25,
   "metadata": {},
   "outputs": [
    {
     "data": {
      "text/plain": [
       "array([[ 0, 25, 25,  1],\n",
       "       [ 0, 36,  1, 16],\n",
       "       [ 9,  0,  1, 81]])"
      ]
     },
     "execution_count": 25,
     "metadata": {},
     "output_type": "execute_result"
    }
   ],
   "source": [
    "A*A"
   ]
  },
  {
   "cell_type": "markdown",
   "metadata": {},
   "source": [
    "New in Python 3, the symbol `@` computes matrix multiplication for NumPy arrays:"
   ]
  },
  {
   "cell_type": "code",
   "execution_count": 37,
   "metadata": {},
   "outputs": [
    {
     "name": "stdout",
     "output_type": "stream",
     "text": [
      "[[1 1]\n",
      " [2 3]]\n"
     ]
    }
   ],
   "source": [
    "A = np.array([[1,1],[2,3]])\n",
    "print(A)"
   ]
  },
  {
   "cell_type": "code",
   "execution_count": 38,
   "metadata": {},
   "outputs": [
    {
     "data": {
      "text/plain": [
       "array([[ 3,  4],\n",
       "       [ 8, 11]])"
      ]
     },
     "execution_count": 38,
     "metadata": {},
     "output_type": "execute_result"
    }
   ],
   "source": [
    "A @ A"
   ]
  },
  {
   "cell_type": "markdown",
   "metadata": {},
   "source": [
    "#### Basic plotting\n",
    "\n",
    "[Matplotlib plotting commands](http://matplotlib.org/api/pyplot_summary.html) are called using `matplotlib.pyplot` (usually imported under the alias `plt`). The main command is simply `plt.plot`. For example:"
   ]
  },
  {
   "cell_type": "code",
   "execution_count": 122,
   "metadata": {},
   "outputs": [
    {
     "data": {
      "text/plain": [
       "[<matplotlib.lines.Line2D at 0x7fefdb3d5d68>]"
      ]
     },
     "execution_count": 122,
     "metadata": {},
     "output_type": "execute_result"
    },
    {
     "data": {
      "image/png": "[encoded data removed]",
      "text/plain": [
       "<matplotlib.figure.Figure at 0x7fefd9be5668>"
      ]
     },
     "metadata": {},
     "output_type": "display_data"
    }
   ],
   "source": [
    "x = np.linspace(0,6,200)\n",
    "y = np.sin(2*np.pi*x)\n",
    "plt.plot(x,y)"
   ]
  },
  {
   "cell_type": "markdown",
   "metadata": {},
   "source": [
    "### Exercise: Parametric plots\n",
    "\n",
    "Write a function called `parametric_plots` which takes input parameters `a` and `k` and plots the parametric equation\n",
    "\n",
    "\\begin{align*}\n",
    "x(t) &= 2 k \\cos(t) - a \\cos(k t) \\\\\n",
    "y(t) &= 2 k \\sin(t) - a \\sin(k t)\n",
    "\\end{align*}\n",
    "\n",
    "for $t \\in [0,2\\pi]$. Include a title for each subplot to display the values for $a$ and $k$, and use `plt.axis('equal')` to display the curve properly. "
   ]
  },
  {
   "cell_type": "code",
   "execution_count": 31,
   "metadata": {
    "collapsed": true
   },
   "outputs": [],
   "source": [
    "def parametric_plot(a,k):\n",
    "    t = np.linspace(0,2*np.pi,1000)\n",
    "    x = 2*k*np.cos(t) - a*np.cos(k*t)\n",
    "    y = 2*k*np.sin(t) - a*np.sin(k*t)\n",
    "    plt.plot(x,y)\n",
    "    plt.axis('equal')\n",
    "    plt.show()"
   ]
  },
  {
   "cell_type": "code",
   "execution_count": 42,
   "metadata": {},
   "outputs": [
    {
     "data": {
      "image/png": "[encoded data removed]",
      "text/plain": [
       "<matplotlib.figure.Figure at 0x7ff00e952630>"
      ]
     },
     "metadata": {},
     "output_type": "display_data"
    },
    {
     "data": {
      "image/png": "[encoded data removed]",
      "text/plain": [
       "<matplotlib.figure.Figure at 0x7fefd9bdd710>"
      ]
     },
     "metadata": {},
     "output_type": "display_data"
    }
   ],
   "source": [
    "parametric_plot(7,5); parametric_plot(2,4);"
   ]
  },
  {
   "cell_type": "markdown",
   "metadata": {},
   "source": [
    "### SciPy\n",
    "\n",
    "[SciPy](https://scipy.org) is a library containing packages for numerical integration, linear algebra, signal processing, and more. Check out the [SciPy tutorial](https://docs.scipy.org/doc/scipy/reference/#tutorial).\n",
    "\n",
    "Let's look at the `quad` function in the [`scipy.integrate`](https://docs.scipy.org/doc/scipy/reference/integrate.html) module:"
   ]
  },
  {
   "cell_type": "code",
   "execution_count": 27,
   "metadata": {
    "collapsed": true
   },
   "outputs": [],
   "source": [
    "import scipy.integrate as spi"
   ]
  },
  {
   "cell_type": "markdown",
   "metadata": {},
   "source": [
    "Use the question mark `?` to see the documentation:"
   ]
  },
  {
   "cell_type": "code",
   "execution_count": 124,
   "metadata": {
    "collapsed": true
   },
   "outputs": [],
   "source": [
    "spi.quad?"
   ]
  },
  {
   "cell_type": "markdown",
   "metadata": {},
   "source": [
    "Let's plot the Gaussian $e^{-x^2}$ and verify the formula\n",
    "\n",
    "$$\n",
    "\\int_{-\\infty}^{\\infty} e^{-x^2} = \\sqrt{\\pi}\n",
    "$$"
   ]
  },
  {
   "cell_type": "code",
   "execution_count": 70,
   "metadata": {},
   "outputs": [
    {
     "data": {
      "text/plain": [
       "[<matplotlib.lines.Line2D at 0x7f9c93b7d198>]"
      ]
     },
     "execution_count": 70,
     "metadata": {},
     "output_type": "execute_result"
    },
    {
     "data": {
      "image/png": "[encoded data removed]",
      "text/plain": [
       "<matplotlib.figure.Figure at 0x7f9c9c03c6a0>"
      ]
     },
     "metadata": {},
     "output_type": "display_data"
    }
   ],
   "source": [
    "x = np.linspace(-3,3,1000)\n",
    "y = np.exp(-x**2)\n",
    "plt.plot(x,y)"
   ]
  },
  {
   "cell_type": "code",
   "execution_count": 72,
   "metadata": {},
   "outputs": [
    {
     "name": "stdout",
     "output_type": "stream",
     "text": [
      "1.7724538509055159\n"
     ]
    }
   ],
   "source": [
    "I, err = spi.quad(lambda x: np.exp(-x**2),-np.inf,np.inf)\n",
    "print(I)"
   ]
  },
  {
   "cell_type": "code",
   "execution_count": 127,
   "metadata": {},
   "outputs": [
    {
     "data": {
      "text/plain": [
       "1.7724538509055159"
      ]
     },
     "execution_count": 127,
     "metadata": {},
     "output_type": "execute_result"
    }
   ],
   "source": [
    "np.pi**0.5"
   ]
  },
  {
   "cell_type": "markdown",
   "metadata": {},
   "source": [
    "### Exercise: Logistic equation\n",
    "\n",
    "Let's plot numerical solutions of the logistic equation $y' = y(1-y)$ for different initial conditions $y(0)$."
   ]
  },
  {
   "cell_type": "code",
   "execution_count": 64,
   "metadata": {},
   "outputs": [
    {
     "data": {
      "image/png": "[encoded data removed]",
      "text/plain": [
       "<matplotlib.figure.Figure at 0x7f9c9c03ce48>"
      ]
     },
     "metadata": {},
     "output_type": "display_data"
    }
   ],
   "source": [
    "def f(y,t):\n",
    "    return y*(1-y)\n",
    "\n",
    "t = np.linspace(0,1,100)\n",
    "\n",
    "for y0 in np.arange(-0.4,3,0.2):\n",
    "    y = spi.odeint(f,y0,t)\n",
    "    plt.plot(t,y,'b')"
   ]
  },
  {
   "cell_type": "markdown",
   "metadata": {},
   "source": [
    "### Exercise: Euler's three-body problem\n",
    "\n",
    "[Euler's three-body problem](https://en.wikipedia.org/wiki/Euler%27s_three-body_problem) is a simplified (and admittedly physically impossible) version of the three-body problem. Euler's problem considers two stars fixed in space and a planet orbiting the stars in 2 dimensions. We will derive the equations of motion of the planet and then plot trajectories using SciPy's ODE solver `odeint`."
   ]
  },
  {
   "cell_type": "markdown",
   "metadata": {},
   "source": [
    "Use the following units: astronomical units (AU), years and solar mass (multiples of the mass of the Earth's Sun). With these units, the gravitational constant is $G = 4 \\pi^2$. Introduce variables for the planet and the stars:\n",
    "\n",
    "| Variable | Description |\n",
    "| :---: | :---: |\n",
    "| $m_{S_1}$ | mass of star 1 |\n",
    "| $m_{S_2}$ | mass of star 2 |\n",
    "| $m_P$ | mass of the planet |\n",
    "| $x_{S_1}$ | (fixed) $x$-position of star 1 |\n",
    "| $y_{S_1}$ | (fixed) $y$-position of star 1 |\n",
    "| $x_{S_2}$ | (fixed) $x$-position of star 2 |\n",
    "| $y_{S_2}$ | (fixed) $x$-position of star 2 |\n",
    "| $x_P$ | $x$-position of the planet |\n",
    "| $y_P$ | $y$-position of the planet |\n",
    "| $\\mathbf{x}$ | position vector of the planet |"
   ]
  },
  {
   "cell_type": "markdown",
   "metadata": {},
   "source": [
    "Let $\\mathbf{F}_1$ be the force of gravity of star 1 acting on the planet, and let $\\mathbf{F}_2$ be the force of gravity of star 2 acting on the planet. [Newton's Law of Gravity](https://en.wikipedia.org/wiki/Newton%27s_law_of_universal_gravitation) states:\n",
    "\n",
    "\\begin{align}\n",
    "\\mathbf{F}_1 &= - \\frac{ G m_P m_{S_1} }{ || \\mathbf{d}_1 ||^2} \\frac{ \\mathbf{d}_1 }{ || \\mathbf{d}_1 || } \\\\\n",
    "\\mathbf{F}_2 &= - \\frac{ G m_P m_{S_2} }{ || \\mathbf{d}_2 ||^2} \\frac{ \\mathbf{d}_2 }{ || \\mathbf{d}_2 || }\n",
    "\\end{align}\n",
    "\n",
    "where $\\mathbf{d}_1 = (x_P-x_{S_1},y_P-y_{S_1})$ is the vector from star 1 to the planet, and $\\mathbf{d}_2 = (x_P-x_{S_2},y_P-y_{S_2})$ is the vector from star 2 to the planet."
   ]
  },
  {
   "cell_type": "markdown",
   "metadata": {},
   "source": [
    "[Newton's Second Law of Motion](https://en.wikipedia.org/wiki/Newton%27s_laws_of_motion) states:\n",
    "\n",
    "$$\n",
    "m_P \\frac{ d^2 \\mathbf{x} }{ dt^2 } = \\mathbf{F}_1 + \\mathbf{F}_2\n",
    "$$\n",
    "\n",
    "and this leads us to the system of second order ODEs which govern the motion of the planet:\n",
    "\n",
    "\\begin{align}\n",
    "\\frac{d^2x_P}{dt^2} &= - \\frac{ G m_{S_1} (x_P - x_{S_1}) }{ || \\mathbf{d}_1 ||^3} - \\frac{ G m_{S_2} (x_P - x_{S_2}) }{ || \\mathbf{d}_2 ||^3} \\\\\n",
    "\\frac{d^2y_P}{dt^2} &= - \\frac{ G m_{S_1} (y_P - y_{S_1}) }{ || \\mathbf{d}_1 ||^3} - \\frac{ G m_{S_2} (y_P - y_{S_2}) }{ || \\mathbf{d}_2 ||^3}\n",
    "\\end{align}"
   ]
  },
  {
   "cell_type": "markdown",
   "metadata": {},
   "source": [
    "To plot trajectories of the planet using `odeint`, we first need to write the system as a first order system. Introduce new variables $u_1 = x_P$, $u_2 = x_P'$, $u_3 = y_P$ and $u_4 = y_P'$ and write\n",
    "\n",
    "\\begin{align}\n",
    "u_1' &= u_2 \\\\\n",
    "u_2' &= - \\frac{ G m_{S_1} (u_1 - x_{S_1}) }{ || \\mathbf{d}_1 ||^3} - \\frac{ G m_{S_2} (u_1 - x_{S_2}) }{ || \\mathbf{d}_2 ||^3} \\\\\n",
    "u_3' &= u_4 \\\\\n",
    "u_4' &= - \\frac{ G m_{S_1} (u_3 - y_{S_1}) }{ || \\mathbf{d}_1 ||^3} - \\frac{ G m_{S_2} (u_3 - y_{S_2}) }{ || \\mathbf{d}_2 ||^3}\n",
    "\\end{align}\n",
    "\n",
    "where $\\mathbf{d}_1 = (u_1-x_{S_1},u_3-y_{S_1})$ and $\\mathbf{d}_2 = (u_1-x_{S_2},u_3-y_{S_2})$."
   ]
  },
  {
   "cell_type": "code",
   "execution_count": 26,
   "metadata": {
    "collapsed": true
   },
   "outputs": [],
   "source": [
    "def euler_three_body(S1,S2,M1,M2,u0,tf,numpoints=1000):\n",
    "    '''\n",
    "    Plot the trajectory of a planet in Euler's three-body problem.\n",
    "    \n",
    "    S1 - list of length 2, coordinates of Star 1\n",
    "    S2 - list of length 2, coordinates of Star 2\n",
    "    M1 - mass of Star 1 (in solar mass)\n",
    "    M2 - mass of Star 2 (in solar mass)\n",
    "    u0 - list of length 4, initial conditions of the planet: [xposition,xvelocity,yposition,yvelocity]\n",
    "    tf - final time (in years), plot the trajectory for t in [0,tf]\n",
    "    numpoints - the number of time values in the plot (default 1000)\n",
    "    '''\n",
    "    \n",
    "    # Define the vector function on the right side of the system of the equations\n",
    "    def f(u,t):\n",
    "        G = 4*np.pi**2 # Gravitational constant\n",
    "        d1 = la.norm([u[0]-S1[0],u[2]-S1[1]]) # Distance from star 1 to planet\n",
    "        d2 = la.norm([u[0]-S2[0],u[2]-S2[1]]) # Distance from star 2 to planet\n",
    "        dU1dt = u[1]\n",
    "        dU2dt = -G*M1*(u[0]-S1[0])/d1**3 - G*M2*(u[0]-S2[0])/d2**3\n",
    "        dU3dt = u[3]\n",
    "        dU4dt = -G*M1*(u[2]-S1[1])/d1**3 - G*M2*(u[2]-S2[1])/d2**3\n",
    "        return [ dU1dt , dU2dt , dU3dt , dU4dt ]\n",
    "\n",
    "    t = np.linspace(0,tf,numpoints) # Array of time values (in years)\n",
    "    u = spi.odeint(f,u0,t) # Solve system: u = [xposition,xvelocity,yposition,yvelocity]\n",
    "\n",
    "    plt.plot(u[:,0],u[:,2]) # Plot trajectory of the planet\n",
    "    plt.plot(S1[0],S1[1],'ro',markersize=5*M1) # Plot Star 1 as a red star\n",
    "    plt.plot(S2[0],S2[1],'ro',markersize=5*M2) # Plot Star 2 as a red star\n",
    "    plt.axis('equal')\n",
    "    plt.show()"
   ]
  },
  {
   "cell_type": "code",
   "execution_count": 46,
   "metadata": {},
   "outputs": [
    {
     "data": {
      "image/png": "[encoded data removed]",
      "text/plain": [
       "<matplotlib.figure.Figure at 0x7fefdae15d68>"
      ]
     },
     "metadata": {},
     "output_type": "display_data"
    }
   ],
   "source": [
    "euler_three_body([-1,1],[1,-1],2,1,[0,10,0,5],30)"
   ]
  },
  {
   "cell_type": "markdown",
   "metadata": {},
   "source": [
    "### pandas"
   ]
  },
  {
   "cell_type": "markdown",
   "metadata": {},
   "source": [
    "[pandas](http://pandas.pydata.org/) is the data analysis package in Python. It provides a [DataFrame](http://pandas.pydata.org/pandas-docs/stable/dsintro.html#dataframe) object which acts like a spreadsheet. Let's import the package and some data:"
   ]
  },
  {
   "cell_type": "code",
   "execution_count": 66,
   "metadata": {
    "collapsed": true
   },
   "outputs": [],
   "source": [
    "import pandas as pd"
   ]
  },
  {
   "cell_type": "code",
   "execution_count": 67,
   "metadata": {},
   "outputs": [],
   "source": [
    "data = pd.read_csv('http://www.math.ubc.ca/~pwalls/data/van_crime.csv')"
   ]
  },
  {
   "cell_type": "code",
   "execution_count": 68,
   "metadata": {},
   "outputs": [
    {
     "data": {
      "text/html": [
       "<div>\n",
       "<table border=\"1\" class=\"dataframe\">\n",
       "  <thead>\n",
       "    <tr style=\"text-align: right;\">\n",
       "      <th></th>\n",
       "      <th>TYPE</th>\n",
       "      <th>YEAR</th>\n",
       "      <th>MONTH</th>\n",
       "      <th>HUNDRED_BLOCK</th>\n",
       "      <th>NEIGHBOURHOOD</th>\n",
       "      <th>X</th>\n",
       "      <th>Y</th>\n",
       "    </tr>\n",
       "  </thead>\n",
       "  <tbody>\n",
       "    <tr>\n",
       "      <th>0</th>\n",
       "      <td>Mischief</td>\n",
       "      <td>2015</td>\n",
       "      <td>3</td>\n",
       "      <td>26XX E 49TH AVE</td>\n",
       "      <td>Victoria-Fraserview</td>\n",
       "      <td>496065.581256</td>\n",
       "      <td>5.452452e+06</td>\n",
       "    </tr>\n",
       "    <tr>\n",
       "      <th>1</th>\n",
       "      <td>Theft from Vehicle</td>\n",
       "      <td>2015</td>\n",
       "      <td>12</td>\n",
       "      <td>34XX WILLIAM ST</td>\n",
       "      <td>Hastings-Sunrise</td>\n",
       "      <td>497850.800800</td>\n",
       "      <td>5.457933e+06</td>\n",
       "    </tr>\n",
       "    <tr>\n",
       "      <th>2</th>\n",
       "      <td>Theft from Vehicle</td>\n",
       "      <td>2015</td>\n",
       "      <td>4</td>\n",
       "      <td>34XX WILLIAM ST</td>\n",
       "      <td>Hastings-Sunrise</td>\n",
       "      <td>497879.450446</td>\n",
       "      <td>5.457923e+06</td>\n",
       "    </tr>\n",
       "    <tr>\n",
       "      <th>3</th>\n",
       "      <td>Theft from Vehicle</td>\n",
       "      <td>2015</td>\n",
       "      <td>10</td>\n",
       "      <td>34XX WILLIAM ST</td>\n",
       "      <td>Hastings-Sunrise</td>\n",
       "      <td>497901.623450</td>\n",
       "      <td>5.457932e+06</td>\n",
       "    </tr>\n",
       "    <tr>\n",
       "      <th>4</th>\n",
       "      <td>Theft from Vehicle</td>\n",
       "      <td>2015</td>\n",
       "      <td>9</td>\n",
       "      <td>34XX WILLIAM ST</td>\n",
       "      <td>Hastings-Sunrise</td>\n",
       "      <td>497921.510576</td>\n",
       "      <td>5.457932e+06</td>\n",
       "    </tr>\n",
       "  </tbody>\n",
       "</table>\n",
       "</div>"
      ],
      "text/plain": [
       "                 TYPE  YEAR  MONTH    HUNDRED_BLOCK        NEIGHBOURHOOD  \\\n",
       "0            Mischief  2015      3  26XX E 49TH AVE  Victoria-Fraserview   \n",
       "1  Theft from Vehicle  2015     12  34XX WILLIAM ST     Hastings-Sunrise   \n",
       "2  Theft from Vehicle  2015      4  34XX WILLIAM ST     Hastings-Sunrise   \n",
       "3  Theft from Vehicle  2015     10  34XX WILLIAM ST     Hastings-Sunrise   \n",
       "4  Theft from Vehicle  2015      9  34XX WILLIAM ST     Hastings-Sunrise   \n",
       "\n",
       "               X             Y  \n",
       "0  496065.581256  5.452452e+06  \n",
       "1  497850.800800  5.457933e+06  \n",
       "2  497879.450446  5.457923e+06  \n",
       "3  497901.623450  5.457932e+06  \n",
       "4  497921.510576  5.457932e+06  "
      ]
     },
     "execution_count": 68,
     "metadata": {},
     "output_type": "execute_result"
    }
   ],
   "source": [
    "data.head()"
   ]
  },
  {
   "cell_type": "code",
   "execution_count": 69,
   "metadata": {},
   "outputs": [
    {
     "name": "stdout",
     "output_type": "stream",
     "text": [
      "<class 'pandas.core.frame.DataFrame'>\n",
      "RangeIndex: 45802 entries, 0 to 45801\n",
      "Data columns (total 7 columns):\n",
      "TYPE             45802 non-null object\n",
      "YEAR             45802 non-null int64\n",
      "MONTH            45802 non-null int64\n",
      "HUNDRED_BLOCK    45802 non-null object\n",
      "NEIGHBOURHOOD    41815 non-null object\n",
      "X                45802 non-null float64\n",
      "Y                45802 non-null float64\n",
      "dtypes: float64(2), int64(2), object(3)\n",
      "memory usage: 2.4+ MB\n"
     ]
    }
   ],
   "source": [
    "data.info()"
   ]
  },
  {
   "cell_type": "code",
   "execution_count": null,
   "metadata": {
    "collapsed": true
   },
   "outputs": [],
   "source": []
  }
 ],
 "metadata": {
  "kernelspec": {
   "display_name": "Python 3",
   "language": "python",
   "name": "python3"
  },
  "language_info": {
   "codemirror_mode": {
    "name": "ipython",
    "version": 3
   },
   "file_extension": ".py",
   "mimetype": "text/x-python",
   "name": "python",
   "nbconvert_exporter": "python",
   "pygments_lexer": "ipython3",
   "version": "3.5.2"
  }
 },
 "nbformat": 4,
 "nbformat_minor": 2
}
