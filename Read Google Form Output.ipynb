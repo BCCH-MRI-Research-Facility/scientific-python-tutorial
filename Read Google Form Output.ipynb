{
 "cells": [
  {
   "cell_type": "code",
   "execution_count": 25,
   "metadata": {},
   "outputs": [],
   "source": [
    "df = pd.read_csv('https://docs.google.com/spreadsheets/d/1VtcbyL3uQujaTt3gyn5gH2LYdUiy7ozbTnmbMcdKGfs/export?format=csv&id')"
   ]
  },
  {
   "cell_type": "code",
   "execution_count": 26,
   "metadata": {},
   "outputs": [
    {
     "data": {
      "text/html": [
       "<div>\n",
       "<style>\n",
       "    .dataframe thead tr:only-child th {\n",
       "        text-align: right;\n",
       "    }\n",
       "\n",
       "    .dataframe thead th {\n",
       "        text-align: left;\n",
       "    }\n",
       "\n",
       "    .dataframe tbody tr th {\n",
       "        vertical-align: top;\n",
       "    }\n",
       "</style>\n",
       "<table border=\"1\" class=\"dataframe\">\n",
       "  <thead>\n",
       "    <tr style=\"text-align: right;\">\n",
       "      <th></th>\n",
       "      <th>Timestamp</th>\n",
       "      <th>Which sessions are you interested in?</th>\n",
       "      <th>What times work well for you? (August and September)</th>\n",
       "      <th>Any specific questions/comments about dates</th>\n",
       "      <th>Please enter your name</th>\n",
       "      <th>Please enter your email address</th>\n",
       "    </tr>\n",
       "  </thead>\n",
       "  <tbody>\n",
       "    <tr>\n",
       "      <th>0</th>\n",
       "      <td>7/4/2017 14:52:45</td>\n",
       "      <td>Intro to Python: Packages, Data Types, Numeric...</td>\n",
       "      <td>Tuesday Mornings (9-12), Tuesday Afternoons (1...</td>\n",
       "      <td>No</td>\n",
       "      <td>Mike</td>\n",
       "      <td>msjarrett@gmail.com</td>\n",
       "    </tr>\n",
       "    <tr>\n",
       "      <th>1</th>\n",
       "      <td>7/19/2017 15:02:28</td>\n",
       "      <td>Intro to Python, Neuroimaging in Python</td>\n",
       "      <td>Tuesday Mornings (9-12), Tuesday Afternoons (1...</td>\n",
       "      <td>NaN</td>\n",
       "      <td>Bretta</td>\n",
       "      <td>bretta.russell-schulz@ubc.ca</td>\n",
       "    </tr>\n",
       "    <tr>\n",
       "      <th>2</th>\n",
       "      <td>7/19/2017 15:04:24</td>\n",
       "      <td>Intro to Python, Scientific Python, Neuroimagi...</td>\n",
       "      <td>Thursday Mornings (9-12), Thursday Afternoons ...</td>\n",
       "      <td>I will be in Florida for Philips Pulse Program...</td>\n",
       "      <td>Erin MacMillan</td>\n",
       "      <td>erin.macmillan@ubc.ca</td>\n",
       "    </tr>\n",
       "    <tr>\n",
       "      <th>3</th>\n",
       "      <td>7/19/2017 15:05:23</td>\n",
       "      <td>Intro to Python, Scientific Python, Neuroimagi...</td>\n",
       "      <td>Tuesday Mornings (9-12), Tuesday Afternoons (1...</td>\n",
       "      <td>I can do Tuesdays after 9:30 (the MS Connect t...</td>\n",
       "      <td>Irene Vavasour</td>\n",
       "      <td>lees@phas.ubc.ca</td>\n",
       "    </tr>\n",
       "    <tr>\n",
       "      <th>4</th>\n",
       "      <td>7/19/2017 15:11:57</td>\n",
       "      <td>Scientific Python, Neuroimaging in Python</td>\n",
       "      <td>Tuesday Mornings (9-12), Thursday Mornings (9-12)</td>\n",
       "      <td>NaN</td>\n",
       "      <td>Kimberley</td>\n",
       "      <td>kimberley30c@gmail.com</td>\n",
       "    </tr>\n",
       "  </tbody>\n",
       "</table>\n",
       "</div>"
      ],
      "text/plain": [
       "            Timestamp              Which sessions are you interested in?  \\\n",
       "0   7/4/2017 14:52:45  Intro to Python: Packages, Data Types, Numeric...   \n",
       "1  7/19/2017 15:02:28            Intro to Python, Neuroimaging in Python   \n",
       "2  7/19/2017 15:04:24  Intro to Python, Scientific Python, Neuroimagi...   \n",
       "3  7/19/2017 15:05:23  Intro to Python, Scientific Python, Neuroimagi...   \n",
       "4  7/19/2017 15:11:57          Scientific Python, Neuroimaging in Python   \n",
       "\n",
       "  What times work well for you? (August and September)  \\\n",
       "0  Tuesday Mornings (9-12), Tuesday Afternoons (1...     \n",
       "1  Tuesday Mornings (9-12), Tuesday Afternoons (1...     \n",
       "2  Thursday Mornings (9-12), Thursday Afternoons ...     \n",
       "3  Tuesday Mornings (9-12), Tuesday Afternoons (1...     \n",
       "4  Tuesday Mornings (9-12), Thursday Mornings (9-12)     \n",
       "\n",
       "         Any specific questions/comments about dates Please enter your name  \\\n",
       "0                                                 No                   Mike   \n",
       "1                                                NaN                 Bretta   \n",
       "2  I will be in Florida for Philips Pulse Program...         Erin MacMillan   \n",
       "3  I can do Tuesdays after 9:30 (the MS Connect t...         Irene Vavasour   \n",
       "4                                                NaN              Kimberley   \n",
       "\n",
       "  Please enter your email address  \n",
       "0             msjarrett@gmail.com  \n",
       "1    bretta.russell-schulz@ubc.ca  \n",
       "2           erin.macmillan@ubc.ca  \n",
       "3                lees@phas.ubc.ca  \n",
       "4          kimberley30c@gmail.com  "
      ]
     },
     "execution_count": 26,
     "metadata": {},
     "output_type": "execute_result"
    }
   ],
   "source": [
    "df.head()"
   ]
  },
  {
   "cell_type": "code",
   "execution_count": 27,
   "metadata": {},
   "outputs": [],
   "source": [
    "df['What times work well for you? (August and September)'] = df['What times work well for you? (August and September)'].str.split(', ')"
   ]
  },
  {
   "cell_type": "code",
   "execution_count": 31,
   "metadata": {},
   "outputs": [],
   "source": [
    "dates = df.iloc[0,2].copy()"
   ]
  },
  {
   "cell_type": "code",
   "execution_count": 34,
   "metadata": {},
   "outputs": [
    {
     "ename": "KeyError",
     "evalue": "False",
     "output_type": "error",
     "traceback": [
      "\u001b[0;31m---------------------------------------------------------------------------\u001b[0m",
      "\u001b[0;31mKeyError\u001b[0m                                  Traceback (most recent call last)",
      "\u001b[0;32m<ipython-input-34-fe714f741c01>\u001b[0m in \u001b[0;36m<module>\u001b[0;34m()\u001b[0m\n\u001b[0;32m----> 1\u001b[0;31m \u001b[0mdf\u001b[0m\u001b[0;34m[\u001b[0m\u001b[0;34m'Please enter your name'\u001b[0m\u001b[0;34m]\u001b[0m\u001b[0;34m[\u001b[0m\u001b[0mdates\u001b[0m\u001b[0;34m[\u001b[0m\u001b[0;36m0\u001b[0m\u001b[0;34m]\u001b[0m \u001b[0;32min\u001b[0m \u001b[0mdf\u001b[0m\u001b[0;34m[\u001b[0m\u001b[0;34m'What times work well for you? (August and September)'\u001b[0m\u001b[0;34m]\u001b[0m\u001b[0;34m]\u001b[0m\u001b[0;34m\u001b[0m\u001b[0m\n\u001b[0m",
      "\u001b[0;32m/usr/local/lib/python3.4/dist-packages/pandas/core/series.py\u001b[0m in \u001b[0;36m__getitem__\u001b[0;34m(self, key)\u001b[0m\n\u001b[1;32m    599\u001b[0m         \u001b[0mkey\u001b[0m \u001b[0;34m=\u001b[0m \u001b[0mcom\u001b[0m\u001b[0;34m.\u001b[0m\u001b[0m_apply_if_callable\u001b[0m\u001b[0;34m(\u001b[0m\u001b[0mkey\u001b[0m\u001b[0;34m,\u001b[0m \u001b[0mself\u001b[0m\u001b[0;34m)\u001b[0m\u001b[0;34m\u001b[0m\u001b[0m\n\u001b[1;32m    600\u001b[0m         \u001b[0;32mtry\u001b[0m\u001b[0;34m:\u001b[0m\u001b[0;34m\u001b[0m\u001b[0m\n\u001b[0;32m--> 601\u001b[0;31m             \u001b[0mresult\u001b[0m \u001b[0;34m=\u001b[0m \u001b[0mself\u001b[0m\u001b[0;34m.\u001b[0m\u001b[0mindex\u001b[0m\u001b[0;34m.\u001b[0m\u001b[0mget_value\u001b[0m\u001b[0;34m(\u001b[0m\u001b[0mself\u001b[0m\u001b[0;34m,\u001b[0m \u001b[0mkey\u001b[0m\u001b[0;34m)\u001b[0m\u001b[0;34m\u001b[0m\u001b[0m\n\u001b[0m\u001b[1;32m    602\u001b[0m \u001b[0;34m\u001b[0m\u001b[0m\n\u001b[1;32m    603\u001b[0m             \u001b[0;32mif\u001b[0m \u001b[0;32mnot\u001b[0m \u001b[0mis_scalar\u001b[0m\u001b[0;34m(\u001b[0m\u001b[0mresult\u001b[0m\u001b[0;34m)\u001b[0m\u001b[0;34m:\u001b[0m\u001b[0;34m\u001b[0m\u001b[0m\n",
      "\u001b[0;32m/usr/local/lib/python3.4/dist-packages/pandas/core/indexes/base.py\u001b[0m in \u001b[0;36mget_value\u001b[0;34m(self, series, key)\u001b[0m\n\u001b[1;32m   2475\u001b[0m         \u001b[0;32mtry\u001b[0m\u001b[0;34m:\u001b[0m\u001b[0;34m\u001b[0m\u001b[0m\n\u001b[1;32m   2476\u001b[0m             return self._engine.get_value(s, k,\n\u001b[0;32m-> 2477\u001b[0;31m                                           tz=getattr(series.dtype, 'tz', None))\n\u001b[0m\u001b[1;32m   2478\u001b[0m         \u001b[0;32mexcept\u001b[0m \u001b[0mKeyError\u001b[0m \u001b[0;32mas\u001b[0m \u001b[0me1\u001b[0m\u001b[0;34m:\u001b[0m\u001b[0;34m\u001b[0m\u001b[0m\n\u001b[1;32m   2479\u001b[0m             \u001b[0;32mif\u001b[0m \u001b[0mlen\u001b[0m\u001b[0;34m(\u001b[0m\u001b[0mself\u001b[0m\u001b[0;34m)\u001b[0m \u001b[0;34m>\u001b[0m \u001b[0;36m0\u001b[0m \u001b[0;32mand\u001b[0m \u001b[0mself\u001b[0m\u001b[0;34m.\u001b[0m\u001b[0minferred_type\u001b[0m \u001b[0;32min\u001b[0m \u001b[0;34m[\u001b[0m\u001b[0;34m'integer'\u001b[0m\u001b[0;34m,\u001b[0m \u001b[0;34m'boolean'\u001b[0m\u001b[0;34m]\u001b[0m\u001b[0;34m:\u001b[0m\u001b[0;34m\u001b[0m\u001b[0m\n",
      "\u001b[0;32mpandas/_libs/index.pyx\u001b[0m in \u001b[0;36mpandas._libs.index.IndexEngine.get_value (pandas/_libs/index.c:4404)\u001b[0;34m()\u001b[0m\n",
      "\u001b[0;32mpandas/_libs/index.pyx\u001b[0m in \u001b[0;36mpandas._libs.index.IndexEngine.get_value (pandas/_libs/index.c:4087)\u001b[0;34m()\u001b[0m\n",
      "\u001b[0;32mpandas/_libs/index.pyx\u001b[0m in \u001b[0;36mpandas._libs.index.IndexEngine.get_loc (pandas/_libs/index.c:5085)\u001b[0;34m()\u001b[0m\n",
      "\u001b[0;32mpandas/_libs/index_class_helper.pxi\u001b[0m in \u001b[0;36mpandas._libs.index.Int64Engine._check_type (pandas/_libs/index.c:16631)\u001b[0;34m()\u001b[0m\n",
      "\u001b[0;31mKeyError\u001b[0m: False"
     ]
    }
   ],
   "source": [
    "df['Please enter your name']"
   ]
  },
  {
   "cell_type": "code",
   "execution_count": null,
   "metadata": {
    "collapsed": true
   },
   "outputs": [],
   "source": []
  }
 ],
 "metadata": {
  "kernelspec": {
   "display_name": "Python 3",
   "language": "python",
   "name": "python3"
  },
  "language_info": {
   "codemirror_mode": {
    "name": "ipython",
    "version": 3
   },
   "file_extension": ".py",
   "mimetype": "text/x-python",
   "name": "python",
   "nbconvert_exporter": "python",
   "pygments_lexer": "ipython3",
   "version": "3.4.3"
  }
 },
 "nbformat": 4,
 "nbformat_minor": 2
}
